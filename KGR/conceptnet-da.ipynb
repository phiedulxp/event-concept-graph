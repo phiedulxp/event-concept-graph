{
 "cells": [
  {
   "cell_type": "code",
   "execution_count": 1,
   "metadata": {
    "collapsed": false
   },
   "outputs": [
    {
     "name": "stderr",
     "output_type": "stream",
     "text": [
      "D:\\Anaconda3\\lib\\site-packages\\gensim\\utils.py:1197: UserWarning: detected Windows; aliasing chunkize to chunkize_serial\n",
      "  warnings.warn(\"detected Windows; aliasing chunkize to chunkize_serial\")\n"
     ]
    }
   ],
   "source": [
    "from gensim.models import KeyedVectors\n",
    "from gensim.similarities.index import AnnoyIndexer\n",
    "wv = KeyedVectors.load_word2vec_format('glove.6B.300d.bin', binary=True)\n",
    "annoy_index = AnnoyIndexer()\n",
    "annoy_index.load('glove.6B.300d.index')\n",
    "annoy_index.model = wv"
   ]
  },
  {
   "cell_type": "code",
   "execution_count": 2,
   "metadata": {
    "collapsed": false
   },
   "outputs": [
    {
     "data": {
      "text/plain": [
       "'catastrophe'"
      ]
     },
     "execution_count": 2,
     "metadata": {},
     "output_type": "execute_result"
    }
   ],
   "source": [
    "wv.most_similar_to_given('disaster',['crash', 'tragedy', 'accidents', 'disasters', 'collision', 'catastrophe', 'happened', 'occurred'])"
   ]
  },
  {
   "cell_type": "code",
   "execution_count": 3,
   "metadata": {
    "collapsed": true
   },
   "outputs": [],
   "source": [
    "vocab_disasters_and_accdients = dict(wv.most_similar(positive=['disaster','accident',], topn=1000, indexer=annoy_index))"
   ]
  },
  {
   "cell_type": "code",
   "execution_count": 4,
   "metadata": {
    "collapsed": true
   },
   "outputs": [],
   "source": [
    "vocab_disasters = dict(wv.most_similar(positive=['disaster'], topn=1000, indexer=annoy_index))"
   ]
  },
  {
   "cell_type": "code",
   "execution_count": 5,
   "metadata": {
    "collapsed": true
   },
   "outputs": [],
   "source": [
    "vocab_accdients = dict(wv.most_similar(positive=['accident'], topn=1000, indexer=annoy_index))"
   ]
  },
  {
   "cell_type": "code",
   "execution_count": 6,
   "metadata": {
    "collapsed": false
   },
   "outputs": [
    {
     "data": {
      "text/plain": [
       "[('passing', 0.39112114906311035),\n",
       " ('place', 0.3911011219024658),\n",
       " ('lasted', 0.3910970687866211),\n",
       " ('beginning', 0.39105361700057983),\n",
       " ('sunk', 0.3910179138183594),\n",
       " ('supposed', 0.39100825786590576),\n",
       " ('dangers', 0.3909822106361389),\n",
       " ('plans', 0.3909767270088196),\n",
       " ('anniversary', 0.39094823598861694),\n",
       " ('force', 0.39094412326812744)]"
      ]
     },
     "execution_count": 6,
     "metadata": {},
     "output_type": "execute_result"
    }
   ],
   "source": [
    "list(vocab_disasters_and_accdients.items())[-10:]"
   ]
  },
  {
   "cell_type": "code",
   "execution_count": 8,
   "metadata": {
    "collapsed": false
   },
   "outputs": [
    {
     "data": {
      "text/plain": [
       "[('force', 0.3822338581085205),\n",
       " ('they', 0.38219934701919556),\n",
       " ('visit', 0.38216954469680786),\n",
       " ('airline', 0.38215988874435425),\n",
       " ('big', 0.38210928440093994),\n",
       " ('crucial', 0.3820965886116028),\n",
       " ('adequate', 0.38208138942718506),\n",
       " ('southern', 0.38207387924194336),\n",
       " ('part', 0.3820651173591614),\n",
       " ('campaign', 0.3820647597312927)]"
      ]
     },
     "execution_count": 8,
     "metadata": {},
     "output_type": "execute_result"
    }
   ],
   "source": [
    "list(vocab_disasters.items())[-10:]"
   ]
  },
  {
   "cell_type": "code",
   "execution_count": 9,
   "metadata": {
    "collapsed": false
   },
   "outputs": [
    {
     "data": {
      "text/plain": [
       "[('august', 0.38355422019958496),\n",
       " ('closure', 0.38352274894714355),\n",
       " ('described', 0.38349199295043945),\n",
       " ('claiming', 0.3834758996963501),\n",
       " ('bizarre', 0.3834714889526367),\n",
       " ('less', 0.3834567666053772),\n",
       " ('horizon', 0.38344794511795044),\n",
       " ('liability', 0.38336771726608276),\n",
       " ('brief', 0.38336360454559326),\n",
       " ('infant', 0.38335514068603516)]"
      ]
     },
     "execution_count": 9,
     "metadata": {},
     "output_type": "execute_result"
    }
   ],
   "source": [
    "list(vocab_accdients.items())[-10:]"
   ]
  },
  {
   "cell_type": "code",
   "execution_count": 10,
   "metadata": {
    "collapsed": true
   },
   "outputs": [],
   "source": [
    "vocab = list(vocab_disasters_and_accdients.keys())"
   ]
  },
  {
   "cell_type": "code",
   "execution_count": 18,
   "metadata": {
    "collapsed": false
   },
   "outputs": [
    {
     "data": {
      "text/plain": [
       "1000"
      ]
     },
     "execution_count": 18,
     "metadata": {},
     "output_type": "execute_result"
    }
   ],
   "source": [
    "len(vocab)"
   ]
  },
  {
   "cell_type": "code",
   "execution_count": 11,
   "metadata": {
    "collapsed": true
   },
   "outputs": [],
   "source": [
    "vocab_ = list(set(list(vocab_disasters.keys()) + list(vocab_accdients.keys())))"
   ]
  },
  {
   "cell_type": "code",
   "execution_count": 19,
   "metadata": {
    "collapsed": false
   },
   "outputs": [
    {
     "data": {
      "text/plain": [
       "1613"
      ]
     },
     "execution_count": 19,
     "metadata": {},
     "output_type": "execute_result"
    }
   ],
   "source": [
    "len(vocab_)"
   ]
  },
  {
   "cell_type": "code",
   "execution_count": 17,
   "metadata": {
    "collapsed": false
   },
   "outputs": [
    {
     "data": {
      "text/plain": [
       "971"
      ]
     },
     "execution_count": 17,
     "metadata": {},
     "output_type": "execute_result"
    }
   ],
   "source": [
    "len(set(vocab) & set(vocab_))"
   ]
  },
  {
   "cell_type": "code",
   "execution_count": 20,
   "metadata": {
    "collapsed": true
   },
   "outputs": [],
   "source": [
    "vocab = vocab_"
   ]
  },
  {
   "cell_type": "code",
   "execution_count": 21,
   "metadata": {
    "collapsed": true
   },
   "outputs": [],
   "source": [
    "from uri import *"
   ]
  },
  {
   "cell_type": "code",
   "execution_count": 22,
   "metadata": {
    "collapsed": false
   },
   "outputs": [
    {
     "data": {
      "text/plain": [
       "'24 hour clock'"
      ]
     },
     "execution_count": 22,
     "metadata": {},
     "output_type": "execute_result"
    }
   ],
   "source": [
    "uri_to_label('/c/en/24_hour_clock/n')"
   ]
  },
  {
   "cell_type": "code",
   "execution_count": 23,
   "metadata": {
    "collapsed": true
   },
   "outputs": [],
   "source": [
    "import dask.dataframe as dd"
   ]
  },
  {
   "cell_type": "code",
   "execution_count": 24,
   "metadata": {
    "collapsed": false
   },
   "outputs": [],
   "source": [
    "df_conceptnet = dd.read_csv('./ccnet/neo-en-noURL/conceptnet-rel-*.csv',names=['start','rel','end','weight'])"
   ]
  },
  {
   "cell_type": "raw",
   "metadata": {
    "collapsed": false
   },
   "source": [
    "df_probase = dd.read_csv('./ccnet/neo-en-noURL/microsoft-rel-*.csv',names=['start','rel','end','weight'])"
   ]
  },
  {
   "cell_type": "code",
   "execution_count": 25,
   "metadata": {
    "collapsed": false
   },
   "outputs": [
    {
     "name": "stderr",
     "output_type": "stream",
     "text": [
      "D:\\Anaconda3\\lib\\site-packages\\dask\\dataframe\\core.py:2184: UserWarning: `meta` is not specified, inferred from partial data. Please provide `meta` if the result is unexpected.\n",
      "  Before: .apply(func)\n",
      "  After:  .apply(func, meta={'x': 'f8', 'y': 'f8'}) for dataframe result\n",
      "  or:     .apply(func, meta=('x', 'f8'))            for series result\n",
      "  warnings.warn(msg)\n"
     ]
    }
   ],
   "source": [
    "df_conceptnet['start_label'] = df_conceptnet['start'].apply(uri_to_label)\n",
    "df_conceptnet['end_label'] = df_conceptnet['end'].apply(uri_to_label)"
   ]
  },
  {
   "cell_type": "code",
   "execution_count": 26,
   "metadata": {
    "collapsed": false
   },
   "outputs": [
    {
     "data": {
      "text/html": [
       "<div>\n",
       "<style>\n",
       "    .dataframe thead tr:only-child th {\n",
       "        text-align: right;\n",
       "    }\n",
       "\n",
       "    .dataframe thead th {\n",
       "        text-align: left;\n",
       "    }\n",
       "\n",
       "    .dataframe tbody tr th {\n",
       "        vertical-align: top;\n",
       "    }\n",
       "</style>\n",
       "<table border=\"1\" class=\"dataframe\">\n",
       "  <thead>\n",
       "    <tr style=\"text-align: right;\">\n",
       "      <th></th>\n",
       "      <th>start</th>\n",
       "      <th>rel</th>\n",
       "      <th>end</th>\n",
       "      <th>weight</th>\n",
       "      <th>start_label</th>\n",
       "      <th>end_label</th>\n",
       "    </tr>\n",
       "  </thead>\n",
       "  <tbody>\n",
       "    <tr>\n",
       "      <th>0</th>\n",
       "      <td>/c/en/0/n</td>\n",
       "      <td>/r/Antonym</td>\n",
       "      <td>/c/en/1</td>\n",
       "      <td>1.0</td>\n",
       "      <td>0</td>\n",
       "      <td>1</td>\n",
       "    </tr>\n",
       "    <tr>\n",
       "      <th>1</th>\n",
       "      <td>/c/en/12_hour_clock/n</td>\n",
       "      <td>/r/Antonym</td>\n",
       "      <td>/c/en/24_hour_clock</td>\n",
       "      <td>1.0</td>\n",
       "      <td>12 hour clock</td>\n",
       "      <td>24 hour clock</td>\n",
       "    </tr>\n",
       "    <tr>\n",
       "      <th>2</th>\n",
       "      <td>/c/en/24_hour_clock/n</td>\n",
       "      <td>/r/Antonym</td>\n",
       "      <td>/c/en/12_hour_clock</td>\n",
       "      <td>1.0</td>\n",
       "      <td>24 hour clock</td>\n",
       "      <td>12 hour clock</td>\n",
       "    </tr>\n",
       "    <tr>\n",
       "      <th>3</th>\n",
       "      <td>/c/en/5/n</td>\n",
       "      <td>/r/Antonym</td>\n",
       "      <td>/c/en/3</td>\n",
       "      <td>1.0</td>\n",
       "      <td>5</td>\n",
       "      <td>3</td>\n",
       "    </tr>\n",
       "    <tr>\n",
       "      <th>4</th>\n",
       "      <td>/c/en/a.c/n</td>\n",
       "      <td>/r/Antonym</td>\n",
       "      <td>/c/en/d.c</td>\n",
       "      <td>1.0</td>\n",
       "      <td>a.c</td>\n",
       "      <td>d.c</td>\n",
       "    </tr>\n",
       "  </tbody>\n",
       "</table>\n",
       "</div>"
      ],
      "text/plain": [
       "                   start         rel                  end  weight  \\\n",
       "0              /c/en/0/n  /r/Antonym              /c/en/1     1.0   \n",
       "1  /c/en/12_hour_clock/n  /r/Antonym  /c/en/24_hour_clock     1.0   \n",
       "2  /c/en/24_hour_clock/n  /r/Antonym  /c/en/12_hour_clock     1.0   \n",
       "3              /c/en/5/n  /r/Antonym              /c/en/3     1.0   \n",
       "4            /c/en/a.c/n  /r/Antonym            /c/en/d.c     1.0   \n",
       "\n",
       "     start_label      end_label  \n",
       "0              0              1  \n",
       "1  12 hour clock  24 hour clock  \n",
       "2  24 hour clock  12 hour clock  \n",
       "3              5              3  \n",
       "4            a.c            d.c  "
      ]
     },
     "execution_count": 26,
     "metadata": {},
     "output_type": "execute_result"
    }
   ],
   "source": [
    "df_conceptnet.head()"
   ]
  },
  {
   "cell_type": "raw",
   "metadata": {
    "collapsed": false
   },
   "source": [
    "df_probase['start_label'] = df_probase['start'].apply(uri_to_label)\n",
    "df_probase['end_label'] = df_probase['end'].apply(uri_to_label)"
   ]
  },
  {
   "cell_type": "raw",
   "metadata": {
    "collapsed": false
   },
   "source": [
    "df_probase.head()"
   ]
  },
  {
   "cell_type": "raw",
   "metadata": {},
   "source": [
    "df_disaster = dd.concat([df_conceptnet[df_conceptnet.start_label.isin(vocab)],df_conceptnet[df_conceptnet.end_label.isin(vocab)],\\\n",
    "                                   df_probase[df_probase.start_label.isin(vocab)],df_probase[df_probase.end_label.isin(vocab)]])"
   ]
  },
  {
   "cell_type": "code",
   "execution_count": 27,
   "metadata": {
    "collapsed": false
   },
   "outputs": [],
   "source": [
    "df_disaster = dd.concat([df_conceptnet[df_conceptnet.start_label.isin(vocab)],df_conceptnet[df_conceptnet.end_label.isin(vocab)]])"
   ]
  },
  {
   "cell_type": "code",
   "execution_count": 28,
   "metadata": {
    "collapsed": false
   },
   "outputs": [
    {
     "data": {
      "text/html": [
       "<div>\n",
       "<style>\n",
       "    .dataframe thead tr:only-child th {\n",
       "        text-align: right;\n",
       "    }\n",
       "\n",
       "    .dataframe thead th {\n",
       "        text-align: left;\n",
       "    }\n",
       "\n",
       "    .dataframe tbody tr th {\n",
       "        vertical-align: top;\n",
       "    }\n",
       "</style>\n",
       "<table border=\"1\" class=\"dataframe\">\n",
       "  <thead>\n",
       "    <tr style=\"text-align: right;\">\n",
       "      <th></th>\n",
       "      <th>start</th>\n",
       "      <th>rel</th>\n",
       "      <th>end</th>\n",
       "      <th>weight</th>\n",
       "      <th>start_label</th>\n",
       "      <th>end_label</th>\n",
       "    </tr>\n",
       "  </thead>\n",
       "  <tbody>\n",
       "    <tr>\n",
       "      <th>59</th>\n",
       "      <td>/c/en/about</td>\n",
       "      <td>/r/Antonym</td>\n",
       "      <td>/c/en/precisely</td>\n",
       "      <td>0.155</td>\n",
       "      <td>about</td>\n",
       "      <td>precisely</td>\n",
       "    </tr>\n",
       "    <tr>\n",
       "      <th>132</th>\n",
       "      <td>/c/en/accident</td>\n",
       "      <td>/r/Antonym</td>\n",
       "      <td>/c/en/on_purpose</td>\n",
       "      <td>0.319</td>\n",
       "      <td>accident</td>\n",
       "      <td>on purpose</td>\n",
       "    </tr>\n",
       "    <tr>\n",
       "      <th>133</th>\n",
       "      <td>/c/en/accident</td>\n",
       "      <td>/r/Antonym</td>\n",
       "      <td>/c/en/planned</td>\n",
       "      <td>0.147</td>\n",
       "      <td>accident</td>\n",
       "      <td>planned</td>\n",
       "    </tr>\n",
       "    <tr>\n",
       "      <th>134</th>\n",
       "      <td>/c/en/accident</td>\n",
       "      <td>/r/Antonym</td>\n",
       "      <td>/c/en/purpose</td>\n",
       "      <td>0.319</td>\n",
       "      <td>accident</td>\n",
       "      <td>purpose</td>\n",
       "    </tr>\n",
       "    <tr>\n",
       "      <th>135</th>\n",
       "      <td>/c/en/accidentally/r</td>\n",
       "      <td>/r/Antonym</td>\n",
       "      <td>/c/en/intentionally</td>\n",
       "      <td>1.000</td>\n",
       "      <td>accidentally</td>\n",
       "      <td>intentionally</td>\n",
       "    </tr>\n",
       "  </tbody>\n",
       "</table>\n",
       "</div>"
      ],
      "text/plain": [
       "                    start         rel                  end  weight  \\\n",
       "59            /c/en/about  /r/Antonym      /c/en/precisely   0.155   \n",
       "132        /c/en/accident  /r/Antonym     /c/en/on_purpose   0.319   \n",
       "133        /c/en/accident  /r/Antonym        /c/en/planned   0.147   \n",
       "134        /c/en/accident  /r/Antonym        /c/en/purpose   0.319   \n",
       "135  /c/en/accidentally/r  /r/Antonym  /c/en/intentionally   1.000   \n",
       "\n",
       "      start_label      end_label  \n",
       "59          about      precisely  \n",
       "132      accident     on purpose  \n",
       "133      accident        planned  \n",
       "134      accident        purpose  \n",
       "135  accidentally  intentionally  "
      ]
     },
     "execution_count": 28,
     "metadata": {},
     "output_type": "execute_result"
    }
   ],
   "source": [
    "df_disaster.head()"
   ]
  },
  {
   "cell_type": "code",
   "execution_count": 29,
   "metadata": {
    "collapsed": false
   },
   "outputs": [
    {
     "data": {
      "text/html": [
       "<div>\n",
       "<style>\n",
       "    .dataframe thead tr:only-child th {\n",
       "        text-align: right;\n",
       "    }\n",
       "\n",
       "    .dataframe thead th {\n",
       "        text-align: left;\n",
       "    }\n",
       "\n",
       "    .dataframe tbody tr th {\n",
       "        vertical-align: top;\n",
       "    }\n",
       "</style>\n",
       "<table border=\"1\" class=\"dataframe\">\n",
       "  <thead>\n",
       "    <tr style=\"text-align: right;\">\n",
       "      <th></th>\n",
       "      <th>start</th>\n",
       "      <th>rel</th>\n",
       "      <th>end</th>\n",
       "      <th>weight</th>\n",
       "      <th>start_label</th>\n",
       "      <th>end_label</th>\n",
       "    </tr>\n",
       "  </thead>\n",
       "  <tbody>\n",
       "    <tr>\n",
       "      <th>51982</th>\n",
       "      <td>/c/en/victoria/n</td>\n",
       "      <td>/r/dbpedia/product</td>\n",
       "      <td>/c/en/motorcycle</td>\n",
       "      <td>0.5</td>\n",
       "      <td>victoria</td>\n",
       "      <td>motorcycle</td>\n",
       "    </tr>\n",
       "    <tr>\n",
       "      <th>51983</th>\n",
       "      <td>/c/en/volkswagen</td>\n",
       "      <td>/r/dbpedia/product</td>\n",
       "      <td>/c/en/bus</td>\n",
       "      <td>0.5</td>\n",
       "      <td>volkswagen</td>\n",
       "      <td>bus</td>\n",
       "    </tr>\n",
       "    <tr>\n",
       "      <th>51984</th>\n",
       "      <td>/c/en/volkswagen</td>\n",
       "      <td>/r/dbpedia/product</td>\n",
       "      <td>/c/en/car</td>\n",
       "      <td>0.5</td>\n",
       "      <td>volkswagen</td>\n",
       "      <td>car</td>\n",
       "    </tr>\n",
       "    <tr>\n",
       "      <th>51985</th>\n",
       "      <td>/c/en/volkswagen</td>\n",
       "      <td>/r/dbpedia/product</td>\n",
       "      <td>/c/en/truck</td>\n",
       "      <td>0.5</td>\n",
       "      <td>volkswagen</td>\n",
       "      <td>truck</td>\n",
       "    </tr>\n",
       "    <tr>\n",
       "      <th>52001</th>\n",
       "      <td>/c/en/zanella</td>\n",
       "      <td>/r/dbpedia/product</td>\n",
       "      <td>/c/en/motorcycle</td>\n",
       "      <td>0.5</td>\n",
       "      <td>zanella</td>\n",
       "      <td>motorcycle</td>\n",
       "    </tr>\n",
       "  </tbody>\n",
       "</table>\n",
       "</div>"
      ],
      "text/plain": [
       "                  start                 rel               end  weight  \\\n",
       "51982  /c/en/victoria/n  /r/dbpedia/product  /c/en/motorcycle     0.5   \n",
       "51983  /c/en/volkswagen  /r/dbpedia/product         /c/en/bus     0.5   \n",
       "51984  /c/en/volkswagen  /r/dbpedia/product         /c/en/car     0.5   \n",
       "51985  /c/en/volkswagen  /r/dbpedia/product       /c/en/truck     0.5   \n",
       "52001     /c/en/zanella  /r/dbpedia/product  /c/en/motorcycle     0.5   \n",
       "\n",
       "      start_label   end_label  \n",
       "51982    victoria  motorcycle  \n",
       "51983  volkswagen         bus  \n",
       "51984  volkswagen         car  \n",
       "51985  volkswagen       truck  \n",
       "52001     zanella  motorcycle  "
      ]
     },
     "execution_count": 29,
     "metadata": {},
     "output_type": "execute_result"
    }
   ],
   "source": [
    "df_disaster.tail()"
   ]
  },
  {
   "cell_type": "code",
   "execution_count": 32,
   "metadata": {
    "collapsed": false
   },
   "outputs": [
    {
     "data": {
      "text/plain": [
       "['conceptnet_disasters/df-disasters-00.csv',\n",
       " 'conceptnet_disasters/df-disasters-01.csv',\n",
       " 'conceptnet_disasters/df-disasters-02.csv',\n",
       " 'conceptnet_disasters/df-disasters-03.csv',\n",
       " 'conceptnet_disasters/df-disasters-04.csv',\n",
       " 'conceptnet_disasters/df-disasters-05.csv',\n",
       " 'conceptnet_disasters/df-disasters-06.csv',\n",
       " 'conceptnet_disasters/df-disasters-07.csv',\n",
       " 'conceptnet_disasters/df-disasters-08.csv',\n",
       " 'conceptnet_disasters/df-disasters-09.csv',\n",
       " 'conceptnet_disasters/df-disasters-10.csv',\n",
       " 'conceptnet_disasters/df-disasters-11.csv',\n",
       " 'conceptnet_disasters/df-disasters-12.csv',\n",
       " 'conceptnet_disasters/df-disasters-13.csv',\n",
       " 'conceptnet_disasters/df-disasters-14.csv',\n",
       " 'conceptnet_disasters/df-disasters-15.csv',\n",
       " 'conceptnet_disasters/df-disasters-16.csv',\n",
       " 'conceptnet_disasters/df-disasters-17.csv',\n",
       " 'conceptnet_disasters/df-disasters-18.csv',\n",
       " 'conceptnet_disasters/df-disasters-19.csv',\n",
       " 'conceptnet_disasters/df-disasters-20.csv',\n",
       " 'conceptnet_disasters/df-disasters-21.csv',\n",
       " 'conceptnet_disasters/df-disasters-22.csv',\n",
       " 'conceptnet_disasters/df-disasters-23.csv',\n",
       " 'conceptnet_disasters/df-disasters-24.csv',\n",
       " 'conceptnet_disasters/df-disasters-25.csv',\n",
       " 'conceptnet_disasters/df-disasters-26.csv',\n",
       " 'conceptnet_disasters/df-disasters-27.csv',\n",
       " 'conceptnet_disasters/df-disasters-28.csv',\n",
       " 'conceptnet_disasters/df-disasters-29.csv',\n",
       " 'conceptnet_disasters/df-disasters-30.csv',\n",
       " 'conceptnet_disasters/df-disasters-31.csv',\n",
       " 'conceptnet_disasters/df-disasters-32.csv',\n",
       " 'conceptnet_disasters/df-disasters-33.csv',\n",
       " 'conceptnet_disasters/df-disasters-34.csv',\n",
       " 'conceptnet_disasters/df-disasters-35.csv',\n",
       " 'conceptnet_disasters/df-disasters-36.csv',\n",
       " 'conceptnet_disasters/df-disasters-37.csv',\n",
       " 'conceptnet_disasters/df-disasters-38.csv',\n",
       " 'conceptnet_disasters/df-disasters-39.csv',\n",
       " 'conceptnet_disasters/df-disasters-40.csv',\n",
       " 'conceptnet_disasters/df-disasters-41.csv',\n",
       " 'conceptnet_disasters/df-disasters-42.csv',\n",
       " 'conceptnet_disasters/df-disasters-43.csv',\n",
       " 'conceptnet_disasters/df-disasters-44.csv',\n",
       " 'conceptnet_disasters/df-disasters-45.csv',\n",
       " 'conceptnet_disasters/df-disasters-46.csv',\n",
       " 'conceptnet_disasters/df-disasters-47.csv',\n",
       " 'conceptnet_disasters/df-disasters-48.csv',\n",
       " 'conceptnet_disasters/df-disasters-49.csv',\n",
       " 'conceptnet_disasters/df-disasters-50.csv',\n",
       " 'conceptnet_disasters/df-disasters-51.csv',\n",
       " 'conceptnet_disasters/df-disasters-52.csv',\n",
       " 'conceptnet_disasters/df-disasters-53.csv',\n",
       " 'conceptnet_disasters/df-disasters-54.csv',\n",
       " 'conceptnet_disasters/df-disasters-55.csv',\n",
       " 'conceptnet_disasters/df-disasters-56.csv',\n",
       " 'conceptnet_disasters/df-disasters-57.csv',\n",
       " 'conceptnet_disasters/df-disasters-58.csv',\n",
       " 'conceptnet_disasters/df-disasters-59.csv',\n",
       " 'conceptnet_disasters/df-disasters-60.csv',\n",
       " 'conceptnet_disasters/df-disasters-61.csv',\n",
       " 'conceptnet_disasters/df-disasters-62.csv',\n",
       " 'conceptnet_disasters/df-disasters-63.csv',\n",
       " 'conceptnet_disasters/df-disasters-64.csv',\n",
       " 'conceptnet_disasters/df-disasters-65.csv',\n",
       " 'conceptnet_disasters/df-disasters-66.csv',\n",
       " 'conceptnet_disasters/df-disasters-67.csv',\n",
       " 'conceptnet_disasters/df-disasters-68.csv',\n",
       " 'conceptnet_disasters/df-disasters-69.csv',\n",
       " 'conceptnet_disasters/df-disasters-70.csv',\n",
       " 'conceptnet_disasters/df-disasters-71.csv',\n",
       " 'conceptnet_disasters/df-disasters-72.csv',\n",
       " 'conceptnet_disasters/df-disasters-73.csv']"
      ]
     },
     "execution_count": 32,
     "metadata": {},
     "output_type": "execute_result"
    }
   ],
   "source": [
    "df_disaster[['start','rel','end','weight']].to_csv('conceptnet_disasters/df-disasters-*.csv',index=False,header=False)"
   ]
  },
  {
   "cell_type": "code",
   "execution_count": 30,
   "metadata": {
    "collapsed": false
   },
   "outputs": [
    {
     "data": {
      "text/plain": [
       "287727"
      ]
     },
     "execution_count": 30,
     "metadata": {},
     "output_type": "execute_result"
    }
   ],
   "source": [
    "len(df_disaster)"
   ]
  },
  {
   "cell_type": "code",
   "execution_count": 33,
   "metadata": {
    "collapsed": true
   },
   "outputs": [],
   "source": [
    "df_da = dd.read_csv('conceptnet_disasters/df-disasters-*.csv',names=['start','rel','end','weight'])"
   ]
  },
  {
   "cell_type": "code",
   "execution_count": 34,
   "metadata": {
    "collapsed": false
   },
   "outputs": [
    {
     "data": {
      "text/html": [
       "<div>\n",
       "<style>\n",
       "    .dataframe thead tr:only-child th {\n",
       "        text-align: right;\n",
       "    }\n",
       "\n",
       "    .dataframe thead th {\n",
       "        text-align: left;\n",
       "    }\n",
       "\n",
       "    .dataframe tbody tr th {\n",
       "        vertical-align: top;\n",
       "    }\n",
       "</style>\n",
       "<table border=\"1\" class=\"dataframe\">\n",
       "  <thead>\n",
       "    <tr style=\"text-align: right;\">\n",
       "      <th></th>\n",
       "      <th>start</th>\n",
       "      <th>rel</th>\n",
       "      <th>end</th>\n",
       "      <th>weight</th>\n",
       "    </tr>\n",
       "  </thead>\n",
       "  <tbody>\n",
       "    <tr>\n",
       "      <th>0</th>\n",
       "      <td>/c/en/about</td>\n",
       "      <td>/r/Antonym</td>\n",
       "      <td>/c/en/precisely</td>\n",
       "      <td>0.155</td>\n",
       "    </tr>\n",
       "    <tr>\n",
       "      <th>1</th>\n",
       "      <td>/c/en/accident</td>\n",
       "      <td>/r/Antonym</td>\n",
       "      <td>/c/en/on_purpose</td>\n",
       "      <td>0.319</td>\n",
       "    </tr>\n",
       "    <tr>\n",
       "      <th>2</th>\n",
       "      <td>/c/en/accident</td>\n",
       "      <td>/r/Antonym</td>\n",
       "      <td>/c/en/planned</td>\n",
       "      <td>0.147</td>\n",
       "    </tr>\n",
       "    <tr>\n",
       "      <th>3</th>\n",
       "      <td>/c/en/accident</td>\n",
       "      <td>/r/Antonym</td>\n",
       "      <td>/c/en/purpose</td>\n",
       "      <td>0.319</td>\n",
       "    </tr>\n",
       "    <tr>\n",
       "      <th>4</th>\n",
       "      <td>/c/en/accidentally/r</td>\n",
       "      <td>/r/Antonym</td>\n",
       "      <td>/c/en/intentionally</td>\n",
       "      <td>1.000</td>\n",
       "    </tr>\n",
       "  </tbody>\n",
       "</table>\n",
       "</div>"
      ],
      "text/plain": [
       "                  start         rel                  end  weight\n",
       "0           /c/en/about  /r/Antonym      /c/en/precisely   0.155\n",
       "1        /c/en/accident  /r/Antonym     /c/en/on_purpose   0.319\n",
       "2        /c/en/accident  /r/Antonym        /c/en/planned   0.147\n",
       "3        /c/en/accident  /r/Antonym        /c/en/purpose   0.319\n",
       "4  /c/en/accidentally/r  /r/Antonym  /c/en/intentionally   1.000"
      ]
     },
     "execution_count": 34,
     "metadata": {},
     "output_type": "execute_result"
    }
   ],
   "source": [
    "df_da.head()"
   ]
  }
 ],
 "metadata": {
  "kernelspec": {
   "display_name": "Python 3",
   "language": "python",
   "name": "python3"
  },
  "language_info": {
   "codemirror_mode": {
    "name": "ipython",
    "version": 3
   },
   "file_extension": ".py",
   "mimetype": "text/x-python",
   "name": "python",
   "nbconvert_exporter": "python",
   "pygments_lexer": "ipython3",
   "version": "3.6.4"
  }
 },
 "nbformat": 4,
 "nbformat_minor": 2
}
