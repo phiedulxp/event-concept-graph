{
 "cells": [
  {
   "cell_type": "code",
   "execution_count": 1,
   "metadata": {
    "collapsed": true
   },
   "outputs": [],
   "source": [
    "import codecs"
   ]
  },
  {
   "cell_type": "code",
   "execution_count": 2,
   "metadata": {
    "collapsed": true
   },
   "outputs": [],
   "source": [
    "import dask.dataframe as dd"
   ]
  },
  {
   "cell_type": "code",
   "execution_count": 3,
   "metadata": {
    "collapsed": true
   },
   "outputs": [],
   "source": [
    "df_dataset = dd.read_csv('./conceptnet_disasters/df-disasters-*.csv',names=['start','rel','end','weight'])"
   ]
  },
  {
   "cell_type": "code",
   "execution_count": 4,
   "metadata": {
    "collapsed": false
   },
   "outputs": [
    {
     "data": {
      "text/html": [
       "<div>\n",
       "<style>\n",
       "    .dataframe thead tr:only-child th {\n",
       "        text-align: right;\n",
       "    }\n",
       "\n",
       "    .dataframe thead th {\n",
       "        text-align: left;\n",
       "    }\n",
       "\n",
       "    .dataframe tbody tr th {\n",
       "        vertical-align: top;\n",
       "    }\n",
       "</style>\n",
       "<table border=\"1\" class=\"dataframe\">\n",
       "  <thead>\n",
       "    <tr style=\"text-align: right;\">\n",
       "      <th></th>\n",
       "      <th>start</th>\n",
       "      <th>rel</th>\n",
       "      <th>end</th>\n",
       "      <th>weight</th>\n",
       "    </tr>\n",
       "  </thead>\n",
       "  <tbody>\n",
       "    <tr>\n",
       "      <th>0</th>\n",
       "      <td>/c/en/about</td>\n",
       "      <td>/r/Antonym</td>\n",
       "      <td>/c/en/precisely</td>\n",
       "      <td>0.155</td>\n",
       "    </tr>\n",
       "    <tr>\n",
       "      <th>1</th>\n",
       "      <td>/c/en/accident</td>\n",
       "      <td>/r/Antonym</td>\n",
       "      <td>/c/en/on_purpose</td>\n",
       "      <td>0.319</td>\n",
       "    </tr>\n",
       "    <tr>\n",
       "      <th>2</th>\n",
       "      <td>/c/en/accident</td>\n",
       "      <td>/r/Antonym</td>\n",
       "      <td>/c/en/planned</td>\n",
       "      <td>0.147</td>\n",
       "    </tr>\n",
       "    <tr>\n",
       "      <th>3</th>\n",
       "      <td>/c/en/accident</td>\n",
       "      <td>/r/Antonym</td>\n",
       "      <td>/c/en/purpose</td>\n",
       "      <td>0.319</td>\n",
       "    </tr>\n",
       "    <tr>\n",
       "      <th>4</th>\n",
       "      <td>/c/en/accidentally/r</td>\n",
       "      <td>/r/Antonym</td>\n",
       "      <td>/c/en/intentionally</td>\n",
       "      <td>1.000</td>\n",
       "    </tr>\n",
       "  </tbody>\n",
       "</table>\n",
       "</div>"
      ],
      "text/plain": [
       "                  start         rel                  end  weight\n",
       "0           /c/en/about  /r/Antonym      /c/en/precisely   0.155\n",
       "1        /c/en/accident  /r/Antonym     /c/en/on_purpose   0.319\n",
       "2        /c/en/accident  /r/Antonym        /c/en/planned   0.147\n",
       "3        /c/en/accident  /r/Antonym        /c/en/purpose   0.319\n",
       "4  /c/en/accidentally/r  /r/Antonym  /c/en/intentionally   1.000"
      ]
     },
     "execution_count": 4,
     "metadata": {},
     "output_type": "execute_result"
    }
   ],
   "source": [
    "df_dataset.head()"
   ]
  },
  {
   "cell_type": "code",
   "execution_count": 5,
   "metadata": {
    "collapsed": false
   },
   "outputs": [
    {
     "data": {
      "text/html": [
       "<div>\n",
       "<style>\n",
       "    .dataframe thead tr:only-child th {\n",
       "        text-align: right;\n",
       "    }\n",
       "\n",
       "    .dataframe thead th {\n",
       "        text-align: left;\n",
       "    }\n",
       "\n",
       "    .dataframe tbody tr th {\n",
       "        vertical-align: top;\n",
       "    }\n",
       "</style>\n",
       "<table border=\"1\" class=\"dataframe\">\n",
       "  <thead>\n",
       "    <tr style=\"text-align: right;\">\n",
       "      <th></th>\n",
       "      <th>start</th>\n",
       "      <th>rel</th>\n",
       "      <th>end</th>\n",
       "      <th>weight</th>\n",
       "    </tr>\n",
       "  </thead>\n",
       "  <tbody>\n",
       "    <tr>\n",
       "      <th>1291</th>\n",
       "      <td>/c/en/victoria/n</td>\n",
       "      <td>/r/dbpedia/product</td>\n",
       "      <td>/c/en/motorcycle</td>\n",
       "      <td>0.5</td>\n",
       "    </tr>\n",
       "    <tr>\n",
       "      <th>1292</th>\n",
       "      <td>/c/en/volkswagen</td>\n",
       "      <td>/r/dbpedia/product</td>\n",
       "      <td>/c/en/bus</td>\n",
       "      <td>0.5</td>\n",
       "    </tr>\n",
       "    <tr>\n",
       "      <th>1293</th>\n",
       "      <td>/c/en/volkswagen</td>\n",
       "      <td>/r/dbpedia/product</td>\n",
       "      <td>/c/en/car</td>\n",
       "      <td>0.5</td>\n",
       "    </tr>\n",
       "    <tr>\n",
       "      <th>1294</th>\n",
       "      <td>/c/en/volkswagen</td>\n",
       "      <td>/r/dbpedia/product</td>\n",
       "      <td>/c/en/truck</td>\n",
       "      <td>0.5</td>\n",
       "    </tr>\n",
       "    <tr>\n",
       "      <th>1295</th>\n",
       "      <td>/c/en/zanella</td>\n",
       "      <td>/r/dbpedia/product</td>\n",
       "      <td>/c/en/motorcycle</td>\n",
       "      <td>0.5</td>\n",
       "    </tr>\n",
       "  </tbody>\n",
       "</table>\n",
       "</div>"
      ],
      "text/plain": [
       "                 start                 rel               end  weight\n",
       "1291  /c/en/victoria/n  /r/dbpedia/product  /c/en/motorcycle     0.5\n",
       "1292  /c/en/volkswagen  /r/dbpedia/product         /c/en/bus     0.5\n",
       "1293  /c/en/volkswagen  /r/dbpedia/product         /c/en/car     0.5\n",
       "1294  /c/en/volkswagen  /r/dbpedia/product       /c/en/truck     0.5\n",
       "1295     /c/en/zanella  /r/dbpedia/product  /c/en/motorcycle     0.5"
      ]
     },
     "execution_count": 5,
     "metadata": {},
     "output_type": "execute_result"
    }
   ],
   "source": [
    "df_dataset.tail()"
   ]
  },
  {
   "cell_type": "markdown",
   "metadata": {},
   "source": [
    "### Datasets"
   ]
  },
  {
   "cell_type": "code",
   "execution_count": 6,
   "metadata": {
    "collapsed": false
   },
   "outputs": [
    {
     "data": {
      "text/plain": [
       "287727"
      ]
     },
     "execution_count": 6,
     "metadata": {},
     "output_type": "execute_result"
    }
   ],
   "source": [
    "len(df_dataset)"
   ]
  },
  {
   "cell_type": "markdown",
   "metadata": {},
   "source": [
    "### Concepts"
   ]
  },
  {
   "cell_type": "code",
   "execution_count": 7,
   "metadata": {
    "collapsed": false
   },
   "outputs": [],
   "source": [
    "x = list(df_dataset.start.unique().values.compute())+list(df_dataset.end.unique().values.compute())"
   ]
  },
  {
   "cell_type": "code",
   "execution_count": 8,
   "metadata": {
    "collapsed": false
   },
   "outputs": [
    {
     "data": {
      "text/plain": [
       "174915"
      ]
     },
     "execution_count": 8,
     "metadata": {},
     "output_type": "execute_result"
    }
   ],
   "source": [
    "len(x)"
   ]
  },
  {
   "cell_type": "markdown",
   "metadata": {},
   "source": [
    "### Relations"
   ]
  },
  {
   "cell_type": "code",
   "execution_count": 9,
   "metadata": {
    "collapsed": false
   },
   "outputs": [
    {
     "data": {
      "text/plain": [
       "array(['/r/Antonym', '/r/AtLocation', '/r/CapableOf', '/r/Causes',\n",
       "       '/r/CausesDesire', '/r/CreatedBy', '/r/DefinedAs',\n",
       "       '/r/DerivedFrom', '/r/Desires', '/r/DistinctFrom', '/r/Entails',\n",
       "       '/r/EtymologicallyRelatedTo', '/r/FormOf', '/r/HasA',\n",
       "       '/r/HasContext', '/r/HasFirstSubevent', '/r/HasLastSubevent',\n",
       "       '/r/HasPrerequisite', '/r/HasProperty', '/r/HasSubevent',\n",
       "       '/r/InstanceOf', '/r/IsA', '/r/LocatedNear', '/r/MadeOf',\n",
       "       '/r/MannerOf', '/r/MotivatedByGoal', '/r/NotCapableOf',\n",
       "       '/r/NotDesires', '/r/NotHasProperty', '/r/PartOf',\n",
       "       '/r/ReceivesAction', '/r/RelatedTo', '/r/SimilarTo', '/r/Synonym',\n",
       "       '/r/UsedFor', '/r/dbpedia/capital', '/r/dbpedia/field',\n",
       "       '/r/dbpedia/genre', '/r/dbpedia/genus', '/r/dbpedia/influencedBy',\n",
       "       '/r/dbpedia/language', '/r/dbpedia/occupation',\n",
       "       '/r/dbpedia/product', '/r/EtymologicallyDerivedFrom',\n",
       "       '/r/dbpedia/knownFor'], dtype=object)"
      ]
     },
     "execution_count": 9,
     "metadata": {},
     "output_type": "execute_result"
    }
   ],
   "source": [
    "df_dataset.rel.unique().values.compute()"
   ]
  },
  {
   "cell_type": "code",
   "execution_count": 10,
   "metadata": {
    "collapsed": false
   },
   "outputs": [
    {
     "data": {
      "text/plain": [
       "45"
      ]
     },
     "execution_count": 10,
     "metadata": {},
     "output_type": "execute_result"
    }
   ],
   "source": [
    "df_dataset.rel.unique().size.compute()"
   ]
  },
  {
   "cell_type": "code",
   "execution_count": 11,
   "metadata": {
    "collapsed": true
   },
   "outputs": [],
   "source": [
    "# relation rank\n",
    "rel_count = df_dataset.groupby(['rel']).size().compute()"
   ]
  },
  {
   "cell_type": "code",
   "execution_count": 12,
   "metadata": {
    "collapsed": true
   },
   "outputs": [],
   "source": [
    "%matplotlib inline"
   ]
  },
  {
   "cell_type": "code",
   "execution_count": 13,
   "metadata": {
    "collapsed": false,
    "scrolled": true
   },
   "outputs": [
    {
     "data": {
      "text/plain": [
       "<matplotlib.axes._subplots.AxesSubplot at 0x1e72706d518>"
      ]
     },
     "execution_count": 13,
     "metadata": {},
     "output_type": "execute_result"
    },
    {
     "data": {
      "image/png": "[encoded data removed]",
      "text/plain": [
       "<matplotlib.figure.Figure at 0x1e726d07400>"
      ]
     },
     "metadata": {},
     "output_type": "display_data"
    }
   ],
   "source": [
    "rel_count.plot()"
   ]
  },
  {
   "cell_type": "code",
   "execution_count": 14,
   "metadata": {
    "collapsed": false
   },
   "outputs": [
    {
     "data": {
      "text/plain": [
       "rel\n",
       "/r/RelatedTo                    174326\n",
       "/r/IsA                           26654\n",
       "/r/HasContext                    17300\n",
       "/r/DerivedFrom                   12262\n",
       "/r/Synonym                       11719\n",
       "/r/CapableOf                      5581\n",
       "/r/FormOf                         5061\n",
       "/r/AtLocation                     3656\n",
       "/r/Antonym                        3359\n",
       "/r/UsedFor                        2802\n",
       "/r/SimilarTo                      2794\n",
       "/r/Desires                        2664\n",
       "/r/NotDesires                     2643\n",
       "/r/MannerOf                       2515\n",
       "/r/EtymologicallyRelatedTo        2316\n",
       "/r/HasSubevent                    1664\n",
       "/r/Causes                         1469\n",
       "/r/HasPrerequisite                1435\n",
       "/r/PartOf                         1335\n",
       "/r/DistinctFrom                   1275\n",
       "/r/HasProperty                    1265\n",
       "/r/HasA                            731\n",
       "/r/ReceivesAction                  635\n",
       "/r/MotivatedByGoal                 591\n",
       "/r/CausesDesire                    294\n",
       "/r/DefinedAs                       203\n",
       "/r/dbpedia/genre                   174\n",
       "/r/HasLastSubevent                 158\n",
       "/r/HasFirstSubevent                157\n",
       "/r/InstanceOf                      102\n",
       "/r/MadeOf                           95\n",
       "/r/dbpedia/product                  91\n",
       "/r/CreatedBy                        73\n",
       "/r/Entails                          73\n",
       "/r/NotCapableOf                     59\n",
       "/r/NotHasProperty                   55\n",
       "/r/dbpedia/language                 42\n",
       "/r/dbpedia/genus                    20\n",
       "/r/dbpedia/occupation               18\n",
       "/r/dbpedia/knownFor                 15\n",
       "/r/dbpedia/capital                  13\n",
       "/r/LocatedNear                      12\n",
       "/r/dbpedia/influencedBy             11\n",
       "/r/dbpedia/field                     8\n",
       "/r/EtymologicallyDerivedFrom         2\n",
       "dtype: int64"
      ]
     },
     "execution_count": 14,
     "metadata": {},
     "output_type": "execute_result"
    }
   ],
   "source": [
    "rel_count.sort_values(ascending=False)"
   ]
  },
  {
   "cell_type": "code",
   "execution_count": 15,
   "metadata": {
    "collapsed": true
   },
   "outputs": [],
   "source": [
    "evidence_rel = list(rel_count.sort_values(ascending=False)[1:-9].keys())"
   ]
  },
  {
   "cell_type": "code",
   "execution_count": 16,
   "metadata": {
    "collapsed": false
   },
   "outputs": [
    {
     "data": {
      "text/plain": [
       "35"
      ]
     },
     "execution_count": 16,
     "metadata": {},
     "output_type": "execute_result"
    }
   ],
   "source": [
    "len(evidence_rel)"
   ]
  },
  {
   "cell_type": "code",
   "execution_count": 17,
   "metadata": {
    "collapsed": false
   },
   "outputs": [
    {
     "data": {
      "text/plain": [
       "['/r/IsA',\n",
       " '/r/HasContext',\n",
       " '/r/DerivedFrom',\n",
       " '/r/Synonym',\n",
       " '/r/CapableOf',\n",
       " '/r/FormOf',\n",
       " '/r/AtLocation',\n",
       " '/r/Antonym',\n",
       " '/r/UsedFor',\n",
       " '/r/SimilarTo',\n",
       " '/r/Desires',\n",
       " '/r/NotDesires',\n",
       " '/r/MannerOf',\n",
       " '/r/EtymologicallyRelatedTo',\n",
       " '/r/HasSubevent',\n",
       " '/r/Causes',\n",
       " '/r/HasPrerequisite',\n",
       " '/r/PartOf',\n",
       " '/r/DistinctFrom',\n",
       " '/r/HasProperty',\n",
       " '/r/HasA',\n",
       " '/r/ReceivesAction',\n",
       " '/r/MotivatedByGoal',\n",
       " '/r/CausesDesire',\n",
       " '/r/DefinedAs',\n",
       " '/r/dbpedia/genre',\n",
       " '/r/HasLastSubevent',\n",
       " '/r/HasFirstSubevent',\n",
       " '/r/InstanceOf',\n",
       " '/r/MadeOf',\n",
       " '/r/dbpedia/product',\n",
       " '/r/CreatedBy',\n",
       " '/r/Entails',\n",
       " '/r/NotCapableOf',\n",
       " '/r/NotHasProperty']"
      ]
     },
     "execution_count": 17,
     "metadata": {},
     "output_type": "execute_result"
    }
   ],
   "source": [
    "evidence_rel"
   ]
  },
  {
   "cell_type": "markdown",
   "metadata": {},
   "source": [
    "### Tasks"
   ]
  },
  {
   "cell_type": "raw",
   "metadata": {},
   "source": [
    "• 同义词-表达多样性 :`/r/FormOf`|:`/r/Synonym`|:`/r/DerivedFrom`\n",
    "• 上下位 :`/r/IsA`|:`/r/MannerOf`\n",
    "• 因果关系 :`/r/Causes`\n",
    "• 目的关系 :`/r/MotivatedByGoal`|:`/r/Desires`\n",
    "• 包含关系 :`/r/HasSubevent`\n",
    "• 条件关系 :`/r/HasPrerequisite`|:`/r/Entails`"
   ]
  },
  {
   "cell_type": "code",
   "execution_count": 18,
   "metadata": {
    "collapsed": true
   },
   "outputs": [],
   "source": [
    "task_rel = '/r/Causes'"
   ]
  },
  {
   "cell_type": "code",
   "execution_count": 19,
   "metadata": {
    "collapsed": true
   },
   "outputs": [],
   "source": [
    "df_kgr_ = df_dataset[df_dataset.rel.isin(evidence_rel)]"
   ]
  },
  {
   "cell_type": "code",
   "execution_count": 20,
   "metadata": {
    "collapsed": false
   },
   "outputs": [
    {
     "data": {
      "text/html": [
       "<div>\n",
       "<style>\n",
       "    .dataframe thead tr:only-child th {\n",
       "        text-align: right;\n",
       "    }\n",
       "\n",
       "    .dataframe thead th {\n",
       "        text-align: left;\n",
       "    }\n",
       "\n",
       "    .dataframe tbody tr th {\n",
       "        vertical-align: top;\n",
       "    }\n",
       "</style>\n",
       "<table border=\"1\" class=\"dataframe\">\n",
       "  <thead>\n",
       "    <tr style=\"text-align: right;\">\n",
       "      <th></th>\n",
       "      <th>start</th>\n",
       "      <th>rel</th>\n",
       "      <th>end</th>\n",
       "      <th>weight</th>\n",
       "    </tr>\n",
       "  </thead>\n",
       "  <tbody>\n",
       "    <tr>\n",
       "      <th>0</th>\n",
       "      <td>/c/en/about</td>\n",
       "      <td>/r/Antonym</td>\n",
       "      <td>/c/en/precisely</td>\n",
       "      <td>0.155</td>\n",
       "    </tr>\n",
       "    <tr>\n",
       "      <th>1</th>\n",
       "      <td>/c/en/accident</td>\n",
       "      <td>/r/Antonym</td>\n",
       "      <td>/c/en/on_purpose</td>\n",
       "      <td>0.319</td>\n",
       "    </tr>\n",
       "    <tr>\n",
       "      <th>2</th>\n",
       "      <td>/c/en/accident</td>\n",
       "      <td>/r/Antonym</td>\n",
       "      <td>/c/en/planned</td>\n",
       "      <td>0.147</td>\n",
       "    </tr>\n",
       "    <tr>\n",
       "      <th>3</th>\n",
       "      <td>/c/en/accident</td>\n",
       "      <td>/r/Antonym</td>\n",
       "      <td>/c/en/purpose</td>\n",
       "      <td>0.319</td>\n",
       "    </tr>\n",
       "    <tr>\n",
       "      <th>4</th>\n",
       "      <td>/c/en/accidentally/r</td>\n",
       "      <td>/r/Antonym</td>\n",
       "      <td>/c/en/intentionally</td>\n",
       "      <td>1.000</td>\n",
       "    </tr>\n",
       "  </tbody>\n",
       "</table>\n",
       "</div>"
      ],
      "text/plain": [
       "                  start         rel                  end  weight\n",
       "0           /c/en/about  /r/Antonym      /c/en/precisely   0.155\n",
       "1        /c/en/accident  /r/Antonym     /c/en/on_purpose   0.319\n",
       "2        /c/en/accident  /r/Antonym        /c/en/planned   0.147\n",
       "3        /c/en/accident  /r/Antonym        /c/en/purpose   0.319\n",
       "4  /c/en/accidentally/r  /r/Antonym  /c/en/intentionally   1.000"
      ]
     },
     "execution_count": 20,
     "metadata": {},
     "output_type": "execute_result"
    }
   ],
   "source": [
    "df_kgr_.head()"
   ]
  },
  {
   "cell_type": "code",
   "execution_count": 21,
   "metadata": {
    "collapsed": false
   },
   "outputs": [
    {
     "data": {
      "text/plain": [
       "113260"
      ]
     },
     "execution_count": 21,
     "metadata": {},
     "output_type": "execute_result"
    }
   ],
   "source": [
    "len(df_kgr_)"
   ]
  },
  {
   "cell_type": "code",
   "execution_count": 22,
   "metadata": {
    "collapsed": true
   },
   "outputs": [],
   "source": [
    "# for one file, first collect all patition compute()"
   ]
  },
  {
   "cell_type": "code",
   "execution_count": 24,
   "metadata": {
    "collapsed": false
   },
   "outputs": [],
   "source": [
    "kgr_inv = [{'start':row[1]['end'],'rel':row[1]['rel']+'_inv','end':row[1]['start'],'weight':row[1]['weight']} for row in df_kgr_.iterrows()]"
   ]
  },
  {
   "cell_type": "code",
   "execution_count": 25,
   "metadata": {
    "collapsed": false
   },
   "outputs": [
    {
     "data": {
      "text/plain": [
       "[{'end': '/c/en/about',\n",
       "  'rel': '/r/Antonym_inv',\n",
       "  'start': '/c/en/precisely',\n",
       "  'weight': 0.155},\n",
       " {'end': '/c/en/accident',\n",
       "  'rel': '/r/Antonym_inv',\n",
       "  'start': '/c/en/on_purpose',\n",
       "  'weight': 0.319},\n",
       " {'end': '/c/en/accident',\n",
       "  'rel': '/r/Antonym_inv',\n",
       "  'start': '/c/en/planned',\n",
       "  'weight': 0.147},\n",
       " {'end': '/c/en/accident',\n",
       "  'rel': '/r/Antonym_inv',\n",
       "  'start': '/c/en/purpose',\n",
       "  'weight': 0.319},\n",
       " {'end': '/c/en/accidentally/r',\n",
       "  'rel': '/r/Antonym_inv',\n",
       "  'start': '/c/en/intentionally',\n",
       "  'weight': 1.0}]"
      ]
     },
     "execution_count": 25,
     "metadata": {},
     "output_type": "execute_result"
    }
   ],
   "source": [
    "kgr_inv[:5]"
   ]
  },
  {
   "cell_type": "code",
   "execution_count": 26,
   "metadata": {
    "collapsed": true
   },
   "outputs": [],
   "source": [
    "import pandas as pd"
   ]
  },
  {
   "cell_type": "code",
   "execution_count": 27,
   "metadata": {
    "collapsed": false
   },
   "outputs": [],
   "source": [
    "df_kgr_inv = dd.from_pandas(pd.DataFrame.from_records(kgr_inv),npartitions=1)"
   ]
  },
  {
   "cell_type": "code",
   "execution_count": 28,
   "metadata": {
    "collapsed": false
   },
   "outputs": [],
   "source": [
    "df_kgr = dd.concat([df_kgr_,df_kgr_inv],interleave_partitions=True)"
   ]
  },
  {
   "cell_type": "code",
   "execution_count": null,
   "metadata": {
    "collapsed": true
   },
   "outputs": [],
   "source": [
    "# compute() not in-place?"
   ]
  },
  {
   "cell_type": "code",
   "execution_count": 34,
   "metadata": {
    "collapsed": true
   },
   "outputs": [],
   "source": [
    "df_kgr_all = df_kgr.compute()"
   ]
  },
  {
   "cell_type": "code",
   "execution_count": 36,
   "metadata": {
    "collapsed": true
   },
   "outputs": [],
   "source": [
    "df_kgr_all[['start','end','rel']].to_csv('conceptnet2kgr/kb_env_rl.txt',sep='\\t',index=False,header=False)"
   ]
  },
  {
   "cell_type": "code",
   "execution_count": 37,
   "metadata": {
    "collapsed": false
   },
   "outputs": [
    {
     "data": {
      "text/plain": [
       "226520"
      ]
     },
     "execution_count": 37,
     "metadata": {},
     "output_type": "execute_result"
    }
   ],
   "source": [
    "len(df_kgr_all)"
   ]
  },
  {
   "cell_type": "code",
   "execution_count": 35,
   "metadata": {
    "collapsed": false
   },
   "outputs": [
    {
     "data": {
      "text/html": [
       "<div>\n",
       "<style>\n",
       "    .dataframe thead tr:only-child th {\n",
       "        text-align: right;\n",
       "    }\n",
       "\n",
       "    .dataframe thead th {\n",
       "        text-align: left;\n",
       "    }\n",
       "\n",
       "    .dataframe tbody tr th {\n",
       "        vertical-align: top;\n",
       "    }\n",
       "</style>\n",
       "<table border=\"1\" class=\"dataframe\">\n",
       "  <thead>\n",
       "    <tr style=\"text-align: right;\">\n",
       "      <th></th>\n",
       "      <th>end</th>\n",
       "      <th>rel</th>\n",
       "      <th>start</th>\n",
       "      <th>weight</th>\n",
       "    </tr>\n",
       "  </thead>\n",
       "  <tbody>\n",
       "    <tr>\n",
       "      <th>0</th>\n",
       "      <td>/c/en/precisely</td>\n",
       "      <td>/r/Antonym</td>\n",
       "      <td>/c/en/about</td>\n",
       "      <td>0.155</td>\n",
       "    </tr>\n",
       "    <tr>\n",
       "      <th>1</th>\n",
       "      <td>/c/en/on_purpose</td>\n",
       "      <td>/r/Antonym</td>\n",
       "      <td>/c/en/accident</td>\n",
       "      <td>0.319</td>\n",
       "    </tr>\n",
       "    <tr>\n",
       "      <th>2</th>\n",
       "      <td>/c/en/planned</td>\n",
       "      <td>/r/Antonym</td>\n",
       "      <td>/c/en/accident</td>\n",
       "      <td>0.147</td>\n",
       "    </tr>\n",
       "    <tr>\n",
       "      <th>3</th>\n",
       "      <td>/c/en/purpose</td>\n",
       "      <td>/r/Antonym</td>\n",
       "      <td>/c/en/accident</td>\n",
       "      <td>0.319</td>\n",
       "    </tr>\n",
       "    <tr>\n",
       "      <th>4</th>\n",
       "      <td>/c/en/intentionally</td>\n",
       "      <td>/r/Antonym</td>\n",
       "      <td>/c/en/accidentally/r</td>\n",
       "      <td>1.000</td>\n",
       "    </tr>\n",
       "  </tbody>\n",
       "</table>\n",
       "</div>"
      ],
      "text/plain": [
       "                   end         rel                 start  weight\n",
       "0      /c/en/precisely  /r/Antonym           /c/en/about   0.155\n",
       "1     /c/en/on_purpose  /r/Antonym        /c/en/accident   0.319\n",
       "2        /c/en/planned  /r/Antonym        /c/en/accident   0.147\n",
       "3        /c/en/purpose  /r/Antonym        /c/en/accident   0.319\n",
       "4  /c/en/intentionally  /r/Antonym  /c/en/accidentally/r   1.000"
      ]
     },
     "execution_count": 35,
     "metadata": {},
     "output_type": "execute_result"
    }
   ],
   "source": [
    "df_kgr_all.head()"
   ]
  },
  {
   "cell_type": "code",
   "execution_count": 42,
   "metadata": {
    "collapsed": false
   },
   "outputs": [],
   "source": [
    "entity = list(set(list(df_kgr_all.start.unique())+list(df_kgr_all.end.unique())))"
   ]
  },
  {
   "cell_type": "code",
   "execution_count": 43,
   "metadata": {
    "collapsed": false
   },
   "outputs": [
    {
     "data": {
      "text/plain": [
       "81616"
      ]
     },
     "execution_count": 43,
     "metadata": {},
     "output_type": "execute_result"
    }
   ],
   "source": [
    "len(entity)"
   ]
  },
  {
   "cell_type": "code",
   "execution_count": 44,
   "metadata": {
    "collapsed": false
   },
   "outputs": [
    {
     "data": {
      "text/plain": [
       "['/c/en/being_that',\n",
       " '/c/en/snow_gnat',\n",
       " '/c/en/thunder/v',\n",
       " '/c/en/spoon/n',\n",
       " '/c/en/marilyn_horne',\n",
       " '/c/en/bear_witness/v',\n",
       " '/c/en/dress_up_in_nice_clothing',\n",
       " '/c/en/make_home',\n",
       " '/c/en/homeworld',\n",
       " '/c/en/home_theater/n']"
      ]
     },
     "execution_count": 44,
     "metadata": {},
     "output_type": "execute_result"
    }
   ],
   "source": [
    "entity[:10]"
   ]
  },
  {
   "cell_type": "code",
   "execution_count": 45,
   "metadata": {
    "collapsed": true
   },
   "outputs": [],
   "source": [
    "entity2id = dict([(x,i) for i,x in enumerate(entity)])"
   ]
  },
  {
   "cell_type": "code",
   "execution_count": 46,
   "metadata": {
    "collapsed": false
   },
   "outputs": [
    {
     "data": {
      "text/plain": [
       "58430"
      ]
     },
     "execution_count": 46,
     "metadata": {},
     "output_type": "execute_result"
    }
   ],
   "source": [
    "entity2id['/c/en/accident']"
   ]
  },
  {
   "cell_type": "code",
   "execution_count": 48,
   "metadata": {
    "collapsed": false
   },
   "outputs": [],
   "source": [
    "rel = list(df_kgr_all.rel.unique())"
   ]
  },
  {
   "cell_type": "code",
   "execution_count": 49,
   "metadata": {
    "collapsed": false
   },
   "outputs": [
    {
     "data": {
      "text/plain": [
       "70"
      ]
     },
     "execution_count": 49,
     "metadata": {},
     "output_type": "execute_result"
    }
   ],
   "source": [
    "len(rel)"
   ]
  },
  {
   "cell_type": "code",
   "execution_count": 50,
   "metadata": {
    "collapsed": false
   },
   "outputs": [
    {
     "data": {
      "text/plain": [
       "['/r/Antonym',\n",
       " '/r/AtLocation',\n",
       " '/r/CapableOf',\n",
       " '/r/Causes',\n",
       " '/r/CausesDesire',\n",
       " '/r/CreatedBy',\n",
       " '/r/DefinedAs',\n",
       " '/r/DerivedFrom',\n",
       " '/r/Desires',\n",
       " '/r/DistinctFrom',\n",
       " '/r/Entails',\n",
       " '/r/EtymologicallyRelatedTo',\n",
       " '/r/FormOf',\n",
       " '/r/HasA',\n",
       " '/r/HasContext',\n",
       " '/r/HasFirstSubevent',\n",
       " '/r/HasLastSubevent',\n",
       " '/r/HasPrerequisite',\n",
       " '/r/HasProperty',\n",
       " '/r/HasSubevent',\n",
       " '/r/InstanceOf',\n",
       " '/r/IsA',\n",
       " '/r/MadeOf',\n",
       " '/r/MannerOf',\n",
       " '/r/MotivatedByGoal',\n",
       " '/r/NotCapableOf',\n",
       " '/r/NotDesires',\n",
       " '/r/NotHasProperty',\n",
       " '/r/PartOf',\n",
       " '/r/ReceivesAction',\n",
       " '/r/SimilarTo',\n",
       " '/r/Synonym',\n",
       " '/r/UsedFor',\n",
       " '/r/dbpedia/genre',\n",
       " '/r/dbpedia/product',\n",
       " '/r/Antonym_inv',\n",
       " '/r/AtLocation_inv',\n",
       " '/r/CapableOf_inv',\n",
       " '/r/Causes_inv',\n",
       " '/r/CausesDesire_inv',\n",
       " '/r/CreatedBy_inv',\n",
       " '/r/DefinedAs_inv',\n",
       " '/r/DerivedFrom_inv',\n",
       " '/r/Desires_inv',\n",
       " '/r/DistinctFrom_inv',\n",
       " '/r/Entails_inv',\n",
       " '/r/EtymologicallyRelatedTo_inv',\n",
       " '/r/FormOf_inv',\n",
       " '/r/HasA_inv',\n",
       " '/r/HasContext_inv',\n",
       " '/r/HasFirstSubevent_inv',\n",
       " '/r/HasLastSubevent_inv',\n",
       " '/r/HasPrerequisite_inv',\n",
       " '/r/HasProperty_inv',\n",
       " '/r/HasSubevent_inv',\n",
       " '/r/InstanceOf_inv',\n",
       " '/r/IsA_inv',\n",
       " '/r/MadeOf_inv',\n",
       " '/r/MannerOf_inv',\n",
       " '/r/MotivatedByGoal_inv',\n",
       " '/r/NotCapableOf_inv',\n",
       " '/r/NotDesires_inv',\n",
       " '/r/NotHasProperty_inv',\n",
       " '/r/PartOf_inv',\n",
       " '/r/ReceivesAction_inv',\n",
       " '/r/SimilarTo_inv',\n",
       " '/r/Synonym_inv',\n",
       " '/r/UsedFor_inv',\n",
       " '/r/dbpedia/genre_inv',\n",
       " '/r/dbpedia/product_inv']"
      ]
     },
     "execution_count": 50,
     "metadata": {},
     "output_type": "execute_result"
    }
   ],
   "source": [
    "rel"
   ]
  },
  {
   "cell_type": "code",
   "execution_count": 51,
   "metadata": {
    "collapsed": true
   },
   "outputs": [],
   "source": [
    "relation2id = dict([(x,i) for i,x in enumerate(rel)])"
   ]
  },
  {
   "cell_type": "code",
   "execution_count": 52,
   "metadata": {
    "collapsed": false
   },
   "outputs": [
    {
     "data": {
      "text/plain": [
       "{'/r/Antonym': 0,\n",
       " '/r/Antonym_inv': 35,\n",
       " '/r/AtLocation': 1,\n",
       " '/r/AtLocation_inv': 36,\n",
       " '/r/CapableOf': 2,\n",
       " '/r/CapableOf_inv': 37,\n",
       " '/r/Causes': 3,\n",
       " '/r/CausesDesire': 4,\n",
       " '/r/CausesDesire_inv': 39,\n",
       " '/r/Causes_inv': 38,\n",
       " '/r/CreatedBy': 5,\n",
       " '/r/CreatedBy_inv': 40,\n",
       " '/r/DefinedAs': 6,\n",
       " '/r/DefinedAs_inv': 41,\n",
       " '/r/DerivedFrom': 7,\n",
       " '/r/DerivedFrom_inv': 42,\n",
       " '/r/Desires': 8,\n",
       " '/r/Desires_inv': 43,\n",
       " '/r/DistinctFrom': 9,\n",
       " '/r/DistinctFrom_inv': 44,\n",
       " '/r/Entails': 10,\n",
       " '/r/Entails_inv': 45,\n",
       " '/r/EtymologicallyRelatedTo': 11,\n",
       " '/r/EtymologicallyRelatedTo_inv': 46,\n",
       " '/r/FormOf': 12,\n",
       " '/r/FormOf_inv': 47,\n",
       " '/r/HasA': 13,\n",
       " '/r/HasA_inv': 48,\n",
       " '/r/HasContext': 14,\n",
       " '/r/HasContext_inv': 49,\n",
       " '/r/HasFirstSubevent': 15,\n",
       " '/r/HasFirstSubevent_inv': 50,\n",
       " '/r/HasLastSubevent': 16,\n",
       " '/r/HasLastSubevent_inv': 51,\n",
       " '/r/HasPrerequisite': 17,\n",
       " '/r/HasPrerequisite_inv': 52,\n",
       " '/r/HasProperty': 18,\n",
       " '/r/HasProperty_inv': 53,\n",
       " '/r/HasSubevent': 19,\n",
       " '/r/HasSubevent_inv': 54,\n",
       " '/r/InstanceOf': 20,\n",
       " '/r/InstanceOf_inv': 55,\n",
       " '/r/IsA': 21,\n",
       " '/r/IsA_inv': 56,\n",
       " '/r/MadeOf': 22,\n",
       " '/r/MadeOf_inv': 57,\n",
       " '/r/MannerOf': 23,\n",
       " '/r/MannerOf_inv': 58,\n",
       " '/r/MotivatedByGoal': 24,\n",
       " '/r/MotivatedByGoal_inv': 59,\n",
       " '/r/NotCapableOf': 25,\n",
       " '/r/NotCapableOf_inv': 60,\n",
       " '/r/NotDesires': 26,\n",
       " '/r/NotDesires_inv': 61,\n",
       " '/r/NotHasProperty': 27,\n",
       " '/r/NotHasProperty_inv': 62,\n",
       " '/r/PartOf': 28,\n",
       " '/r/PartOf_inv': 63,\n",
       " '/r/ReceivesAction': 29,\n",
       " '/r/ReceivesAction_inv': 64,\n",
       " '/r/SimilarTo': 30,\n",
       " '/r/SimilarTo_inv': 65,\n",
       " '/r/Synonym': 31,\n",
       " '/r/Synonym_inv': 66,\n",
       " '/r/UsedFor': 32,\n",
       " '/r/UsedFor_inv': 67,\n",
       " '/r/dbpedia/genre': 33,\n",
       " '/r/dbpedia/genre_inv': 68,\n",
       " '/r/dbpedia/product': 34,\n",
       " '/r/dbpedia/product_inv': 69}"
      ]
     },
     "execution_count": 52,
     "metadata": {},
     "output_type": "execute_result"
    }
   ],
   "source": [
    "relation2id"
   ]
  },
  {
   "cell_type": "code",
   "execution_count": 53,
   "metadata": {
    "collapsed": false
   },
   "outputs": [],
   "source": [
    "train = []\n",
    "for row in df_kgr_all.iterrows():\n",
    "    train.append((entity2id[row[1]['start']],entity2id[row[1]['end']],relation2id[row[1]['rel']]))"
   ]
  },
  {
   "cell_type": "code",
   "execution_count": 54,
   "metadata": {
    "collapsed": false
   },
   "outputs": [
    {
     "data": {
      "text/plain": [
       "226520"
      ]
     },
     "execution_count": 54,
     "metadata": {},
     "output_type": "execute_result"
    }
   ],
   "source": [
    "len(train)"
   ]
  },
  {
   "cell_type": "code",
   "execution_count": 55,
   "metadata": {
    "collapsed": true
   },
   "outputs": [],
   "source": [
    "f_entity = codecs.open('conceptnet2kgr/entity2id.txt','a+',encoding='utf-8')\n",
    "f_relation = codecs.open('conceptnet2kgr/relation2id.txt','a+',encoding='utf-8')\n",
    "f_train = codecs.open('conceptnet2kgr/train2id.txt','a+',encoding='utf-8')"
   ]
  },
  {
   "cell_type": "code",
   "execution_count": 56,
   "metadata": {
    "collapsed": true
   },
   "outputs": [],
   "source": [
    "f_entity.write(str(len(entity))+'\\n')\n",
    "f_relation.write(str(len(rel))+'\\n')\n",
    "f_train.write(str(len(train))+'\\n')"
   ]
  },
  {
   "cell_type": "code",
   "execution_count": 57,
   "metadata": {
    "collapsed": false
   },
   "outputs": [
    {
     "data": {
      "text/plain": [
       "[None,\n",
       " None,\n",
       " None,\n",
       " None,\n",
       " None,\n",
       " None,\n",
       " None,\n",
       " None,\n",
       " None,\n",
       " None,\n",
       " None,\n",
       " None,\n",
       " None,\n",
       " None,\n",
       " None,\n",
       " None,\n",
       " None,\n",
       " None,\n",
       " None,\n",
       " None,\n",
       " None,\n",
       " None,\n",
       " None,\n",
       " None,\n",
       " None,\n",
       " None,\n",
       " None,\n",
       " None,\n",
       " None,\n",
       " None,\n",
       " None,\n",
       " None,\n",
       " None,\n",
       " None,\n",
       " None,\n",
       " None,\n",
       " None,\n",
       " None,\n",
       " None,\n",
       " None,\n",
       " None,\n",
       " None,\n",
       " None,\n",
       " None,\n",
       " None,\n",
       " None,\n",
       " None,\n",
       " None,\n",
       " None,\n",
       " None,\n",
       " None,\n",
       " None,\n",
       " None,\n",
       " None,\n",
       " None,\n",
       " None,\n",
       " None,\n",
       " None,\n",
       " None,\n",
       " None,\n",
       " None,\n",
       " None,\n",
       " None,\n",
       " None,\n",
       " None,\n",
       " None,\n",
       " None,\n",
       " None,\n",
       " None,\n",
       " None,\n",
       " None,\n",
       " None,\n",
       " None,\n",
       " None,\n",
       " None,\n",
       " None,\n",
       " None,\n",
       " None,\n",
       " None,\n",
       " None,\n",
       " None,\n",
       " None,\n",
       " None,\n",
       " None,\n",
       " None,\n",
       " None,\n",
       " None,\n",
       " None,\n",
       " None,\n",
       " None,\n",
       " None,\n",
       " None,\n",
       " None,\n",
       " None,\n",
       " None,\n",
       " None,\n",
       " None,\n",
       " None,\n",
       " None,\n",
       " None,\n",
       " None,\n",
       " None,\n",
       " None,\n",
       " None,\n",
       " None,\n",
       " None,\n",
       " None,\n",
       " None,\n",
       " None,\n",
       " None,\n",
       " None,\n",
       " None,\n",
       " None,\n",
       " None,\n",
       " None,\n",
       " None,\n",
       " None,\n",
       " None,\n",
       " None,\n",
       " None,\n",
       " None,\n",
       " None,\n",
       " None,\n",
       " None,\n",
       " None,\n",
       " None,\n",
       " None,\n",
       " None,\n",
       " None,\n",
       " None,\n",
       " None,\n",
       " None,\n",
       " None,\n",
       " None,\n",
       " None,\n",
       " None,\n",
       " None,\n",
       " None,\n",
       " None,\n",
       " None,\n",
       " None,\n",
       " None,\n",
       " None,\n",
       " None,\n",
       " None,\n",
       " None,\n",
       " None,\n",
       " None,\n",
       " None,\n",
       " None,\n",
       " None,\n",
       " None,\n",
       " None,\n",
       " None,\n",
       " None,\n",
       " None,\n",
       " None,\n",
       " None,\n",
       " None,\n",
       " None,\n",
       " None,\n",
       " None,\n",
       " None,\n",
       " None,\n",
       " None,\n",
       " None,\n",
       " None,\n",
       " None,\n",
       " None,\n",
       " None,\n",
       " None,\n",
       " None,\n",
       " None,\n",
       " None,\n",
       " None,\n",
       " None,\n",
       " None,\n",
       " None,\n",
       " None,\n",
       " None,\n",
       " None,\n",
       " None,\n",
       " None,\n",
       " None,\n",
       " None,\n",
       " None,\n",
       " None,\n",
       " None,\n",
       " None,\n",
       " None,\n",
       " None,\n",
       " None,\n",
       " None,\n",
       " None,\n",
       " None,\n",
       " None,\n",
       " None,\n",
       " None,\n",
       " None,\n",
       " None,\n",
       " None,\n",
       " None,\n",
       " None,\n",
       " None,\n",
       " None,\n",
       " None,\n",
       " None,\n",
       " None,\n",
       " None,\n",
       " None,\n",
       " None,\n",
       " None,\n",
       " None,\n",
       " None,\n",
       " None,\n",
       " None,\n",
       " None,\n",
       " None,\n",
       " None,\n",
       " None,\n",
       " None,\n",
       " None,\n",
       " None,\n",
       " None,\n",
       " None,\n",
       " None,\n",
       " None,\n",
       " None,\n",
       " None,\n",
       " None,\n",
       " None,\n",
       " None,\n",
       " None,\n",
       " None,\n",
       " None,\n",
       " None,\n",
       " None,\n",
       " None,\n",
       " None,\n",
       " None,\n",
       " None,\n",
       " None,\n",
       " None,\n",
       " None,\n",
       " None,\n",
       " None,\n",
       " None,\n",
       " None,\n",
       " None,\n",
       " None,\n",
       " None,\n",
       " None,\n",
       " None,\n",
       " None,\n",
       " None,\n",
       " None,\n",
       " None,\n",
       " None,\n",
       " None,\n",
       " None,\n",
       " None,\n",
       " None,\n",
       " None,\n",
       " None,\n",
       " None,\n",
       " None,\n",
       " None,\n",
       " None,\n",
       " None,\n",
       " None,\n",
       " None,\n",
       " None,\n",
       " None,\n",
       " None,\n",
       " None,\n",
       " None,\n",
       " None,\n",
       " None,\n",
       " None,\n",
       " None,\n",
       " None,\n",
       " None,\n",
       " None,\n",
       " None,\n",
       " None,\n",
       " None,\n",
       " None,\n",
       " None,\n",
       " None,\n",
       " None,\n",
       " None,\n",
       " None,\n",
       " None,\n",
       " None,\n",
       " None,\n",
       " None,\n",
       " None,\n",
       " None,\n",
       " None,\n",
       " None,\n",
       " None,\n",
       " None,\n",
       " None,\n",
       " None,\n",
       " None,\n",
       " None,\n",
       " None,\n",
       " None,\n",
       " None,\n",
       " None,\n",
       " None,\n",
       " None,\n",
       " None,\n",
       " None,\n",
       " None,\n",
       " None,\n",
       " None,\n",
       " None,\n",
       " None,\n",
       " None,\n",
       " None,\n",
       " None,\n",
       " None,\n",
       " None,\n",
       " None,\n",
       " None,\n",
       " None,\n",
       " None,\n",
       " None,\n",
       " None,\n",
       " None,\n",
       " None,\n",
       " None,\n",
       " None,\n",
       " None,\n",
       " None,\n",
       " None,\n",
       " None,\n",
       " None,\n",
       " None,\n",
       " None,\n",
       " None,\n",
       " None,\n",
       " None,\n",
       " None,\n",
       " None,\n",
       " None,\n",
       " None,\n",
       " None,\n",
       " None,\n",
       " None,\n",
       " None,\n",
       " None,\n",
       " None,\n",
       " None,\n",
       " None,\n",
       " None,\n",
       " None,\n",
       " None,\n",
       " None,\n",
       " None,\n",
       " None,\n",
       " None,\n",
       " None,\n",
       " None,\n",
       " None,\n",
       " None,\n",
       " None,\n",
       " None,\n",
       " None,\n",
       " None,\n",
       " None,\n",
       " None,\n",
       " None,\n",
       " None,\n",
       " None,\n",
       " None,\n",
       " None,\n",
       " None,\n",
       " None,\n",
       " None,\n",
       " None,\n",
       " None,\n",
       " None,\n",
       " None,\n",
       " None,\n",
       " None,\n",
       " None,\n",
       " None,\n",
       " None,\n",
       " None,\n",
       " None,\n",
       " None,\n",
       " None,\n",
       " None,\n",
       " None,\n",
       " None,\n",
       " None,\n",
       " None,\n",
       " None,\n",
       " None,\n",
       " None,\n",
       " None,\n",
       " None,\n",
       " None,\n",
       " None,\n",
       " None,\n",
       " None,\n",
       " None,\n",
       " None,\n",
       " None,\n",
       " None,\n",
       " None,\n",
       " None,\n",
       " None,\n",
       " None,\n",
       " None,\n",
       " None,\n",
       " None,\n",
       " None,\n",
       " None,\n",
       " None,\n",
       " None,\n",
       " None,\n",
       " None,\n",
       " None,\n",
       " None,\n",
       " None,\n",
       " None,\n",
       " None,\n",
       " None,\n",
       " None,\n",
       " None,\n",
       " None,\n",
       " None,\n",
       " None,\n",
       " None,\n",
       " None,\n",
       " None,\n",
       " None,\n",
       " None,\n",
       " None,\n",
       " None,\n",
       " None,\n",
       " None,\n",
       " None,\n",
       " None,\n",
       " None,\n",
       " None,\n",
       " None,\n",
       " None,\n",
       " None,\n",
       " None,\n",
       " None,\n",
       " None,\n",
       " None,\n",
       " None,\n",
       " None,\n",
       " None,\n",
       " None,\n",
       " None,\n",
       " None,\n",
       " None,\n",
       " None,\n",
       " None,\n",
       " None,\n",
       " None,\n",
       " None,\n",
       " None,\n",
       " None,\n",
       " None,\n",
       " None,\n",
       " None,\n",
       " None,\n",
       " None,\n",
       " None,\n",
       " None,\n",
       " None,\n",
       " None,\n",
       " None,\n",
       " None,\n",
       " None,\n",
       " None,\n",
       " None,\n",
       " None,\n",
       " None,\n",
       " None,\n",
       " None,\n",
       " None,\n",
       " None,\n",
       " None,\n",
       " None,\n",
       " None,\n",
       " None,\n",
       " None,\n",
       " None,\n",
       " None,\n",
       " None,\n",
       " None,\n",
       " None,\n",
       " None,\n",
       " None,\n",
       " None,\n",
       " None,\n",
       " None,\n",
       " None,\n",
       " None,\n",
       " None,\n",
       " None,\n",
       " None,\n",
       " None,\n",
       " None,\n",
       " None,\n",
       " None,\n",
       " None,\n",
       " None,\n",
       " None,\n",
       " None,\n",
       " None,\n",
       " None,\n",
       " None,\n",
       " None,\n",
       " None,\n",
       " None,\n",
       " None,\n",
       " None,\n",
       " None,\n",
       " None,\n",
       " None,\n",
       " None,\n",
       " None,\n",
       " None,\n",
       " None,\n",
       " None,\n",
       " None,\n",
       " None,\n",
       " None,\n",
       " None,\n",
       " None,\n",
       " None,\n",
       " None,\n",
       " None,\n",
       " None,\n",
       " None,\n",
       " None,\n",
       " None,\n",
       " None,\n",
       " None,\n",
       " None,\n",
       " None,\n",
       " None,\n",
       " None,\n",
       " None,\n",
       " None,\n",
       " None,\n",
       " None,\n",
       " None,\n",
       " None,\n",
       " None,\n",
       " None,\n",
       " None,\n",
       " None,\n",
       " None,\n",
       " None,\n",
       " None,\n",
       " None,\n",
       " None,\n",
       " None,\n",
       " None,\n",
       " None,\n",
       " None,\n",
       " None,\n",
       " None,\n",
       " None,\n",
       " None,\n",
       " None,\n",
       " None,\n",
       " None,\n",
       " None,\n",
       " None,\n",
       " None,\n",
       " None,\n",
       " None,\n",
       " None,\n",
       " None,\n",
       " None,\n",
       " None,\n",
       " None,\n",
       " None,\n",
       " None,\n",
       " None,\n",
       " None,\n",
       " None,\n",
       " None,\n",
       " None,\n",
       " None,\n",
       " None,\n",
       " None,\n",
       " None,\n",
       " None,\n",
       " None,\n",
       " None,\n",
       " None,\n",
       " None,\n",
       " None,\n",
       " None,\n",
       " None,\n",
       " None,\n",
       " None,\n",
       " None,\n",
       " None,\n",
       " None,\n",
       " None,\n",
       " None,\n",
       " None,\n",
       " None,\n",
       " None,\n",
       " None,\n",
       " None,\n",
       " None,\n",
       " None,\n",
       " None,\n",
       " None,\n",
       " None,\n",
       " None,\n",
       " None,\n",
       " None,\n",
       " None,\n",
       " None,\n",
       " None,\n",
       " None,\n",
       " None,\n",
       " None,\n",
       " None,\n",
       " None,\n",
       " None,\n",
       " None,\n",
       " None,\n",
       " None,\n",
       " None,\n",
       " None,\n",
       " None,\n",
       " None,\n",
       " None,\n",
       " None,\n",
       " None,\n",
       " None,\n",
       " None,\n",
       " None,\n",
       " None,\n",
       " None,\n",
       " None,\n",
       " None,\n",
       " None,\n",
       " None,\n",
       " None,\n",
       " None,\n",
       " None,\n",
       " None,\n",
       " None,\n",
       " None,\n",
       " None,\n",
       " None,\n",
       " None,\n",
       " None,\n",
       " None,\n",
       " None,\n",
       " None,\n",
       " None,\n",
       " None,\n",
       " None,\n",
       " None,\n",
       " None,\n",
       " None,\n",
       " None,\n",
       " None,\n",
       " None,\n",
       " None,\n",
       " None,\n",
       " None,\n",
       " None,\n",
       " None,\n",
       " None,\n",
       " None,\n",
       " None,\n",
       " None,\n",
       " None,\n",
       " None,\n",
       " None,\n",
       " None,\n",
       " None,\n",
       " None,\n",
       " None,\n",
       " None,\n",
       " None,\n",
       " None,\n",
       " None,\n",
       " None,\n",
       " None,\n",
       " None,\n",
       " None,\n",
       " None,\n",
       " None,\n",
       " None,\n",
       " None,\n",
       " None,\n",
       " None,\n",
       " None,\n",
       " None,\n",
       " None,\n",
       " None,\n",
       " None,\n",
       " None,\n",
       " None,\n",
       " None,\n",
       " None,\n",
       " None,\n",
       " None,\n",
       " None,\n",
       " None,\n",
       " None,\n",
       " None,\n",
       " None,\n",
       " None,\n",
       " None,\n",
       " None,\n",
       " None,\n",
       " None,\n",
       " None,\n",
       " None,\n",
       " None,\n",
       " None,\n",
       " None,\n",
       " None,\n",
       " None,\n",
       " None,\n",
       " None,\n",
       " None,\n",
       " None,\n",
       " None,\n",
       " None,\n",
       " None,\n",
       " None,\n",
       " None,\n",
       " None,\n",
       " None,\n",
       " None,\n",
       " None,\n",
       " None,\n",
       " None,\n",
       " None,\n",
       " None,\n",
       " None,\n",
       " None,\n",
       " None,\n",
       " None,\n",
       " None,\n",
       " None,\n",
       " None,\n",
       " None,\n",
       " None,\n",
       " None,\n",
       " None,\n",
       " None,\n",
       " None,\n",
       " None,\n",
       " None,\n",
       " None,\n",
       " None,\n",
       " None,\n",
       " None,\n",
       " None,\n",
       " None,\n",
       " None,\n",
       " None,\n",
       " None,\n",
       " None,\n",
       " None,\n",
       " None,\n",
       " None,\n",
       " None,\n",
       " None,\n",
       " None,\n",
       " None,\n",
       " None,\n",
       " None,\n",
       " None,\n",
       " None,\n",
       " None,\n",
       " None,\n",
       " None,\n",
       " None,\n",
       " None,\n",
       " None,\n",
       " None,\n",
       " None,\n",
       " None,\n",
       " None,\n",
       " None,\n",
       " None,\n",
       " None,\n",
       " None,\n",
       " None,\n",
       " None,\n",
       " None,\n",
       " None,\n",
       " None,\n",
       " None,\n",
       " None,\n",
       " None,\n",
       " None,\n",
       " None,\n",
       " None,\n",
       " None,\n",
       " None,\n",
       " None,\n",
       " None,\n",
       " None,\n",
       " None,\n",
       " None,\n",
       " None,\n",
       " None,\n",
       " None,\n",
       " None,\n",
       " None,\n",
       " None,\n",
       " None,\n",
       " None,\n",
       " None,\n",
       " None,\n",
       " None,\n",
       " None,\n",
       " None,\n",
       " None,\n",
       " None,\n",
       " None,\n",
       " None,\n",
       " None,\n",
       " None,\n",
       " None,\n",
       " None,\n",
       " None,\n",
       " None,\n",
       " None,\n",
       " None,\n",
       " None,\n",
       " None,\n",
       " None,\n",
       " None,\n",
       " None,\n",
       " None,\n",
       " None,\n",
       " None,\n",
       " None,\n",
       " None,\n",
       " None,\n",
       " None,\n",
       " None,\n",
       " None,\n",
       " None,\n",
       " None,\n",
       " None,\n",
       " None,\n",
       " None,\n",
       " None,\n",
       " None,\n",
       " None,\n",
       " None,\n",
       " None,\n",
       " None,\n",
       " None,\n",
       " None,\n",
       " None,\n",
       " None,\n",
       " None,\n",
       " None,\n",
       " None,\n",
       " None,\n",
       " None,\n",
       " None,\n",
       " None,\n",
       " None,\n",
       " None,\n",
       " None,\n",
       " None,\n",
       " None,\n",
       " None,\n",
       " None,\n",
       " None,\n",
       " None,\n",
       " None,\n",
       " None,\n",
       " None,\n",
       " None,\n",
       " None,\n",
       " None,\n",
       " None,\n",
       " None,\n",
       " None,\n",
       " None,\n",
       " None,\n",
       " None,\n",
       " None,\n",
       " None,\n",
       " None,\n",
       " None,\n",
       " None,\n",
       " None,\n",
       " None,\n",
       " None,\n",
       " None,\n",
       " None,\n",
       " None,\n",
       " None,\n",
       " None,\n",
       " None,\n",
       " None,\n",
       " None,\n",
       " None,\n",
       " None,\n",
       " None,\n",
       " None,\n",
       " None,\n",
       " None,\n",
       " None,\n",
       " None,\n",
       " None,\n",
       " None,\n",
       " None,\n",
       " None,\n",
       " None,\n",
       " None,\n",
       " None,\n",
       " None,\n",
       " None,\n",
       " None,\n",
       " None,\n",
       " None,\n",
       " None,\n",
       " None,\n",
       " None,\n",
       " None,\n",
       " None,\n",
       " None,\n",
       " None,\n",
       " None,\n",
       " None,\n",
       " None,\n",
       " None,\n",
       " None,\n",
       " None,\n",
       " None,\n",
       " None,\n",
       " None,\n",
       " None,\n",
       " None,\n",
       " None,\n",
       " None,\n",
       " None,\n",
       " None,\n",
       " None,\n",
       " None,\n",
       " None,\n",
       " None,\n",
       " None,\n",
       " None,\n",
       " None,\n",
       " None,\n",
       " None,\n",
       " None,\n",
       " None,\n",
       " None,\n",
       " None,\n",
       " None,\n",
       " None,\n",
       " None,\n",
       " None,\n",
       " None,\n",
       " None,\n",
       " None,\n",
       " None,\n",
       " None,\n",
       " None,\n",
       " None,\n",
       " None,\n",
       " None,\n",
       " None,\n",
       " None,\n",
       " None,\n",
       " None,\n",
       " None,\n",
       " None,\n",
       " None,\n",
       " None,\n",
       " None,\n",
       " None,\n",
       " None,\n",
       " None,\n",
       " None,\n",
       " None,\n",
       " ...]"
      ]
     },
     "execution_count": 57,
     "metadata": {},
     "output_type": "execute_result"
    }
   ],
   "source": [
    "[f_entity.write(k+'\\t'+str(v)+'\\n') for k,v in entity2id.items()]\n",
    "[f_relation.write(k+'\\t'+str(v)+'\\n') for k,v in relation2id.items()]\n",
    "[f_train.write(str(t[0])+'\\t'+str(t[1])+'\\t'+str(t[2])+'\\n') for t in train]"
   ]
  },
  {
   "cell_type": "code",
   "execution_count": 58,
   "metadata": {
    "collapsed": true
   },
   "outputs": [],
   "source": [
    "f_entity.close()\n",
    "f_relation.close()\n",
    "f_train.close()"
   ]
  }
 ],
 "metadata": {
  "kernelspec": {
   "display_name": "Python 3",
   "language": "python",
   "name": "python3"
  },
  "language_info": {
   "codemirror_mode": {
    "name": "ipython",
    "version": 3
   },
   "file_extension": ".py",
   "mimetype": "text/x-python",
   "name": "python",
   "nbconvert_exporter": "python",
   "pygments_lexer": "ipython3",
   "version": "3.6.4"
  }
 },
 "nbformat": 4,
 "nbformat_minor": 2
}
