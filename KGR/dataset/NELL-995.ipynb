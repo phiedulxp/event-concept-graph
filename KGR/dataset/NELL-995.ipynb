{
 "cells": [
  {
   "cell_type": "code",
   "execution_count": 1,
   "metadata": {
    "collapsed": true
   },
   "outputs": [],
   "source": [
    "import os\n",
    "import codecs\n",
    "import json\n",
    "import numpy as np\n",
    "import pandas as pd"
   ]
  },
  {
   "cell_type": "code",
   "execution_count": 2,
   "metadata": {
    "collapsed": false
   },
   "outputs": [
    {
     "data": {
      "text/plain": [
       "['.ipynb_checkpoints',\n",
       " 'entity2id.txt',\n",
       " 'entity2vec.bern',\n",
       " 'kb_env_rl.txt',\n",
       " 'NELL-995.ipynb',\n",
       " 'ranked_relations.csv',\n",
       " 'raw.kb',\n",
       " 'README.md',\n",
       " 'relation2id.txt',\n",
       " 'relation2vec.bern',\n",
       " 'tasks']"
      ]
     },
     "execution_count": 2,
     "metadata": {},
     "output_type": "execute_result"
    }
   ],
   "source": [
    "os.listdir()"
   ]
  },
  {
   "cell_type": "markdown",
   "metadata": {},
   "source": [
    "### raw.kb\n",
    "  - the raw kb data from NELL system"
   ]
  },
  {
   "cell_type": "code",
   "execution_count": 3,
   "metadata": {
    "collapsed": false
   },
   "outputs": [
    {
     "data": {
      "text/html": [
       "<div>\n",
       "<style>\n",
       "    .dataframe thead tr:only-child th {\n",
       "        text-align: right;\n",
       "    }\n",
       "\n",
       "    .dataframe thead th {\n",
       "        text-align: left;\n",
       "    }\n",
       "\n",
       "    .dataframe tbody tr th {\n",
       "        vertical-align: top;\n",
       "    }\n",
       "</style>\n",
       "<table border=\"1\" class=\"dataframe\">\n",
       "  <thead>\n",
       "    <tr style=\"text-align: right;\">\n",
       "      <th></th>\n",
       "      <th>head</th>\n",
       "      <th>rel</th>\n",
       "      <th>tail</th>\n",
       "    </tr>\n",
       "  </thead>\n",
       "  <tbody>\n",
       "    <tr>\n",
       "      <th>0</th>\n",
       "      <td>concept:person:molly_moore</td>\n",
       "      <td>concept:worksfor</td>\n",
       "      <td>concept:city:washington_d_c</td>\n",
       "    </tr>\n",
       "    <tr>\n",
       "      <th>1</th>\n",
       "      <td>concept:politicsblog:perspective</td>\n",
       "      <td>concept:proxyfor</td>\n",
       "      <td>concept:book:new</td>\n",
       "    </tr>\n",
       "    <tr>\n",
       "      <th>2</th>\n",
       "      <td>concept:crustacean:nit</td>\n",
       "      <td>concept:agentcompeteswithagent</td>\n",
       "      <td>concept:university:unc_asheville</td>\n",
       "    </tr>\n",
       "    <tr>\n",
       "      <th>3</th>\n",
       "      <td>concept:physicalaction:organs</td>\n",
       "      <td>concept:subpartof</td>\n",
       "      <td>concept:website:blood</td>\n",
       "    </tr>\n",
       "    <tr>\n",
       "      <th>4</th>\n",
       "      <td>concept:drug:u_s__food_and_drug_administration</td>\n",
       "      <td>concept:atdate</td>\n",
       "      <td>concept:date:n2004</td>\n",
       "    </tr>\n",
       "  </tbody>\n",
       "</table>\n",
       "</div>"
      ],
      "text/plain": [
       "                                             head  \\\n",
       "0                      concept:person:molly_moore   \n",
       "1                concept:politicsblog:perspective   \n",
       "2                          concept:crustacean:nit   \n",
       "3                   concept:physicalaction:organs   \n",
       "4  concept:drug:u_s__food_and_drug_administration   \n",
       "\n",
       "                              rel                              tail  \n",
       "0                concept:worksfor       concept:city:washington_d_c  \n",
       "1                concept:proxyfor                  concept:book:new  \n",
       "2  concept:agentcompeteswithagent  concept:university:unc_asheville  \n",
       "3               concept:subpartof             concept:website:blood  \n",
       "4                  concept:atdate                concept:date:n2004  "
      ]
     },
     "execution_count": 3,
     "metadata": {},
     "output_type": "execute_result"
    }
   ],
   "source": [
    "df_raw = pd.read_csv('./raw.kb',names=['head','rel','tail'],sep='\\t',index_col=False,encoding='utf-8')\n",
    "df_raw.head()"
   ]
  },
  {
   "cell_type": "code",
   "execution_count": 4,
   "metadata": {
    "collapsed": false
   },
   "outputs": [
    {
     "data": {
      "text/plain": [
       "154213"
      ]
     },
     "execution_count": 4,
     "metadata": {},
     "output_type": "execute_result"
    }
   ],
   "source": [
    "len(df_raw)"
   ]
  },
  {
   "cell_type": "markdown",
   "metadata": {},
   "source": [
    "### kb_env_rl.txt\n",
    "  - inverse triples in raw.kb\n",
    "  - used as the KG for reasoning"
   ]
  },
  {
   "cell_type": "code",
   "execution_count": 5,
   "metadata": {
    "collapsed": false
   },
   "outputs": [
    {
     "data": {
      "text/html": [
       "<div>\n",
       "<style>\n",
       "    .dataframe thead tr:only-child th {\n",
       "        text-align: right;\n",
       "    }\n",
       "\n",
       "    .dataframe thead th {\n",
       "        text-align: left;\n",
       "    }\n",
       "\n",
       "    .dataframe tbody tr th {\n",
       "        vertical-align: top;\n",
       "    }\n",
       "</style>\n",
       "<table border=\"1\" class=\"dataframe\">\n",
       "  <thead>\n",
       "    <tr style=\"text-align: right;\">\n",
       "      <th></th>\n",
       "      <th>head</th>\n",
       "      <th>tail</th>\n",
       "      <th>rel</th>\n",
       "    </tr>\n",
       "  </thead>\n",
       "  <tbody>\n",
       "    <tr>\n",
       "      <th>0</th>\n",
       "      <td>concept_person_molly_moore</td>\n",
       "      <td>concept_city_washington_d_c</td>\n",
       "      <td>concept:worksfor</td>\n",
       "    </tr>\n",
       "    <tr>\n",
       "      <th>1</th>\n",
       "      <td>concept_city_washington_d_c</td>\n",
       "      <td>concept_person_molly_moore</td>\n",
       "      <td>concept:worksfor_inv</td>\n",
       "    </tr>\n",
       "    <tr>\n",
       "      <th>2</th>\n",
       "      <td>concept_politicsblog_perspective</td>\n",
       "      <td>concept_book_new</td>\n",
       "      <td>concept:proxyfor</td>\n",
       "    </tr>\n",
       "    <tr>\n",
       "      <th>3</th>\n",
       "      <td>concept_book_new</td>\n",
       "      <td>concept_politicsblog_perspective</td>\n",
       "      <td>concept:proxyfor_inv</td>\n",
       "    </tr>\n",
       "    <tr>\n",
       "      <th>4</th>\n",
       "      <td>concept_crustacean_nit</td>\n",
       "      <td>concept_university_unc_asheville</td>\n",
       "      <td>concept:agentcompeteswithagent</td>\n",
       "    </tr>\n",
       "  </tbody>\n",
       "</table>\n",
       "</div>"
      ],
      "text/plain": [
       "                               head                              tail  \\\n",
       "0        concept_person_molly_moore       concept_city_washington_d_c   \n",
       "1       concept_city_washington_d_c        concept_person_molly_moore   \n",
       "2  concept_politicsblog_perspective                  concept_book_new   \n",
       "3                  concept_book_new  concept_politicsblog_perspective   \n",
       "4            concept_crustacean_nit  concept_university_unc_asheville   \n",
       "\n",
       "                              rel  \n",
       "0                concept:worksfor  \n",
       "1            concept:worksfor_inv  \n",
       "2                concept:proxyfor  \n",
       "3            concept:proxyfor_inv  \n",
       "4  concept:agentcompeteswithagent  "
      ]
     },
     "execution_count": 5,
     "metadata": {},
     "output_type": "execute_result"
    }
   ],
   "source": [
    "df_rl_env = pd.read_csv('./kb_env_rl.txt',names=['head','tail','rel'],sep='\\t',index_col=False,encoding='utf-8')\n",
    "df_rl_env.head()"
   ]
  },
  {
   "cell_type": "code",
   "execution_count": 6,
   "metadata": {
    "collapsed": false
   },
   "outputs": [
    {
     "data": {
      "text/plain": [
       "308426"
      ]
     },
     "execution_count": 6,
     "metadata": {},
     "output_type": "execute_result"
    }
   ],
   "source": [
    "len(df_rl_env)"
   ]
  },
  {
   "cell_type": "markdown",
   "metadata": {},
   "source": [
    "### entity2id.txt\n",
    "  - 0~75491\n",
    "  \n",
    "    ``\n",
    "    concept_professionalorganization_daughters_of_american_revolution\t0\n",
    "    concept_musicalbum_paradox\t1\n",
    "    concept_televisionstation_associated_press\t2\n",
    "    concept_disease_endocarditis\t3\n",
    "    concept_ceo_azim_premji\t4\n",
    "    concept_sportsequipment_freestyle\t5\n",
    "    30.5024600000000,-90.2448600000000\t6\n",
    "    ``\n",
    "    \n",
    "### entity2vec.bern\n",
    "  - TransR"
   ]
  },
  {
   "cell_type": "code",
   "execution_count": 7,
   "metadata": {
    "collapsed": false
   },
   "outputs": [],
   "source": [
    "entity2vec = np.loadtxt('./entity2vec.bern')"
   ]
  },
  {
   "cell_type": "code",
   "execution_count": 8,
   "metadata": {
    "collapsed": false
   },
   "outputs": [
    {
     "data": {
      "text/plain": [
       "(75492, 100)"
      ]
     },
     "execution_count": 8,
     "metadata": {},
     "output_type": "execute_result"
    }
   ],
   "source": [
    "entity2vec.shape"
   ]
  },
  {
   "cell_type": "markdown",
   "metadata": {},
   "source": [
    "### ranked_relations.csv"
   ]
  },
  {
   "cell_type": "raw",
   "metadata": {},
   "source": [
    "426"
   ]
  },
  {
   "cell_type": "raw",
   "metadata": {},
   "source": [
    "generalizations\t2202099\n",
    "concept:haswikipediaurl\t303608\n",
    "concept:atdate\t15175\n",
    "concept:latitudelongitude\t6332\n",
    "concept:proxyfor\t5362\n",
    "concept:agentcreated\t4668\n",
    "concept:atlocation\t4272\n",
    "concept:subpartof\t4073\n",
    "concept:teamplaysagainstteam\t3411\n",
    "concept:mutualproxyfor\t3320\n",
    "concept:itemfoundinroom\t2472\n",
    "concept:professionistypeofprofession\t2361\n",
    "concept:locationlocatedwithinlocation\t2273\n",
    "concept:clothingtogowithclothing\t2242\n",
    "concept:subpartoforganization\t2087\n",
    "concept:bookwriter\t2083\n",
    "concept:furniturefoundinroom\t2037\n",
    "concept:athleteplayssport\t2008\n",
    "concept:agentcollaborateswithagent\t1928\n",
    "concept:chemicalistypeofchemical\t1812\n",
    "concept:agentcontrols\t1745\n",
    "concept:worksfor\t1707"
   ]
  },
  {
   "cell_type": "markdown",
   "metadata": {},
   "source": [
    "### relation2id.txt\n",
    "  - 426-2\n",
    "    - generalizations\n",
    "    - concept:haswikipediaurl\n",
    "  - 200/426\n",
    "    - top200\n",
    "  - 200*2\n",
    "    - _inv\n",
    "  - 400\n",
    "\n",
    "``\n",
    "concept:agriculturalproductcookedwithagriculturalproduct\t0\n",
    "concept:agriculturalproductgrowninlandscapefeatures\t1\n",
    "concept:sportfansincountry\t2\n",
    "concept:beveragemadefrombeverage_inv\t3\n",
    "concept:emotionassociatedwithdisease_inv\t4\n",
    "concept:personbelongstoorganization_inv\t5\n",
    "concept:agentcontrols_inv\t6\n",
    "``\n",
    "### relation2vec.bern\n",
    "  - TransR"
   ]
  },
  {
   "cell_type": "code",
   "execution_count": 9,
   "metadata": {
    "collapsed": true
   },
   "outputs": [],
   "source": [
    "relation2vec = np.loadtxt('./relation2vec.bern')"
   ]
  },
  {
   "cell_type": "code",
   "execution_count": 10,
   "metadata": {
    "collapsed": false
   },
   "outputs": [
    {
     "data": {
      "text/plain": [
       "(400, 100)"
      ]
     },
     "execution_count": 10,
     "metadata": {},
     "output_type": "execute_result"
    }
   ],
   "source": [
    "relation2vec.shape"
   ]
  },
  {
   "cell_type": "markdown",
   "metadata": {},
   "source": [
    "## Tasks\n",
    "  - 12/200"
   ]
  },
  {
   "cell_type": "code",
   "execution_count": 11,
   "metadata": {
    "collapsed": false
   },
   "outputs": [
    {
     "data": {
      "text/plain": [
       "['concept_agentbelongstoorganization',\n",
       " 'concept_athletehomestadium',\n",
       " 'concept_athleteplaysforteam',\n",
       " 'concept_athleteplaysinleague',\n",
       " 'concept_athleteplayssport',\n",
       " 'concept_organizationheadquarteredincity',\n",
       " 'concept_organizationhiredperson',\n",
       " 'concept_personborninlocation',\n",
       " 'concept_personleadsorganization',\n",
       " 'concept_teamplaysinleague',\n",
       " 'concept_teamplayssport',\n",
       " 'concept_worksfor']"
      ]
     },
     "execution_count": 11,
     "metadata": {},
     "output_type": "execute_result"
    }
   ],
   "source": [
    "os.listdir('./tasks/')"
   ]
  },
  {
   "cell_type": "markdown",
   "metadata": {},
   "source": [
    "### task-concept_worksfor"
   ]
  },
  {
   "cell_type": "code",
   "execution_count": 12,
   "metadata": {
    "collapsed": false
   },
   "outputs": [
    {
     "data": {
      "text/plain": [
       "['A.bern',\n",
       " 'A.vec',\n",
       " 'A.vec_D',\n",
       " 'all_data',\n",
       " 'entity2id.txt',\n",
       " 'entity2vec.bern',\n",
       " 'entity2vec.unif',\n",
       " 'entity2vec.vec',\n",
       " 'entity2vec.vec_D',\n",
       " 'graph.txt',\n",
       " 'path_stats.txt',\n",
       " 'path_to_use.txt',\n",
       " 'relation2id.txt',\n",
       " 'relation2vec.bern',\n",
       " 'relation2vec.unif',\n",
       " 'relation2vec.vec',\n",
       " 'relation2vec.vec_D',\n",
       " 'sort_test.pairs',\n",
       " 'test.pairs',\n",
       " 'train.pairs',\n",
       " 'train_pos',\n",
       " 'transX',\n",
       " 'triple2id.txt']"
      ]
     },
     "execution_count": 12,
     "metadata": {},
     "output_type": "execute_result"
    }
   ],
   "source": [
    "os.listdir('./tasks/concept_worksfor/')"
   ]
  },
  {
   "cell_type": "markdown",
   "metadata": {},
   "source": [
    "#### transX\n",
    "  - triples \n",
    "    - train KB embeddings"
   ]
  },
  {
   "cell_type": "code",
   "execution_count": 13,
   "metadata": {
    "collapsed": false
   },
   "outputs": [
    {
     "data": {
      "text/html": [
       "<div>\n",
       "<style>\n",
       "    .dataframe thead tr:only-child th {\n",
       "        text-align: right;\n",
       "    }\n",
       "\n",
       "    .dataframe thead th {\n",
       "        text-align: left;\n",
       "    }\n",
       "\n",
       "    .dataframe tbody tr th {\n",
       "        vertical-align: top;\n",
       "    }\n",
       "</style>\n",
       "<table border=\"1\" class=\"dataframe\">\n",
       "  <thead>\n",
       "    <tr style=\"text-align: right;\">\n",
       "      <th></th>\n",
       "      <th>head</th>\n",
       "      <th>tail</th>\n",
       "      <th>rel</th>\n",
       "    </tr>\n",
       "  </thead>\n",
       "  <tbody>\n",
       "    <tr>\n",
       "      <th>0</th>\n",
       "      <td>concept_politicsblog_perspective</td>\n",
       "      <td>concept_book_new</td>\n",
       "      <td>concept:proxyfor</td>\n",
       "    </tr>\n",
       "    <tr>\n",
       "      <th>1</th>\n",
       "      <td>concept_crustacean_nit</td>\n",
       "      <td>concept_university_unc_asheville</td>\n",
       "      <td>concept:agentcompeteswithagent</td>\n",
       "    </tr>\n",
       "    <tr>\n",
       "      <th>2</th>\n",
       "      <td>concept_physicalaction_organs</td>\n",
       "      <td>concept_website_blood</td>\n",
       "      <td>concept:subpartof</td>\n",
       "    </tr>\n",
       "    <tr>\n",
       "      <th>3</th>\n",
       "      <td>concept_drug_u_s__food_and_drug_administration</td>\n",
       "      <td>concept_date_n2004</td>\n",
       "      <td>concept:atdate</td>\n",
       "    </tr>\n",
       "    <tr>\n",
       "      <th>4</th>\n",
       "      <td>concept_athlete_orlovsky</td>\n",
       "      <td>49.1166700000000,18.4333300000000</td>\n",
       "      <td>concept:latitudelongitude</td>\n",
       "    </tr>\n",
       "  </tbody>\n",
       "</table>\n",
       "</div>"
      ],
      "text/plain": [
       "                                             head  \\\n",
       "0                concept_politicsblog_perspective   \n",
       "1                          concept_crustacean_nit   \n",
       "2                   concept_physicalaction_organs   \n",
       "3  concept_drug_u_s__food_and_drug_administration   \n",
       "4                        concept_athlete_orlovsky   \n",
       "\n",
       "                                tail                             rel  \n",
       "0                   concept_book_new                concept:proxyfor  \n",
       "1   concept_university_unc_asheville  concept:agentcompeteswithagent  \n",
       "2              concept_website_blood               concept:subpartof  \n",
       "3                 concept_date_n2004                  concept:atdate  \n",
       "4  49.1166700000000,18.4333300000000       concept:latitudelongitude  "
      ]
     },
     "execution_count": 13,
     "metadata": {},
     "output_type": "execute_result"
    }
   ],
   "source": [
    "df_worksfor_transX = pd.read_csv('./tasks/concept_worksfor/transX',names=['head','tail','rel'],sep='\\t',index_col=False,encoding='utf-8')\n",
    "df_worksfor_transX.head()"
   ]
  },
  {
   "cell_type": "code",
   "execution_count": 14,
   "metadata": {
    "collapsed": false
   },
   "outputs": [
    {
     "data": {
      "text/plain": [
       "153700"
      ]
     },
     "execution_count": 14,
     "metadata": {},
     "output_type": "execute_result"
    }
   ],
   "source": [
    "len(df_worksfor_transX)"
   ]
  },
  {
   "cell_type": "markdown",
   "metadata": {},
   "source": [
    "#### triple2id.txt\n",
    "  - \n",
    "  ``\n",
    "    153700\n",
    "    71316\t33054\t369 \n",
    "    4038\t49534\t105 \n",
    "    60365\t37408\t358 \n",
    "    15158\t65853\t332 \n",
    "    52181\t2514\t118 \n",
    "  ``"
   ]
  },
  {
   "cell_type": "markdown",
   "metadata": {},
   "source": [
    "#### graph.txt\n",
    "  - transX\n",
    "    - +_inv\n",
    "    - head,rel,tail"
   ]
  },
  {
   "cell_type": "code",
   "execution_count": 15,
   "metadata": {
    "collapsed": false
   },
   "outputs": [
    {
     "data": {
      "text/html": [
       "<div>\n",
       "<style>\n",
       "    .dataframe thead tr:only-child th {\n",
       "        text-align: right;\n",
       "    }\n",
       "\n",
       "    .dataframe thead th {\n",
       "        text-align: left;\n",
       "    }\n",
       "\n",
       "    .dataframe tbody tr th {\n",
       "        vertical-align: top;\n",
       "    }\n",
       "</style>\n",
       "<table border=\"1\" class=\"dataframe\">\n",
       "  <thead>\n",
       "    <tr style=\"text-align: right;\">\n",
       "      <th></th>\n",
       "      <th>head</th>\n",
       "      <th>rel</th>\n",
       "      <th>tail</th>\n",
       "    </tr>\n",
       "  </thead>\n",
       "  <tbody>\n",
       "    <tr>\n",
       "      <th>0</th>\n",
       "      <td>concept_politicsblog_perspective</td>\n",
       "      <td>concept:proxyfor</td>\n",
       "      <td>concept_book_new</td>\n",
       "    </tr>\n",
       "    <tr>\n",
       "      <th>1</th>\n",
       "      <td>concept_book_new</td>\n",
       "      <td>concept:proxyfor_inv</td>\n",
       "      <td>concept_politicsblog_perspective</td>\n",
       "    </tr>\n",
       "    <tr>\n",
       "      <th>2</th>\n",
       "      <td>concept_crustacean_nit</td>\n",
       "      <td>concept:agentcompeteswithagent</td>\n",
       "      <td>concept_university_unc_asheville</td>\n",
       "    </tr>\n",
       "    <tr>\n",
       "      <th>3</th>\n",
       "      <td>concept_university_unc_asheville</td>\n",
       "      <td>concept:agentcompeteswithagent_inv</td>\n",
       "      <td>concept_crustacean_nit</td>\n",
       "    </tr>\n",
       "    <tr>\n",
       "      <th>4</th>\n",
       "      <td>concept_physicalaction_organs</td>\n",
       "      <td>concept:subpartof</td>\n",
       "      <td>concept_website_blood</td>\n",
       "    </tr>\n",
       "  </tbody>\n",
       "</table>\n",
       "</div>"
      ],
      "text/plain": [
       "                               head                                 rel  \\\n",
       "0  concept_politicsblog_perspective                    concept:proxyfor   \n",
       "1                  concept_book_new                concept:proxyfor_inv   \n",
       "2            concept_crustacean_nit      concept:agentcompeteswithagent   \n",
       "3  concept_university_unc_asheville  concept:agentcompeteswithagent_inv   \n",
       "4     concept_physicalaction_organs                   concept:subpartof   \n",
       "\n",
       "                               tail  \n",
       "0                  concept_book_new  \n",
       "1  concept_politicsblog_perspective  \n",
       "2  concept_university_unc_asheville  \n",
       "3            concept_crustacean_nit  \n",
       "4             concept_website_blood  "
      ]
     },
     "execution_count": 15,
     "metadata": {},
     "output_type": "execute_result"
    }
   ],
   "source": [
    "df_worksfor_graph = pd.read_csv('./tasks/concept_worksfor/graph.txt',names=['head','rel','tail'],sep='\\t',index_col=False,encoding='utf-8')\n",
    "df_worksfor_graph.head()"
   ]
  },
  {
   "cell_type": "code",
   "execution_count": 16,
   "metadata": {
    "collapsed": false
   },
   "outputs": [
    {
     "data": {
      "text/plain": [
       "305012"
      ]
     },
     "execution_count": 16,
     "metadata": {},
     "output_type": "execute_result"
    }
   ],
   "source": [
    "len(df_worksfor_graph)"
   ]
  },
  {
   "cell_type": "markdown",
   "metadata": {},
   "source": [
    "#### Embedding"
   ]
  },
  {
   "cell_type": "raw",
   "metadata": {},
   "source": [
    "# entity\n",
    "    'entity2id.txt',  # 75492\n",
    "    'entity2vec.bern', # TransR\n",
    "    'entity2vec.unif', # TransE\n",
    "    'entity2vec.vec',  # TransH\n",
    "    'entity2vec.vec_D',# TransD\n",
    "# relation         # 400=200*2(_inv)\n",
    "    'relation2id.txt', \n",
    "    'relation2vec.bern',\n",
    "    'relation2vec.unif',\n",
    "    'relation2vec.vec',\n",
    "    'relation2vec.vec_D',"
   ]
  },
  {
   "cell_type": "markdown",
   "metadata": {},
   "source": [
    "### train/test samples"
   ]
  },
  {
   "cell_type": "markdown",
   "metadata": {},
   "source": [
    "#### worksfor-all_data"
   ]
  },
  {
   "cell_type": "code",
   "execution_count": 17,
   "metadata": {
    "collapsed": false
   },
   "outputs": [
    {
     "data": {
      "text/html": [
       "<div>\n",
       "<style>\n",
       "    .dataframe thead tr:only-child th {\n",
       "        text-align: right;\n",
       "    }\n",
       "\n",
       "    .dataframe thead th {\n",
       "        text-align: left;\n",
       "    }\n",
       "\n",
       "    .dataframe tbody tr th {\n",
       "        vertical-align: top;\n",
       "    }\n",
       "</style>\n",
       "<table border=\"1\" class=\"dataframe\">\n",
       "  <thead>\n",
       "    <tr style=\"text-align: right;\">\n",
       "      <th></th>\n",
       "      <th>head</th>\n",
       "      <th>tail</th>\n",
       "      <th>rel</th>\n",
       "    </tr>\n",
       "  </thead>\n",
       "  <tbody>\n",
       "    <tr>\n",
       "      <th>0</th>\n",
       "      <td>concept:person:molly_moore</td>\n",
       "      <td>concept:city:washington_d_c</td>\n",
       "      <td>concept:worksfor</td>\n",
       "    </tr>\n",
       "    <tr>\n",
       "      <th>1</th>\n",
       "      <td>concept:person:bruce_iglauer</td>\n",
       "      <td>concept:blog:alligator</td>\n",
       "      <td>concept:worksfor</td>\n",
       "    </tr>\n",
       "    <tr>\n",
       "      <th>2</th>\n",
       "      <td>concept:person:katsuaki_watanabe</td>\n",
       "      <td>concept:automobilemaker:toyota_motor</td>\n",
       "      <td>concept:worksfor</td>\n",
       "    </tr>\n",
       "    <tr>\n",
       "      <th>3</th>\n",
       "      <td>concept:person:katsuaki_watanabe</td>\n",
       "      <td>concept:automobilemaker:toyota_motor_corporation</td>\n",
       "      <td>concept:worksfor</td>\n",
       "    </tr>\n",
       "    <tr>\n",
       "      <th>4</th>\n",
       "      <td>concept:comedian:george_jones</td>\n",
       "      <td>concept:company:borders</td>\n",
       "      <td>concept:worksfor</td>\n",
       "    </tr>\n",
       "  </tbody>\n",
       "</table>\n",
       "</div>"
      ],
      "text/plain": [
       "                               head  \\\n",
       "0        concept:person:molly_moore   \n",
       "1      concept:person:bruce_iglauer   \n",
       "2  concept:person:katsuaki_watanabe   \n",
       "3  concept:person:katsuaki_watanabe   \n",
       "4     concept:comedian:george_jones   \n",
       "\n",
       "                                               tail               rel  \n",
       "0                       concept:city:washington_d_c  concept:worksfor  \n",
       "1                            concept:blog:alligator  concept:worksfor  \n",
       "2              concept:automobilemaker:toyota_motor  concept:worksfor  \n",
       "3  concept:automobilemaker:toyota_motor_corporation  concept:worksfor  \n",
       "4                           concept:company:borders  concept:worksfor  "
      ]
     },
     "execution_count": 17,
     "metadata": {},
     "output_type": "execute_result"
    }
   ],
   "source": [
    "df_worksfor_all = pd.read_csv('./tasks/concept_worksfor/all_data',names=['head','tail','rel'],sep='\\t',index_col=False,encoding='utf-8')\n",
    "df_worksfor_all.head()"
   ]
  },
  {
   "cell_type": "code",
   "execution_count": 18,
   "metadata": {
    "collapsed": false
   },
   "outputs": [
    {
     "data": {
      "text/plain": [
       "1707"
      ]
     },
     "execution_count": 18,
     "metadata": {},
     "output_type": "execute_result"
    }
   ],
   "source": [
    "len(df_worksfor_all)"
   ]
  },
  {
   "cell_type": "markdown",
   "metadata": {},
   "source": [
    "#### train_pos\n",
    "  - concept:worksfor:\n",
    "    - filter from trainX"
   ]
  },
  {
   "cell_type": "code",
   "execution_count": 19,
   "metadata": {
    "collapsed": false
   },
   "outputs": [
    {
     "data": {
      "text/html": [
       "<div>\n",
       "<style>\n",
       "    .dataframe thead tr:only-child th {\n",
       "        text-align: right;\n",
       "    }\n",
       "\n",
       "    .dataframe thead th {\n",
       "        text-align: left;\n",
       "    }\n",
       "\n",
       "    .dataframe tbody tr th {\n",
       "        vertical-align: top;\n",
       "    }\n",
       "</style>\n",
       "<table border=\"1\" class=\"dataframe\">\n",
       "  <thead>\n",
       "    <tr style=\"text-align: right;\">\n",
       "      <th></th>\n",
       "      <th>head</th>\n",
       "      <th>tail</th>\n",
       "      <th>rel</th>\n",
       "    </tr>\n",
       "  </thead>\n",
       "  <tbody>\n",
       "    <tr>\n",
       "      <th>0</th>\n",
       "      <td>concept_architect_opinion</td>\n",
       "      <td>concept_stateorprovince_times</td>\n",
       "      <td>concept:worksfor</td>\n",
       "    </tr>\n",
       "    <tr>\n",
       "      <th>1</th>\n",
       "      <td>concept_coach_tom_izzo</td>\n",
       "      <td>concept_sportsteam_michigan_state</td>\n",
       "      <td>concept:worksfor</td>\n",
       "    </tr>\n",
       "    <tr>\n",
       "      <th>2</th>\n",
       "      <td>concept_person_lang_cheng</td>\n",
       "      <td>concept_organization_immigration_bureau</td>\n",
       "      <td>concept:worksfor</td>\n",
       "    </tr>\n",
       "    <tr>\n",
       "      <th>3</th>\n",
       "      <td>concept_male_john_thompson_iii</td>\n",
       "      <td>concept_city_georgetown</td>\n",
       "      <td>concept:worksfor</td>\n",
       "    </tr>\n",
       "    <tr>\n",
       "      <th>4</th>\n",
       "      <td>concept_journalist_thomas_friedman</td>\n",
       "      <td>concept_politicsblog_ny_times</td>\n",
       "      <td>concept:worksfor</td>\n",
       "    </tr>\n",
       "  </tbody>\n",
       "</table>\n",
       "</div>"
      ],
      "text/plain": [
       "                                 head  \\\n",
       "0           concept_architect_opinion   \n",
       "1              concept_coach_tom_izzo   \n",
       "2           concept_person_lang_cheng   \n",
       "3      concept_male_john_thompson_iii   \n",
       "4  concept_journalist_thomas_friedman   \n",
       "\n",
       "                                      tail               rel  \n",
       "0            concept_stateorprovince_times  concept:worksfor  \n",
       "1        concept_sportsteam_michigan_state  concept:worksfor  \n",
       "2  concept_organization_immigration_bureau  concept:worksfor  \n",
       "3                  concept_city_georgetown  concept:worksfor  \n",
       "4            concept_politicsblog_ny_times  concept:worksfor  "
      ]
     },
     "execution_count": 19,
     "metadata": {},
     "output_type": "execute_result"
    }
   ],
   "source": [
    "df_worksfor_pos = pd.read_csv('./tasks/concept_worksfor/train_pos',names=['head','tail','rel'],sep='\\t',index_col=False,encoding='utf-8')\n",
    "df_worksfor_pos.head()"
   ]
  },
  {
   "cell_type": "code",
   "execution_count": 20,
   "metadata": {
    "collapsed": false
   },
   "outputs": [
    {
     "data": {
      "text/plain": [
       "1194"
      ]
     },
     "execution_count": 20,
     "metadata": {},
     "output_type": "execute_result"
    }
   ],
   "source": [
    "len(df_worksfor_pos)"
   ]
  },
  {
   "cell_type": "markdown",
   "metadata": {},
   "source": [
    "#### train.pairs\n",
    "  - pos -> pairs?"
   ]
  },
  {
   "cell_type": "code",
   "execution_count": 21,
   "metadata": {
    "collapsed": false
   },
   "outputs": [
    {
     "data": {
      "text/html": [
       "<div>\n",
       "<style>\n",
       "    .dataframe thead tr:only-child th {\n",
       "        text-align: right;\n",
       "    }\n",
       "\n",
       "    .dataframe thead th {\n",
       "        text-align: left;\n",
       "    }\n",
       "\n",
       "    .dataframe tbody tr th {\n",
       "        vertical-align: top;\n",
       "    }\n",
       "</style>\n",
       "<table border=\"1\" class=\"dataframe\">\n",
       "  <thead>\n",
       "    <tr style=\"text-align: right;\">\n",
       "      <th></th>\n",
       "      <th>head</th>\n",
       "      <th>tail</th>\n",
       "      <th>flag</th>\n",
       "    </tr>\n",
       "  </thead>\n",
       "  <tbody>\n",
       "    <tr>\n",
       "      <th>0</th>\n",
       "      <td>thing$concept_coach_stan_brock</td>\n",
       "      <td>thing$concept_politicalparty_college</td>\n",
       "      <td>-</td>\n",
       "    </tr>\n",
       "    <tr>\n",
       "      <th>1</th>\n",
       "      <td>thing$concept_person_robbie_bach</td>\n",
       "      <td>thing$concept_ceo_terry_semel</td>\n",
       "      <td>-</td>\n",
       "    </tr>\n",
       "    <tr>\n",
       "      <th>2</th>\n",
       "      <td>thing$concept_personaustralia_david_brown</td>\n",
       "      <td>thing$concept_company_virgin_blue</td>\n",
       "      <td>-</td>\n",
       "    </tr>\n",
       "    <tr>\n",
       "      <th>3</th>\n",
       "      <td>thing$concept_musician_barbara_walters</td>\n",
       "      <td>thing$concept_website_abc</td>\n",
       "      <td>-</td>\n",
       "    </tr>\n",
       "    <tr>\n",
       "      <th>4</th>\n",
       "      <td>thing$concept_coach_martz</td>\n",
       "      <td>thing$concept_sportsteam_bears_29_17</td>\n",
       "      <td>-</td>\n",
       "    </tr>\n",
       "  </tbody>\n",
       "</table>\n",
       "</div>"
      ],
      "text/plain": [
       "                                        head  \\\n",
       "0             thing$concept_coach_stan_brock   \n",
       "1           thing$concept_person_robbie_bach   \n",
       "2  thing$concept_personaustralia_david_brown   \n",
       "3     thing$concept_musician_barbara_walters   \n",
       "4                  thing$concept_coach_martz   \n",
       "\n",
       "                                   tail flag  \n",
       "0  thing$concept_politicalparty_college    -  \n",
       "1         thing$concept_ceo_terry_semel    -  \n",
       "2     thing$concept_company_virgin_blue    -  \n",
       "3             thing$concept_website_abc    -  \n",
       "4  thing$concept_sportsteam_bears_29_17    -  "
      ]
     },
     "execution_count": 21,
     "metadata": {},
     "output_type": "execute_result"
    }
   ],
   "source": [
    "df_worksfor_train = pd.read_csv('./tasks/concept_worksfor/train.pairs',names=['head','tail'],sep=',',index_col=False,encoding='utf-8')\n",
    "df_worksfor_train['flag'] = df_worksfor_train['tail'].apply(lambda x:x.split(':')[1])\n",
    "df_worksfor_train['tail'] = df_worksfor_train['tail'].apply(lambda x:x.split(':')[0])\n",
    "df_worksfor_train.head()"
   ]
  },
  {
   "cell_type": "code",
   "execution_count": 22,
   "metadata": {
    "collapsed": false
   },
   "outputs": [
    {
     "data": {
      "text/plain": [
       "6911"
      ]
     },
     "execution_count": 22,
     "metadata": {},
     "output_type": "execute_result"
    }
   ],
   "source": [
    "len(df_worksfor_train)"
   ]
  },
  {
   "cell_type": "markdown",
   "metadata": {},
   "source": [
    "#### test.pairs"
   ]
  },
  {
   "cell_type": "code",
   "execution_count": 23,
   "metadata": {
    "collapsed": false
   },
   "outputs": [
    {
     "data": {
      "text/html": [
       "<div>\n",
       "<style>\n",
       "    .dataframe thead tr:only-child th {\n",
       "        text-align: right;\n",
       "    }\n",
       "\n",
       "    .dataframe thead th {\n",
       "        text-align: left;\n",
       "    }\n",
       "\n",
       "    .dataframe tbody tr th {\n",
       "        vertical-align: top;\n",
       "    }\n",
       "</style>\n",
       "<table border=\"1\" class=\"dataframe\">\n",
       "  <thead>\n",
       "    <tr style=\"text-align: right;\">\n",
       "      <th></th>\n",
       "      <th>head</th>\n",
       "      <th>tail</th>\n",
       "      <th>flag</th>\n",
       "    </tr>\n",
       "  </thead>\n",
       "  <tbody>\n",
       "    <tr>\n",
       "      <th>0</th>\n",
       "      <td>thing$concept_politician_sam_sullivan</td>\n",
       "      <td>thing$concept_city_whistler</td>\n",
       "      <td>-</td>\n",
       "    </tr>\n",
       "    <tr>\n",
       "      <th>1</th>\n",
       "      <td>thing$concept_journalist_harvey_araton</td>\n",
       "      <td>thing$concept_website_daily_news</td>\n",
       "      <td>-</td>\n",
       "    </tr>\n",
       "    <tr>\n",
       "      <th>2</th>\n",
       "      <td>thing$concept_ceo_barry_meyer</td>\n",
       "      <td>thing$concept_biotechcompany_the_walt_disney_co_</td>\n",
       "      <td>-</td>\n",
       "    </tr>\n",
       "    <tr>\n",
       "      <th>3</th>\n",
       "      <td>thing$concept_ceo_c__michael_armstrong</td>\n",
       "      <td>thing$concept_politicsblog_weekly_standard</td>\n",
       "      <td>-</td>\n",
       "    </tr>\n",
       "    <tr>\n",
       "      <th>4</th>\n",
       "      <td>thing$concept_journalist_jack_anderson</td>\n",
       "      <td>thing$concept_website_new_york_times</td>\n",
       "      <td>-</td>\n",
       "    </tr>\n",
       "  </tbody>\n",
       "</table>\n",
       "</div>"
      ],
      "text/plain": [
       "                                     head  \\\n",
       "0   thing$concept_politician_sam_sullivan   \n",
       "1  thing$concept_journalist_harvey_araton   \n",
       "2           thing$concept_ceo_barry_meyer   \n",
       "3  thing$concept_ceo_c__michael_armstrong   \n",
       "4  thing$concept_journalist_jack_anderson   \n",
       "\n",
       "                                               tail flag  \n",
       "0                       thing$concept_city_whistler    -  \n",
       "1                  thing$concept_website_daily_news    -  \n",
       "2  thing$concept_biotechcompany_the_walt_disney_co_    -  \n",
       "3        thing$concept_politicsblog_weekly_standard    -  \n",
       "4              thing$concept_website_new_york_times    -  "
      ]
     },
     "execution_count": 23,
     "metadata": {},
     "output_type": "execute_result"
    }
   ],
   "source": [
    "df_worksfor_test = pd.read_csv('./tasks/concept_worksfor/test.pairs',names=['head','tail'],sep=',',index_col=False,encoding='utf-8')\n",
    "df_worksfor_test['flag'] = df_worksfor_test['tail'].apply(lambda x:x.split(':')[1])\n",
    "df_worksfor_test['tail'] = df_worksfor_test['tail'].apply(lambda x:x.split(':')[0])\n",
    "df_worksfor_test.head()"
   ]
  },
  {
   "cell_type": "code",
   "execution_count": 24,
   "metadata": {
    "collapsed": false
   },
   "outputs": [
    {
     "data": {
      "text/plain": [
       "2698"
      ]
     },
     "execution_count": 24,
     "metadata": {},
     "output_type": "execute_result"
    }
   ],
   "source": [
    "len(df_worksfor_test)"
   ]
  },
  {
   "cell_type": "markdown",
   "metadata": {},
   "source": [
    "#### sort_test.pairs\n",
    "  - test.pairs\n",
    "    - head sort by string"
   ]
  },
  {
   "cell_type": "markdown",
   "metadata": {},
   "source": [
    "#### path\n",
    "  - path_stats.txt\n",
    "    - path frequency of randomised BFS\n",
    "    -    ``\n",
    "        concept:organizationhiredperson_inv\t47\n",
    "        concept:personleadsorganization\t33\n",
    "        concept:agentcollaborateswithagent_inv\t12\n",
    "        concept:journalistwritesforpublication\t10\n",
    "        concept:organizationterminatedperson_inv\t3\n",
    "        ``\n",
    "            \n",
    "  - path_to_use.txt\n",
    "    - reasoning paths found the RL agent\n",
    "    -    ``\n",
    "        concept:personleadsorganization\n",
    "        concept:organizationhiredperson_inv\n",
    "        concept:agentcollaborateswithagent_inv\n",
    "        concept:journalistwritesforpublication\n",
    "        concept:mutualproxyfor_inv\n",
    "        concept:organizationterminatedperson_inv\n",
    "        concept:topmemberoforganization\n",
    "        concept:coachesteam\n",
    "        concept:ceoof\n",
    "        ``"
   ]
  }
 ],
 "metadata": {
  "kernelspec": {
   "display_name": "Python 3",
   "language": "python",
   "name": "python3"
  },
  "language_info": {
   "codemirror_mode": {
    "name": "ipython",
    "version": 3
   },
   "file_extension": ".py",
   "mimetype": "text/x-python",
   "name": "python",
   "nbconvert_exporter": "python",
   "pygments_lexer": "ipython3",
   "version": "3.6.4"
  }
 },
 "nbformat": 4,
 "nbformat_minor": 2
}
