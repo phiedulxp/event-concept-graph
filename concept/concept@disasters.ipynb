{
 "cells": [
  {
   "cell_type": "code",
   "execution_count": 1,
   "metadata": {
    "collapsed": false
   },
   "outputs": [
    {
     "name": "stderr",
     "output_type": "stream",
     "text": [
      "D:\\Anaconda3\\lib\\site-packages\\gensim\\utils.py:1197: UserWarning: detected Windows; aliasing chunkize to chunkize_serial\n",
      "  warnings.warn(\"detected Windows; aliasing chunkize to chunkize_serial\")\n"
     ]
    }
   ],
   "source": [
    "from gensim.models import KeyedVectors\n",
    "from gensim.similarities.index import AnnoyIndexer\n",
    "wv = KeyedVectors.load_word2vec_format('glove.6B.300d.bin', binary=True)\n",
    "annoy_index = AnnoyIndexer()\n",
    "annoy_index.load('glove.6B.300d.index')\n",
    "annoy_index.model = wv"
   ]
  },
  {
   "cell_type": "code",
   "execution_count": 31,
   "metadata": {
    "collapsed": false
   },
   "outputs": [
    {
     "data": {
      "text/plain": [
       "'catastrophe'"
      ]
     },
     "execution_count": 31,
     "metadata": {},
     "output_type": "execute_result"
    }
   ],
   "source": [
    "wv.most_similar_to_given('disaster',['crash', 'tragedy', 'accidents', 'disasters', 'collision', 'catastrophe', 'happened', 'occurred'])"
   ]
  },
  {
   "cell_type": "code",
   "execution_count": 126,
   "metadata": {
    "collapsed": true
   },
   "outputs": [],
   "source": [
    "vocab_disasters_and_accdients = dict(wv.most_similar(positive=['disaster','accident',], topn=1000, indexer=annoy_index))"
   ]
  },
  {
   "cell_type": "code",
   "execution_count": 127,
   "metadata": {
    "collapsed": false
   },
   "outputs": [
    {
     "data": {
      "text/plain": [
       "[('believe', 0.3937186598777771),\n",
       " ('operational', 0.39366304874420166),\n",
       " ('preventing', 0.39358747005462646),\n",
       " ('financial', 0.3934321999549866),\n",
       " ('1993', 0.39342111349105835),\n",
       " ('canceled', 0.39341872930526733),\n",
       " ('such', 0.39336079359054565),\n",
       " ('two', 0.3933504819869995),\n",
       " ('engineering', 0.3933461308479309),\n",
       " ('center', 0.3933337330818176),\n",
       " ('total', 0.3933243155479431),\n",
       " ('study', 0.39331817626953125),\n",
       " ('initially', 0.393296480178833),\n",
       " ('entire', 0.39329075813293457),\n",
       " ('driving', 0.39326250553131104),\n",
       " ('investigator', 0.39325881004333496),\n",
       " ('leave', 0.3932558298110962),\n",
       " ('recovering', 0.39320796728134155),\n",
       " ('several', 0.39320677518844604),\n",
       " ('goes', 0.39318573474884033),\n",
       " ('_', 0.39318472146987915),\n",
       " ('learn', 0.39316534996032715),\n",
       " ('emotional', 0.3931204676628113),\n",
       " ('doctors', 0.393096923828125),\n",
       " ('halted', 0.39309579133987427),\n",
       " ('flying', 0.393083393573761),\n",
       " ('southwestern', 0.39304685592651367),\n",
       " ('biggest', 0.39302748441696167),\n",
       " ('15', 0.39301854372024536),\n",
       " ('monitoring', 0.3929588198661804),\n",
       " ('jetliner', 0.3929331302642822),\n",
       " ('troubles', 0.392902672290802),\n",
       " ('bring', 0.39288973808288574),\n",
       " ('they', 0.392829954624176),\n",
       " ('leakage', 0.39282935857772827),\n",
       " ('husband', 0.3928227424621582),\n",
       " ('unrest', 0.3927985429763794),\n",
       " ('airlines', 0.39277589321136475),\n",
       " ('tourists', 0.39276832342147827),\n",
       " ('now', 0.3927128314971924),\n",
       " ('plagued', 0.39258575439453125),\n",
       " ('security', 0.3925797939300537),\n",
       " ('revealed', 0.39255988597869873),\n",
       " ('occurring', 0.39255595207214355),\n",
       " ('december', 0.3925436735153198),\n",
       " ('acute', 0.39250999689102173),\n",
       " ('proved', 0.39249932765960693),\n",
       " ('witnesses', 0.39249712228775024),\n",
       " ('sick', 0.3924035429954529),\n",
       " ('as', 0.3923988938331604),\n",
       " ('interfax', 0.39238500595092773),\n",
       " ('needed', 0.39238089323043823),\n",
       " ('visited', 0.39237743616104126),\n",
       " ('fix', 0.39235520362854004),\n",
       " ('unaccounted', 0.39230817556381226),\n",
       " ('many', 0.39225083589553833),\n",
       " ('suspicious', 0.39224904775619507),\n",
       " ('demise', 0.39222586154937744),\n",
       " (':', 0.39218711853027344),\n",
       " ('october', 0.3921785354614258),\n",
       " ('presumed', 0.3921738862991333),\n",
       " ('department', 0.3921700119972229),\n",
       " ('asked', 0.3921242356300354),\n",
       " ('rain', 0.39210397005081177),\n",
       " ('analysis', 0.39208728075027466),\n",
       " ('examine', 0.3920580744743347),\n",
       " ('fated', 0.3920201063156128),\n",
       " ('started', 0.39198851585388184),\n",
       " ('warnings', 0.39197415113449097),\n",
       " ('1989', 0.3919641971588135),\n",
       " ('conduct', 0.3919360637664795),\n",
       " ('condolences', 0.3919302821159363),\n",
       " ('an', 0.39191895723342896),\n",
       " ('sabotage', 0.39189910888671875),\n",
       " ('kilometers', 0.3918094038963318),\n",
       " ('nations', 0.3917422890663147),\n",
       " ('planes', 0.3917042016983032),\n",
       " ('titanic', 0.3916712999343872),\n",
       " ('plunged', 0.3916223645210266),\n",
       " ('1988', 0.3915756940841675),\n",
       " ('cancellation', 0.39155811071395874),\n",
       " ('injures', 0.39148467779159546),\n",
       " ('future', 0.39143049716949463),\n",
       " ('meteorological', 0.3914251923561096),\n",
       " ('finally', 0.3914151191711426),\n",
       " ('parts', 0.3913835287094116),\n",
       " ('local', 0.3912582993507385),\n",
       " ('knowing', 0.39118707180023193),\n",
       " ('at', 0.3911488652229309),\n",
       " ('recall', 0.39114314317703247),\n",
       " ('passing', 0.39112114906311035),\n",
       " ('place', 0.3911011219024658),\n",
       " ('lasted', 0.3910970687866211),\n",
       " ('beginning', 0.39105361700057983),\n",
       " ('sunk', 0.3910179138183594),\n",
       " ('supposed', 0.39100825786590576),\n",
       " ('dangers', 0.3909822106361389),\n",
       " ('plans', 0.3909767270088196),\n",
       " ('anniversary', 0.39094823598861694),\n",
       " ('force', 0.39094412326812744)]"
      ]
     },
     "execution_count": 127,
     "metadata": {},
     "output_type": "execute_result"
    }
   ],
   "source": [
    "list(vocab_disasters_and_accdients.items())[-100:]"
   ]
  },
  {
   "cell_type": "code",
   "execution_count": 128,
   "metadata": {
    "collapsed": true
   },
   "outputs": [],
   "source": [
    "vocab = list(vocab_disasters_and_accdients.keys())"
   ]
  },
  {
   "cell_type": "code",
   "execution_count": 129,
   "metadata": {
    "collapsed": false
   },
   "outputs": [
    {
     "data": {
      "text/plain": [
       "['disaster',\n",
       " 'accident',\n",
       " 'crash',\n",
       " 'tragedy',\n",
       " 'accidents',\n",
       " 'disasters',\n",
       " 'collision',\n",
       " 'catastrophe',\n",
       " 'happened',\n",
       " 'occurred']"
      ]
     },
     "execution_count": 129,
     "metadata": {},
     "output_type": "execute_result"
    }
   ],
   "source": [
    "vocab[:10]"
   ]
  },
  {
   "cell_type": "code",
   "execution_count": 130,
   "metadata": {
    "collapsed": true
   },
   "outputs": [],
   "source": [
    "from uri import *"
   ]
  },
  {
   "cell_type": "code",
   "execution_count": 131,
   "metadata": {
    "collapsed": false
   },
   "outputs": [
    {
     "data": {
      "text/plain": [
       "'24 hour clock'"
      ]
     },
     "execution_count": 131,
     "metadata": {},
     "output_type": "execute_result"
    }
   ],
   "source": [
    "uri_to_label('/c/en/24_hour_clock/n')"
   ]
  },
  {
   "cell_type": "code",
   "execution_count": 132,
   "metadata": {
    "collapsed": true
   },
   "outputs": [],
   "source": [
    "import dask.dataframe as dd"
   ]
  },
  {
   "cell_type": "code",
   "execution_count": 133,
   "metadata": {
    "collapsed": false
   },
   "outputs": [],
   "source": [
    "df_conceptnet = dd.read_csv('./ccnet/neo-en-noURL/conceptnet-rel-*.csv',names=['start','rel','end','weight'])"
   ]
  },
  {
   "cell_type": "code",
   "execution_count": 134,
   "metadata": {
    "collapsed": false
   },
   "outputs": [],
   "source": [
    "df_probase = dd.read_csv('./ccnet/neo-en-noURL/microsoft-rel-*.csv',names=['start','rel','end','weight'])"
   ]
  },
  {
   "cell_type": "code",
   "execution_count": 135,
   "metadata": {
    "collapsed": false
   },
   "outputs": [
    {
     "name": "stderr",
     "output_type": "stream",
     "text": [
      "D:\\Anaconda3\\lib\\site-packages\\dask\\dataframe\\core.py:2184: UserWarning: `meta` is not specified, inferred from partial data. Please provide `meta` if the result is unexpected.\n",
      "  Before: .apply(func)\n",
      "  After:  .apply(func, meta={'x': 'f8', 'y': 'f8'}) for dataframe result\n",
      "  or:     .apply(func, meta=('x', 'f8'))            for series result\n",
      "  warnings.warn(msg)\n"
     ]
    }
   ],
   "source": [
    "df_conceptnet['start_label'] = df_conceptnet['start'].apply(uri_to_label)\n",
    "df_conceptnet['end_label'] = df_conceptnet['end'].apply(uri_to_label)"
   ]
  },
  {
   "cell_type": "code",
   "execution_count": 136,
   "metadata": {
    "collapsed": false
   },
   "outputs": [
    {
     "data": {
      "text/html": [
       "<div>\n",
       "<style scoped>\n",
       "    .dataframe tbody tr th:only-of-type {\n",
       "        vertical-align: middle;\n",
       "    }\n",
       "\n",
       "    .dataframe tbody tr th {\n",
       "        vertical-align: top;\n",
       "    }\n",
       "\n",
       "    .dataframe thead th {\n",
       "        text-align: right;\n",
       "    }\n",
       "</style>\n",
       "<table border=\"1\" class=\"dataframe\">\n",
       "  <thead>\n",
       "    <tr style=\"text-align: right;\">\n",
       "      <th></th>\n",
       "      <th>start</th>\n",
       "      <th>rel</th>\n",
       "      <th>end</th>\n",
       "      <th>weight</th>\n",
       "      <th>start_label</th>\n",
       "      <th>end_label</th>\n",
       "    </tr>\n",
       "  </thead>\n",
       "  <tbody>\n",
       "    <tr>\n",
       "      <th>0</th>\n",
       "      <td>/c/en/0/n</td>\n",
       "      <td>/r/Antonym</td>\n",
       "      <td>/c/en/1</td>\n",
       "      <td>1.0</td>\n",
       "      <td>0</td>\n",
       "      <td>1</td>\n",
       "    </tr>\n",
       "    <tr>\n",
       "      <th>1</th>\n",
       "      <td>/c/en/12_hour_clock/n</td>\n",
       "      <td>/r/Antonym</td>\n",
       "      <td>/c/en/24_hour_clock</td>\n",
       "      <td>1.0</td>\n",
       "      <td>12 hour clock</td>\n",
       "      <td>24 hour clock</td>\n",
       "    </tr>\n",
       "    <tr>\n",
       "      <th>2</th>\n",
       "      <td>/c/en/24_hour_clock/n</td>\n",
       "      <td>/r/Antonym</td>\n",
       "      <td>/c/en/12_hour_clock</td>\n",
       "      <td>1.0</td>\n",
       "      <td>24 hour clock</td>\n",
       "      <td>12 hour clock</td>\n",
       "    </tr>\n",
       "    <tr>\n",
       "      <th>3</th>\n",
       "      <td>/c/en/5/n</td>\n",
       "      <td>/r/Antonym</td>\n",
       "      <td>/c/en/3</td>\n",
       "      <td>1.0</td>\n",
       "      <td>5</td>\n",
       "      <td>3</td>\n",
       "    </tr>\n",
       "    <tr>\n",
       "      <th>4</th>\n",
       "      <td>/c/en/a.c/n</td>\n",
       "      <td>/r/Antonym</td>\n",
       "      <td>/c/en/d.c</td>\n",
       "      <td>1.0</td>\n",
       "      <td>a.c</td>\n",
       "      <td>d.c</td>\n",
       "    </tr>\n",
       "  </tbody>\n",
       "</table>\n",
       "</div>"
      ],
      "text/plain": [
       "                   start         rel                  end  weight  \\\n",
       "0              /c/en/0/n  /r/Antonym              /c/en/1     1.0   \n",
       "1  /c/en/12_hour_clock/n  /r/Antonym  /c/en/24_hour_clock     1.0   \n",
       "2  /c/en/24_hour_clock/n  /r/Antonym  /c/en/12_hour_clock     1.0   \n",
       "3              /c/en/5/n  /r/Antonym              /c/en/3     1.0   \n",
       "4            /c/en/a.c/n  /r/Antonym            /c/en/d.c     1.0   \n",
       "\n",
       "     start_label      end_label  \n",
       "0              0              1  \n",
       "1  12 hour clock  24 hour clock  \n",
       "2  24 hour clock  12 hour clock  \n",
       "3              5              3  \n",
       "4            a.c            d.c  "
      ]
     },
     "execution_count": 136,
     "metadata": {},
     "output_type": "execute_result"
    }
   ],
   "source": [
    "df_conceptnet.head()"
   ]
  },
  {
   "cell_type": "code",
   "execution_count": 137,
   "metadata": {
    "collapsed": false
   },
   "outputs": [
    {
     "name": "stderr",
     "output_type": "stream",
     "text": [
      "D:\\Anaconda3\\lib\\site-packages\\dask\\dataframe\\core.py:2184: UserWarning: `meta` is not specified, inferred from partial data. Please provide `meta` if the result is unexpected.\n",
      "  Before: .apply(func)\n",
      "  After:  .apply(func, meta={'x': 'f8', 'y': 'f8'}) for dataframe result\n",
      "  or:     .apply(func, meta=('x', 'f8'))            for series result\n",
      "  warnings.warn(msg)\n"
     ]
    }
   ],
   "source": [
    "df_probase['start_label'] = df_probase['start'].apply(uri_to_label)\n",
    "df_probase['end_label'] = df_probase['end'].apply(uri_to_label)"
   ]
  },
  {
   "cell_type": "code",
   "execution_count": 138,
   "metadata": {
    "collapsed": false
   },
   "outputs": [
    {
     "data": {
      "text/html": [
       "<div>\n",
       "<style scoped>\n",
       "    .dataframe tbody tr th:only-of-type {\n",
       "        vertical-align: middle;\n",
       "    }\n",
       "\n",
       "    .dataframe tbody tr th {\n",
       "        vertical-align: top;\n",
       "    }\n",
       "\n",
       "    .dataframe thead th {\n",
       "        text-align: right;\n",
       "    }\n",
       "</style>\n",
       "<table border=\"1\" class=\"dataframe\">\n",
       "  <thead>\n",
       "    <tr style=\"text-align: right;\">\n",
       "      <th></th>\n",
       "      <th>start</th>\n",
       "      <th>rel</th>\n",
       "      <th>end</th>\n",
       "      <th>weight</th>\n",
       "      <th>start_label</th>\n",
       "      <th>end_label</th>\n",
       "    </tr>\n",
       "  </thead>\n",
       "  <tbody>\n",
       "    <tr>\n",
       "      <th>0</th>\n",
       "      <td>/c/en/age</td>\n",
       "      <td>/r/microsoft/IsA</td>\n",
       "      <td>/c/en/factor</td>\n",
       "      <td>3.5167</td>\n",
       "      <td>age</td>\n",
       "      <td>factor</td>\n",
       "    </tr>\n",
       "    <tr>\n",
       "      <th>1</th>\n",
       "      <td>/c/en/size</td>\n",
       "      <td>/r/microsoft/IsA</td>\n",
       "      <td>/c/en/free_rich_company_datum</td>\n",
       "      <td>3.3222</td>\n",
       "      <td>size</td>\n",
       "      <td>free rich company datum</td>\n",
       "    </tr>\n",
       "    <tr>\n",
       "      <th>2</th>\n",
       "      <td>/c/en/revenue</td>\n",
       "      <td>/r/microsoft/IsA</td>\n",
       "      <td>/c/en/free_rich_company_datum</td>\n",
       "      <td>3.3185</td>\n",
       "      <td>revenue</td>\n",
       "      <td>free rich company datum</td>\n",
       "    </tr>\n",
       "    <tr>\n",
       "      <th>3</th>\n",
       "      <td>/c/en/california</td>\n",
       "      <td>/r/microsoft/IsA</td>\n",
       "      <td>/c/en/state</td>\n",
       "      <td>1.8062</td>\n",
       "      <td>california</td>\n",
       "      <td>state</td>\n",
       "    </tr>\n",
       "    <tr>\n",
       "      <th>4</th>\n",
       "      <td>/c/en/msm_glucosamine_sulfate</td>\n",
       "      <td>/r/microsoft/IsA</td>\n",
       "      <td>/c/en/supplement</td>\n",
       "      <td>1.5942</td>\n",
       "      <td>msm glucosamine sulfate</td>\n",
       "      <td>supplement</td>\n",
       "    </tr>\n",
       "  </tbody>\n",
       "</table>\n",
       "</div>"
      ],
      "text/plain": [
       "                           start               rel  \\\n",
       "0                      /c/en/age  /r/microsoft/IsA   \n",
       "1                     /c/en/size  /r/microsoft/IsA   \n",
       "2                  /c/en/revenue  /r/microsoft/IsA   \n",
       "3               /c/en/california  /r/microsoft/IsA   \n",
       "4  /c/en/msm_glucosamine_sulfate  /r/microsoft/IsA   \n",
       "\n",
       "                             end  weight              start_label  \\\n",
       "0                   /c/en/factor  3.5167                      age   \n",
       "1  /c/en/free_rich_company_datum  3.3222                     size   \n",
       "2  /c/en/free_rich_company_datum  3.3185                  revenue   \n",
       "3                    /c/en/state  1.8062               california   \n",
       "4               /c/en/supplement  1.5942  msm glucosamine sulfate   \n",
       "\n",
       "                 end_label  \n",
       "0                   factor  \n",
       "1  free rich company datum  \n",
       "2  free rich company datum  \n",
       "3                    state  \n",
       "4               supplement  "
      ]
     },
     "execution_count": 138,
     "metadata": {},
     "output_type": "execute_result"
    }
   ],
   "source": [
    "df_probase.head()"
   ]
  },
  {
   "cell_type": "raw",
   "metadata": {},
   "source": [
    "df_disaster = dd.concat([df_conceptnet[df_conceptnet.start_label.isin(vocab)],df_conceptnet[df_conceptnet.end_label.isin(vocab)],\\\n",
    "                                   df_probase[df_probase.start_label.isin(vocab)],df_probase[df_probase.end_label.isin(vocab)]])"
   ]
  },
  {
   "cell_type": "code",
   "execution_count": 139,
   "metadata": {
    "collapsed": false
   },
   "outputs": [],
   "source": [
    "df_disaster = dd.concat([df_conceptnet[df_conceptnet.start_label.isin(vocab)],df_conceptnet[df_conceptnet.end_label.isin(vocab)]])"
   ]
  },
  {
   "cell_type": "code",
   "execution_count": 140,
   "metadata": {
    "collapsed": false
   },
   "outputs": [
    {
     "data": {
      "text/html": [
       "<div>\n",
       "<style scoped>\n",
       "    .dataframe tbody tr th:only-of-type {\n",
       "        vertical-align: middle;\n",
       "    }\n",
       "\n",
       "    .dataframe tbody tr th {\n",
       "        vertical-align: top;\n",
       "    }\n",
       "\n",
       "    .dataframe thead th {\n",
       "        text-align: right;\n",
       "    }\n",
       "</style>\n",
       "<table border=\"1\" class=\"dataframe\">\n",
       "  <thead>\n",
       "    <tr style=\"text-align: right;\">\n",
       "      <th></th>\n",
       "      <th>start</th>\n",
       "      <th>rel</th>\n",
       "      <th>end</th>\n",
       "      <th>weight</th>\n",
       "      <th>start_label</th>\n",
       "      <th>end_label</th>\n",
       "    </tr>\n",
       "  </thead>\n",
       "  <tbody>\n",
       "    <tr>\n",
       "      <th>59</th>\n",
       "      <td>/c/en/about</td>\n",
       "      <td>/r/Antonym</td>\n",
       "      <td>/c/en/precisely</td>\n",
       "      <td>0.155</td>\n",
       "      <td>about</td>\n",
       "      <td>precisely</td>\n",
       "    </tr>\n",
       "    <tr>\n",
       "      <th>132</th>\n",
       "      <td>/c/en/accident</td>\n",
       "      <td>/r/Antonym</td>\n",
       "      <td>/c/en/on_purpose</td>\n",
       "      <td>0.319</td>\n",
       "      <td>accident</td>\n",
       "      <td>on purpose</td>\n",
       "    </tr>\n",
       "    <tr>\n",
       "      <th>133</th>\n",
       "      <td>/c/en/accident</td>\n",
       "      <td>/r/Antonym</td>\n",
       "      <td>/c/en/planned</td>\n",
       "      <td>0.147</td>\n",
       "      <td>accident</td>\n",
       "      <td>planned</td>\n",
       "    </tr>\n",
       "    <tr>\n",
       "      <th>134</th>\n",
       "      <td>/c/en/accident</td>\n",
       "      <td>/r/Antonym</td>\n",
       "      <td>/c/en/purpose</td>\n",
       "      <td>0.319</td>\n",
       "      <td>accident</td>\n",
       "      <td>purpose</td>\n",
       "    </tr>\n",
       "    <tr>\n",
       "      <th>189</th>\n",
       "      <td>/c/en/act</td>\n",
       "      <td>/r/Antonym</td>\n",
       "      <td>/c/en/be_real</td>\n",
       "      <td>0.126</td>\n",
       "      <td>act</td>\n",
       "      <td>be real</td>\n",
       "    </tr>\n",
       "  </tbody>\n",
       "</table>\n",
       "</div>"
      ],
      "text/plain": [
       "              start         rel               end  weight start_label  \\\n",
       "59      /c/en/about  /r/Antonym   /c/en/precisely   0.155       about   \n",
       "132  /c/en/accident  /r/Antonym  /c/en/on_purpose   0.319    accident   \n",
       "133  /c/en/accident  /r/Antonym     /c/en/planned   0.147    accident   \n",
       "134  /c/en/accident  /r/Antonym     /c/en/purpose   0.319    accident   \n",
       "189       /c/en/act  /r/Antonym     /c/en/be_real   0.126         act   \n",
       "\n",
       "      end_label  \n",
       "59    precisely  \n",
       "132  on purpose  \n",
       "133     planned  \n",
       "134     purpose  \n",
       "189     be real  "
      ]
     },
     "execution_count": 140,
     "metadata": {},
     "output_type": "execute_result"
    }
   ],
   "source": [
    "df_disaster.head()"
   ]
  },
  {
   "cell_type": "code",
   "execution_count": 141,
   "metadata": {
    "collapsed": false
   },
   "outputs": [
    {
     "data": {
      "text/html": [
       "<div>\n",
       "<style scoped>\n",
       "    .dataframe tbody tr th:only-of-type {\n",
       "        vertical-align: middle;\n",
       "    }\n",
       "\n",
       "    .dataframe tbody tr th {\n",
       "        vertical-align: top;\n",
       "    }\n",
       "\n",
       "    .dataframe thead th {\n",
       "        text-align: right;\n",
       "    }\n",
       "</style>\n",
       "<table border=\"1\" class=\"dataframe\">\n",
       "  <thead>\n",
       "    <tr style=\"text-align: right;\">\n",
       "      <th></th>\n",
       "      <th>start</th>\n",
       "      <th>rel</th>\n",
       "      <th>end</th>\n",
       "      <th>weight</th>\n",
       "      <th>start_label</th>\n",
       "      <th>end_label</th>\n",
       "    </tr>\n",
       "  </thead>\n",
       "  <tbody>\n",
       "    <tr>\n",
       "      <th>51945</th>\n",
       "      <td>/c/en/tatra/n</td>\n",
       "      <td>/r/dbpedia/product</td>\n",
       "      <td>/c/en/truck</td>\n",
       "      <td>0.5</td>\n",
       "      <td>tatra</td>\n",
       "      <td>truck</td>\n",
       "    </tr>\n",
       "    <tr>\n",
       "      <th>51971</th>\n",
       "      <td>/c/en/vale/n</td>\n",
       "      <td>/r/dbpedia/product</td>\n",
       "      <td>/c/en/coal</td>\n",
       "      <td>0.5</td>\n",
       "      <td>vale</td>\n",
       "      <td>coal</td>\n",
       "    </tr>\n",
       "    <tr>\n",
       "      <th>51983</th>\n",
       "      <td>/c/en/volkswagen</td>\n",
       "      <td>/r/dbpedia/product</td>\n",
       "      <td>/c/en/bus</td>\n",
       "      <td>0.5</td>\n",
       "      <td>volkswagen</td>\n",
       "      <td>bus</td>\n",
       "    </tr>\n",
       "    <tr>\n",
       "      <th>51984</th>\n",
       "      <td>/c/en/volkswagen</td>\n",
       "      <td>/r/dbpedia/product</td>\n",
       "      <td>/c/en/car</td>\n",
       "      <td>0.5</td>\n",
       "      <td>volkswagen</td>\n",
       "      <td>car</td>\n",
       "    </tr>\n",
       "    <tr>\n",
       "      <th>51985</th>\n",
       "      <td>/c/en/volkswagen</td>\n",
       "      <td>/r/dbpedia/product</td>\n",
       "      <td>/c/en/truck</td>\n",
       "      <td>0.5</td>\n",
       "      <td>volkswagen</td>\n",
       "      <td>truck</td>\n",
       "    </tr>\n",
       "  </tbody>\n",
       "</table>\n",
       "</div>"
      ],
      "text/plain": [
       "                  start                 rel          end  weight start_label  \\\n",
       "51945     /c/en/tatra/n  /r/dbpedia/product  /c/en/truck     0.5       tatra   \n",
       "51971      /c/en/vale/n  /r/dbpedia/product   /c/en/coal     0.5        vale   \n",
       "51983  /c/en/volkswagen  /r/dbpedia/product    /c/en/bus     0.5  volkswagen   \n",
       "51984  /c/en/volkswagen  /r/dbpedia/product    /c/en/car     0.5  volkswagen   \n",
       "51985  /c/en/volkswagen  /r/dbpedia/product  /c/en/truck     0.5  volkswagen   \n",
       "\n",
       "      end_label  \n",
       "51945     truck  \n",
       "51971      coal  \n",
       "51983       bus  \n",
       "51984       car  \n",
       "51985     truck  "
      ]
     },
     "execution_count": 141,
     "metadata": {},
     "output_type": "execute_result"
    }
   ],
   "source": [
    "df_disaster.tail()"
   ]
  },
  {
   "cell_type": "raw",
   "metadata": {},
   "source": [
    "len(df_disaster)\n",
    "16212321"
   ]
  },
  {
   "cell_type": "code",
   "execution_count": 142,
   "metadata": {
    "collapsed": false
   },
   "outputs": [
    {
     "data": {
      "text/plain": [
       "['conceptnet_disasters/df-disasters-00.csv',\n",
       " 'conceptnet_disasters/df-disasters-01.csv',\n",
       " 'conceptnet_disasters/df-disasters-02.csv',\n",
       " 'conceptnet_disasters/df-disasters-03.csv',\n",
       " 'conceptnet_disasters/df-disasters-04.csv',\n",
       " 'conceptnet_disasters/df-disasters-05.csv',\n",
       " 'conceptnet_disasters/df-disasters-06.csv',\n",
       " 'conceptnet_disasters/df-disasters-07.csv',\n",
       " 'conceptnet_disasters/df-disasters-08.csv',\n",
       " 'conceptnet_disasters/df-disasters-09.csv',\n",
       " 'conceptnet_disasters/df-disasters-10.csv',\n",
       " 'conceptnet_disasters/df-disasters-11.csv',\n",
       " 'conceptnet_disasters/df-disasters-12.csv',\n",
       " 'conceptnet_disasters/df-disasters-13.csv',\n",
       " 'conceptnet_disasters/df-disasters-14.csv',\n",
       " 'conceptnet_disasters/df-disasters-15.csv',\n",
       " 'conceptnet_disasters/df-disasters-16.csv',\n",
       " 'conceptnet_disasters/df-disasters-17.csv',\n",
       " 'conceptnet_disasters/df-disasters-18.csv',\n",
       " 'conceptnet_disasters/df-disasters-19.csv',\n",
       " 'conceptnet_disasters/df-disasters-20.csv',\n",
       " 'conceptnet_disasters/df-disasters-21.csv',\n",
       " 'conceptnet_disasters/df-disasters-22.csv',\n",
       " 'conceptnet_disasters/df-disasters-23.csv',\n",
       " 'conceptnet_disasters/df-disasters-24.csv',\n",
       " 'conceptnet_disasters/df-disasters-25.csv',\n",
       " 'conceptnet_disasters/df-disasters-26.csv',\n",
       " 'conceptnet_disasters/df-disasters-27.csv',\n",
       " 'conceptnet_disasters/df-disasters-28.csv',\n",
       " 'conceptnet_disasters/df-disasters-29.csv',\n",
       " 'conceptnet_disasters/df-disasters-30.csv',\n",
       " 'conceptnet_disasters/df-disasters-31.csv',\n",
       " 'conceptnet_disasters/df-disasters-32.csv',\n",
       " 'conceptnet_disasters/df-disasters-33.csv',\n",
       " 'conceptnet_disasters/df-disasters-34.csv',\n",
       " 'conceptnet_disasters/df-disasters-35.csv',\n",
       " 'conceptnet_disasters/df-disasters-36.csv',\n",
       " 'conceptnet_disasters/df-disasters-37.csv',\n",
       " 'conceptnet_disasters/df-disasters-38.csv',\n",
       " 'conceptnet_disasters/df-disasters-39.csv',\n",
       " 'conceptnet_disasters/df-disasters-40.csv',\n",
       " 'conceptnet_disasters/df-disasters-41.csv',\n",
       " 'conceptnet_disasters/df-disasters-42.csv',\n",
       " 'conceptnet_disasters/df-disasters-43.csv',\n",
       " 'conceptnet_disasters/df-disasters-44.csv',\n",
       " 'conceptnet_disasters/df-disasters-45.csv',\n",
       " 'conceptnet_disasters/df-disasters-46.csv',\n",
       " 'conceptnet_disasters/df-disasters-47.csv',\n",
       " 'conceptnet_disasters/df-disasters-48.csv',\n",
       " 'conceptnet_disasters/df-disasters-49.csv',\n",
       " 'conceptnet_disasters/df-disasters-50.csv',\n",
       " 'conceptnet_disasters/df-disasters-51.csv',\n",
       " 'conceptnet_disasters/df-disasters-52.csv',\n",
       " 'conceptnet_disasters/df-disasters-53.csv',\n",
       " 'conceptnet_disasters/df-disasters-54.csv',\n",
       " 'conceptnet_disasters/df-disasters-55.csv',\n",
       " 'conceptnet_disasters/df-disasters-56.csv',\n",
       " 'conceptnet_disasters/df-disasters-57.csv',\n",
       " 'conceptnet_disasters/df-disasters-58.csv',\n",
       " 'conceptnet_disasters/df-disasters-59.csv',\n",
       " 'conceptnet_disasters/df-disasters-60.csv',\n",
       " 'conceptnet_disasters/df-disasters-61.csv',\n",
       " 'conceptnet_disasters/df-disasters-62.csv',\n",
       " 'conceptnet_disasters/df-disasters-63.csv',\n",
       " 'conceptnet_disasters/df-disasters-64.csv',\n",
       " 'conceptnet_disasters/df-disasters-65.csv',\n",
       " 'conceptnet_disasters/df-disasters-66.csv',\n",
       " 'conceptnet_disasters/df-disasters-67.csv',\n",
       " 'conceptnet_disasters/df-disasters-68.csv',\n",
       " 'conceptnet_disasters/df-disasters-69.csv',\n",
       " 'conceptnet_disasters/df-disasters-70.csv',\n",
       " 'conceptnet_disasters/df-disasters-71.csv',\n",
       " 'conceptnet_disasters/df-disasters-72.csv',\n",
       " 'conceptnet_disasters/df-disasters-73.csv']"
      ]
     },
     "execution_count": 142,
     "metadata": {},
     "output_type": "execute_result"
    }
   ],
   "source": [
    "df_disaster[['start','rel','end','weight']].to_csv('conceptnet_disasters/df-disasters-*.csv',index=False,header=False)"
   ]
  },
  {
   "cell_type": "code",
   "execution_count": 143,
   "metadata": {
    "collapsed": false
   },
   "outputs": [
    {
     "data": {
      "text/plain": [
       "185437"
      ]
     },
     "execution_count": 143,
     "metadata": {},
     "output_type": "execute_result"
    }
   ],
   "source": [
    "len(df_disaster)"
   ]
  },
  {
   "cell_type": "code",
   "execution_count": null,
   "metadata": {
    "collapsed": true
   },
   "outputs": [],
   "source": []
  }
 ],
 "metadata": {
  "kernelspec": {
   "display_name": "Python 3",
   "language": "python",
   "name": "python3"
  },
  "language_info": {
   "codemirror_mode": {
    "name": "ipython",
    "version": 3
   },
   "file_extension": ".py",
   "mimetype": "text/x-python",
   "name": "python",
   "nbconvert_exporter": "python",
   "pygments_lexer": "ipython3",
   "version": "3.6.4"
  }
 },
 "nbformat": 4,
 "nbformat_minor": 2
}
