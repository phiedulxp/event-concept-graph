{
 "cells": [
  {
   "cell_type": "code",
   "execution_count": 1,
   "metadata": {
    "collapsed": true
   },
   "outputs": [],
   "source": [
    "import dask.dataframe as dd"
   ]
  },
  {
   "cell_type": "code",
   "execution_count": 2,
   "metadata": {
    "collapsed": true
   },
   "outputs": [],
   "source": [
    "df_dataset = dd.read_csv('./conceptnet_disasters/df-disasters-*.csv',names=['start','rel','end','weight'])"
   ]
  },
  {
   "cell_type": "code",
   "execution_count": 4,
   "metadata": {
    "collapsed": false
   },
   "outputs": [
    {
     "data": {
      "text/html": [
       "<div>\n",
       "<style scoped>\n",
       "    .dataframe tbody tr th:only-of-type {\n",
       "        vertical-align: middle;\n",
       "    }\n",
       "\n",
       "    .dataframe tbody tr th {\n",
       "        vertical-align: top;\n",
       "    }\n",
       "\n",
       "    .dataframe thead th {\n",
       "        text-align: right;\n",
       "    }\n",
       "</style>\n",
       "<table border=\"1\" class=\"dataframe\">\n",
       "  <thead>\n",
       "    <tr style=\"text-align: right;\">\n",
       "      <th></th>\n",
       "      <th>start</th>\n",
       "      <th>rel</th>\n",
       "      <th>end</th>\n",
       "      <th>weight</th>\n",
       "    </tr>\n",
       "  </thead>\n",
       "  <tbody>\n",
       "    <tr>\n",
       "      <th>0</th>\n",
       "      <td>/c/en/about</td>\n",
       "      <td>/r/Antonym</td>\n",
       "      <td>/c/en/precisely</td>\n",
       "      <td>0.155</td>\n",
       "    </tr>\n",
       "    <tr>\n",
       "      <th>1</th>\n",
       "      <td>/c/en/accident</td>\n",
       "      <td>/r/Antonym</td>\n",
       "      <td>/c/en/on_purpose</td>\n",
       "      <td>0.319</td>\n",
       "    </tr>\n",
       "    <tr>\n",
       "      <th>2</th>\n",
       "      <td>/c/en/accident</td>\n",
       "      <td>/r/Antonym</td>\n",
       "      <td>/c/en/planned</td>\n",
       "      <td>0.147</td>\n",
       "    </tr>\n",
       "    <tr>\n",
       "      <th>3</th>\n",
       "      <td>/c/en/accident</td>\n",
       "      <td>/r/Antonym</td>\n",
       "      <td>/c/en/purpose</td>\n",
       "      <td>0.319</td>\n",
       "    </tr>\n",
       "    <tr>\n",
       "      <th>4</th>\n",
       "      <td>/c/en/act</td>\n",
       "      <td>/r/Antonym</td>\n",
       "      <td>/c/en/be_real</td>\n",
       "      <td>0.126</td>\n",
       "    </tr>\n",
       "  </tbody>\n",
       "</table>\n",
       "</div>"
      ],
      "text/plain": [
       "            start         rel               end  weight\n",
       "0     /c/en/about  /r/Antonym   /c/en/precisely   0.155\n",
       "1  /c/en/accident  /r/Antonym  /c/en/on_purpose   0.319\n",
       "2  /c/en/accident  /r/Antonym     /c/en/planned   0.147\n",
       "3  /c/en/accident  /r/Antonym     /c/en/purpose   0.319\n",
       "4       /c/en/act  /r/Antonym     /c/en/be_real   0.126"
      ]
     },
     "execution_count": 4,
     "metadata": {},
     "output_type": "execute_result"
    }
   ],
   "source": [
    "df_dataset.head()"
   ]
  },
  {
   "cell_type": "markdown",
   "metadata": {},
   "source": [
    "### Datasets"
   ]
  },
  {
   "cell_type": "code",
   "execution_count": 7,
   "metadata": {
    "collapsed": false
   },
   "outputs": [
    {
     "data": {
      "text/plain": [
       "185437"
      ]
     },
     "execution_count": 7,
     "metadata": {},
     "output_type": "execute_result"
    }
   ],
   "source": [
    "len(df_dataset)"
   ]
  },
  {
   "cell_type": "markdown",
   "metadata": {},
   "source": [
    "### Concepts"
   ]
  },
  {
   "cell_type": "code",
   "execution_count": 28,
   "metadata": {
    "collapsed": false
   },
   "outputs": [],
   "source": [
    "x = list(df_dataset.start.unique().values.compute())+list(df_dataset.end.unique().values.compute())"
   ]
  },
  {
   "cell_type": "code",
   "execution_count": 31,
   "metadata": {
    "collapsed": false
   },
   "outputs": [
    {
     "data": {
      "text/plain": [
       "118658"
      ]
     },
     "execution_count": 31,
     "metadata": {},
     "output_type": "execute_result"
    }
   ],
   "source": [
    "len(x)"
   ]
  },
  {
   "cell_type": "markdown",
   "metadata": {},
   "source": [
    "### Relations"
   ]
  },
  {
   "cell_type": "code",
   "execution_count": 33,
   "metadata": {
    "collapsed": false
   },
   "outputs": [
    {
     "data": {
      "text/plain": [
       "array(['/r/Antonym', '/r/AtLocation', '/r/CapableOf', '/r/Causes',\n",
       "       '/r/CausesDesire', '/r/CreatedBy', '/r/DefinedAs',\n",
       "       '/r/DerivedFrom', '/r/Desires', '/r/DistinctFrom', '/r/Entails',\n",
       "       '/r/EtymologicallyRelatedTo', '/r/FormOf', '/r/HasA',\n",
       "       '/r/HasContext', '/r/HasFirstSubevent', '/r/HasLastSubevent',\n",
       "       '/r/HasPrerequisite', '/r/HasProperty', '/r/HasSubevent',\n",
       "       '/r/InstanceOf', '/r/IsA', '/r/MadeOf', '/r/MannerOf',\n",
       "       '/r/MotivatedByGoal', '/r/NotCapableOf', '/r/NotDesires',\n",
       "       '/r/NotHasProperty', '/r/PartOf', '/r/ReceivesAction',\n",
       "       '/r/RelatedTo', '/r/SimilarTo', '/r/Synonym', '/r/UsedFor',\n",
       "       '/r/dbpedia/capital', '/r/dbpedia/field', '/r/dbpedia/genre',\n",
       "       '/r/dbpedia/genus', '/r/dbpedia/influencedBy',\n",
       "       '/r/dbpedia/language', '/r/dbpedia/occupation',\n",
       "       '/r/dbpedia/product', '/r/EtymologicallyDerivedFrom',\n",
       "       '/r/LocatedNear', '/r/dbpedia/knownFor'], dtype=object)"
      ]
     },
     "execution_count": 33,
     "metadata": {},
     "output_type": "execute_result"
    }
   ],
   "source": [
    "df_dataset.rel.unique().values.compute()"
   ]
  },
  {
   "cell_type": "code",
   "execution_count": 36,
   "metadata": {
    "collapsed": false
   },
   "outputs": [
    {
     "data": {
      "text/plain": [
       "45"
      ]
     },
     "execution_count": 36,
     "metadata": {},
     "output_type": "execute_result"
    }
   ],
   "source": [
    "df_dataset.rel.unique().size.compute()"
   ]
  },
  {
   "cell_type": "markdown",
   "metadata": {},
   "source": [
    "### Tasks"
   ]
  },
  {
   "cell_type": "raw",
   "metadata": {},
   "source": [
    "20"
   ]
  },
  {
   "cell_type": "raw",
   "metadata": {},
   "source": [
    "• 同义词-表达多样性 :`/r/FormOf`|:`/r/Synonym`|:`/r/DerivedFrom`\n",
    "• 上下位 :`/r/IsA`|:`/r/MannerOf`\n",
    "• 因果关系 :`/r/Causes`\n",
    "• 目的关系 :`/r/MotivatedByGoal`|:`/r/Desires`\n",
    "• 包含关系 :`/r/HasSubevent`\n",
    "• 条件关系 :`/r/HasPrerequisite`|:`/r/Entails`"
   ]
  }
 ],
 "metadata": {
  "kernelspec": {
   "display_name": "Python 3",
   "language": "python",
   "name": "python3"
  },
  "language_info": {
   "codemirror_mode": {
    "name": "ipython",
    "version": 3
   },
   "file_extension": ".py",
   "mimetype": "text/x-python",
   "name": "python",
   "nbconvert_exporter": "python",
   "pygments_lexer": "ipython3",
   "version": "3.6.4"
  }
 },
 "nbformat": 4,
 "nbformat_minor": 2
}
