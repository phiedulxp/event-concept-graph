{
 "cells": [
  {
   "cell_type": "code",
   "execution_count": 1,
   "metadata": {
    "collapsed": true
   },
   "outputs": [],
   "source": [
    "import pandas as pd"
   ]
  },
  {
   "cell_type": "code",
   "execution_count": 5,
   "metadata": {
    "collapsed": false
   },
   "outputs": [
    {
     "name": "stderr",
     "output_type": "stream",
     "text": [
      "D:\\Anaconda3\\lib\\site-packages\\ipykernel\\__main__.py:1: FutureWarning: from_csv is deprecated. Please use read_csv(...) instead. Note that some of the default arguments are different, so please refer to the documentation for from_csv when changing your function calls\n",
      "  if __name__ == '__main__':\n"
     ]
    }
   ],
   "source": [
    "triples = pd.DataFrame.from_csv('./triples-0.csv',index_col=None)"
   ]
  },
  {
   "cell_type": "code",
   "execution_count": 6,
   "metadata": {
    "collapsed": false
   },
   "outputs": [
    {
     "data": {
      "text/html": [
       "<div>\n",
       "<style scoped>\n",
       "    .dataframe tbody tr th:only-of-type {\n",
       "        vertical-align: middle;\n",
       "    }\n",
       "\n",
       "    .dataframe tbody tr th {\n",
       "        vertical-align: top;\n",
       "    }\n",
       "\n",
       "    .dataframe thead th {\n",
       "        text-align: right;\n",
       "    }\n",
       "</style>\n",
       "<table border=\"1\" class=\"dataframe\">\n",
       "  <thead>\n",
       "    <tr style=\"text-align: right;\">\n",
       "      <th></th>\n",
       "      <th>head</th>\n",
       "      <th>rel</th>\n",
       "      <th>tail</th>\n",
       "    </tr>\n",
       "  </thead>\n",
       "  <tbody>\n",
       "    <tr>\n",
       "      <th>0</th>\n",
       "      <td>/c/en/hurricane</td>\n",
       "      <td>/r/tweet/IsA</td>\n",
       "      <td>/c/en/cause_of_death</td>\n",
       "    </tr>\n",
       "    <tr>\n",
       "      <th>1</th>\n",
       "      <td>/c/en/hurricane</td>\n",
       "      <td>/r/tweet/IsA</td>\n",
       "      <td>/c/en/cause_of_death</td>\n",
       "    </tr>\n",
       "    <tr>\n",
       "      <th>2</th>\n",
       "      <td>/c/en/atlantic</td>\n",
       "      <td>/r/tweet/IsA</td>\n",
       "      <td>/c/en/location</td>\n",
       "    </tr>\n",
       "    <tr>\n",
       "      <th>3</th>\n",
       "      <td>/c/en/hurricane</td>\n",
       "      <td>/r/tweet/IsA</td>\n",
       "      <td>/c/en/cause_of_death</td>\n",
       "    </tr>\n",
       "    <tr>\n",
       "      <th>4</th>\n",
       "      <td>/c/en/mexico</td>\n",
       "      <td>/r/tweet/IsA</td>\n",
       "      <td>/c/en/country</td>\n",
       "    </tr>\n",
       "  </tbody>\n",
       "</table>\n",
       "</div>"
      ],
      "text/plain": [
       "              head           rel                  tail\n",
       "0  /c/en/hurricane  /r/tweet/IsA  /c/en/cause_of_death\n",
       "1  /c/en/hurricane  /r/tweet/IsA  /c/en/cause_of_death\n",
       "2   /c/en/atlantic  /r/tweet/IsA        /c/en/location\n",
       "3  /c/en/hurricane  /r/tweet/IsA  /c/en/cause_of_death\n",
       "4     /c/en/mexico  /r/tweet/IsA         /c/en/country"
      ]
     },
     "execution_count": 6,
     "metadata": {},
     "output_type": "execute_result"
    }
   ],
   "source": [
    "triples.head()"
   ]
  },
  {
   "cell_type": "code",
   "execution_count": 7,
   "metadata": {
    "collapsed": false
   },
   "outputs": [
    {
     "data": {
      "text/plain": [
       "head    3048851\n",
       "rel     3048851\n",
       "tail    3048851\n",
       "dtype: int64"
      ]
     },
     "execution_count": 7,
     "metadata": {},
     "output_type": "execute_result"
    }
   ],
   "source": [
    "triples.count()"
   ]
  },
  {
   "cell_type": "code",
   "execution_count": 10,
   "metadata": {
    "collapsed": true
   },
   "outputs": [],
   "source": [
    "triples['triple'] = triples['head']+','+triples['rel']+','+triples['tail']"
   ]
  },
  {
   "cell_type": "code",
   "execution_count": 11,
   "metadata": {
    "collapsed": false
   },
   "outputs": [
    {
     "data": {
      "text/html": [
       "<div>\n",
       "<style scoped>\n",
       "    .dataframe tbody tr th:only-of-type {\n",
       "        vertical-align: middle;\n",
       "    }\n",
       "\n",
       "    .dataframe tbody tr th {\n",
       "        vertical-align: top;\n",
       "    }\n",
       "\n",
       "    .dataframe thead th {\n",
       "        text-align: right;\n",
       "    }\n",
       "</style>\n",
       "<table border=\"1\" class=\"dataframe\">\n",
       "  <thead>\n",
       "    <tr style=\"text-align: right;\">\n",
       "      <th></th>\n",
       "      <th>head</th>\n",
       "      <th>rel</th>\n",
       "      <th>tail</th>\n",
       "      <th>triple</th>\n",
       "    </tr>\n",
       "  </thead>\n",
       "  <tbody>\n",
       "    <tr>\n",
       "      <th>0</th>\n",
       "      <td>/c/en/hurricane</td>\n",
       "      <td>/r/tweet/IsA</td>\n",
       "      <td>/c/en/cause_of_death</td>\n",
       "      <td>/c/en/hurricane,/r/tweet/IsA,/c/en/cause_of_death</td>\n",
       "    </tr>\n",
       "    <tr>\n",
       "      <th>1</th>\n",
       "      <td>/c/en/hurricane</td>\n",
       "      <td>/r/tweet/IsA</td>\n",
       "      <td>/c/en/cause_of_death</td>\n",
       "      <td>/c/en/hurricane,/r/tweet/IsA,/c/en/cause_of_death</td>\n",
       "    </tr>\n",
       "    <tr>\n",
       "      <th>2</th>\n",
       "      <td>/c/en/atlantic</td>\n",
       "      <td>/r/tweet/IsA</td>\n",
       "      <td>/c/en/location</td>\n",
       "      <td>/c/en/atlantic,/r/tweet/IsA,/c/en/location</td>\n",
       "    </tr>\n",
       "    <tr>\n",
       "      <th>3</th>\n",
       "      <td>/c/en/hurricane</td>\n",
       "      <td>/r/tweet/IsA</td>\n",
       "      <td>/c/en/cause_of_death</td>\n",
       "      <td>/c/en/hurricane,/r/tweet/IsA,/c/en/cause_of_death</td>\n",
       "    </tr>\n",
       "    <tr>\n",
       "      <th>4</th>\n",
       "      <td>/c/en/mexico</td>\n",
       "      <td>/r/tweet/IsA</td>\n",
       "      <td>/c/en/country</td>\n",
       "      <td>/c/en/mexico,/r/tweet/IsA,/c/en/country</td>\n",
       "    </tr>\n",
       "  </tbody>\n",
       "</table>\n",
       "</div>"
      ],
      "text/plain": [
       "              head           rel                  tail  \\\n",
       "0  /c/en/hurricane  /r/tweet/IsA  /c/en/cause_of_death   \n",
       "1  /c/en/hurricane  /r/tweet/IsA  /c/en/cause_of_death   \n",
       "2   /c/en/atlantic  /r/tweet/IsA        /c/en/location   \n",
       "3  /c/en/hurricane  /r/tweet/IsA  /c/en/cause_of_death   \n",
       "4     /c/en/mexico  /r/tweet/IsA         /c/en/country   \n",
       "\n",
       "                                              triple  \n",
       "0  /c/en/hurricane,/r/tweet/IsA,/c/en/cause_of_death  \n",
       "1  /c/en/hurricane,/r/tweet/IsA,/c/en/cause_of_death  \n",
       "2         /c/en/atlantic,/r/tweet/IsA,/c/en/location  \n",
       "3  /c/en/hurricane,/r/tweet/IsA,/c/en/cause_of_death  \n",
       "4            /c/en/mexico,/r/tweet/IsA,/c/en/country  "
      ]
     },
     "execution_count": 11,
     "metadata": {},
     "output_type": "execute_result"
    }
   ],
   "source": [
    "triples.head()"
   ]
  },
  {
   "cell_type": "code",
   "execution_count": 12,
   "metadata": {
    "collapsed": false
   },
   "outputs": [
    {
     "data": {
      "text/plain": [
       "3048851"
      ]
     },
     "execution_count": 12,
     "metadata": {},
     "output_type": "execute_result"
    }
   ],
   "source": [
    "triples.triple.count()"
   ]
  },
  {
   "cell_type": "code",
   "execution_count": 13,
   "metadata": {
    "collapsed": false
   },
   "outputs": [
    {
     "data": {
      "text/plain": [
       "count                                           3048851\n",
       "unique                                          1030940\n",
       "top       /c/en/number,/r/tweet/dep/nummod,/c/en/people\n",
       "freq                                              36019\n",
       "Name: triple, dtype: object"
      ]
     },
     "execution_count": 13,
     "metadata": {},
     "output_type": "execute_result"
    }
   ],
   "source": [
    "triples.triple.describe()"
   ]
  },
  {
   "cell_type": "code",
   "execution_count": 63,
   "metadata": {
    "collapsed": false
   },
   "outputs": [
    {
     "data": {
      "text/plain": [
       "0    False\n",
       "1     True\n",
       "2    False\n",
       "3     True\n",
       "4    False\n",
       "Name: triple, dtype: bool"
      ]
     },
     "execution_count": 63,
     "metadata": {},
     "output_type": "execute_result"
    }
   ],
   "source": [
    "triples.triple.duplicated().head()"
   ]
  },
  {
   "cell_type": "code",
   "execution_count": 64,
   "metadata": {
    "collapsed": false
   },
   "outputs": [
    {
     "data": {
      "text/plain": [
       "0    49\n",
       "1    49\n",
       "2    42\n",
       "3    49\n",
       "4    39\n",
       "5    49\n",
       "6    49\n",
       "7    48\n",
       "8    48\n",
       "9    40\n",
       "Name: triple, dtype: int64"
      ]
     },
     "execution_count": 64,
     "metadata": {},
     "output_type": "execute_result"
    }
   ],
   "source": [
    "triples.triple.str.len()[:10]"
   ]
  },
  {
   "cell_type": "code",
   "execution_count": 65,
   "metadata": {
    "collapsed": false
   },
   "outputs": [
    {
     "data": {
      "text/plain": [
       "triple\n",
       "/c/en/!!!!!,/r/tweet/dep/advmod,/c/en/go         1\n",
       "/c/en/!!!!!,/r/tweet/dep/ccomp,/c/en/find        1\n",
       "/c/en/!!!!!,/r/tweet/dep/nmod:of,/c/en/member    1\n",
       "/c/en/!!!!!,/r/tweet/dep/xcomp,/c/en/make        1\n",
       "/c/en/!!!!,/r/tweet/dep/advmod,/c/en/go          1\n",
       "/c/en/!!!!,/r/tweet/dep/dobj,/c/en/catch         1\n",
       "/c/en/!!!,/r/tweet/dep/acl:relcl,/c/en/press     1\n",
       "/c/en/!!!,/r/tweet/dep/advcl:if,/c/en/wonder     1\n",
       "/c/en/!!!,/r/tweet/dep/advmod,/c/en/abcnew       1\n",
       "/c/en/!!!,/r/tweet/dep/advmod,/c/en/get          1\n",
       "dtype: int64"
      ]
     },
     "execution_count": 65,
     "metadata": {},
     "output_type": "execute_result"
    }
   ],
   "source": [
    "triples.groupby('triple').size()[:10]"
   ]
  },
  {
   "cell_type": "code",
   "execution_count": 66,
   "metadata": {
    "collapsed": true
   },
   "outputs": [],
   "source": [
    "triple_count = triples.groupby('triple').size()"
   ]
  },
  {
   "cell_type": "code",
   "execution_count": 67,
   "metadata": {
    "collapsed": false
   },
   "outputs": [
    {
     "data": {
      "text/plain": [
       "triple\n",
       "/c/en/!!!!!,/r/tweet/dep/advmod,/c/en/go         1\n",
       "/c/en/!!!!!,/r/tweet/dep/ccomp,/c/en/find        1\n",
       "/c/en/!!!!!,/r/tweet/dep/nmod:of,/c/en/member    1\n",
       "/c/en/!!!!!,/r/tweet/dep/xcomp,/c/en/make        1\n",
       "/c/en/!!!!,/r/tweet/dep/advmod,/c/en/go          1\n",
       "dtype: int64"
      ]
     },
     "execution_count": 67,
     "metadata": {},
     "output_type": "execute_result"
    }
   ],
   "source": [
    "triple_count.head()"
   ]
  },
  {
   "cell_type": "code",
   "execution_count": 68,
   "metadata": {
    "collapsed": true
   },
   "outputs": [],
   "source": [
    "%matplotlib inline"
   ]
  },
  {
   "cell_type": "code",
   "execution_count": 69,
   "metadata": {
    "collapsed": false
   },
   "outputs": [
    {
     "data": {
      "text/plain": [
       "<matplotlib.axes._subplots.AxesSubplot at 0x1df85e9e588>"
      ]
     },
     "execution_count": 69,
     "metadata": {},
     "output_type": "execute_result"
    },
    {
     "data": {
      "image/png": "[encoded data removed]",
      "text/plain": [
       "<matplotlib.figure.Figure at 0x1df85e41080>"
      ]
     },
     "metadata": {},
     "output_type": "display_data"
    }
   ],
   "source": [
    "triple_count.plot()"
   ]
  },
  {
   "cell_type": "code",
   "execution_count": 70,
   "metadata": {
    "collapsed": false,
    "scrolled": true
   },
   "outputs": [
    {
     "data": {
      "text/plain": [
       "triple\n",
       "/c/en/!!!!!,/r/tweet/dep/advmod,/c/en/go                              1\n",
       "/c/en/maya_maya_airport,/r/tweet/IsA,/c/en/location                   1\n",
       "/c/en/maya_maya_airport,/r/tweet/dep/nmod:near,/c/en/house            1\n",
       "/c/en/mayaer,/r/tweet/dep/compound,/c/en/landrut                      1\n",
       "/c/en/mayak,/r/tweet/dep/compound,/c/en/complex                       1\n",
       "/c/en/mayanmar,/r/tweet/dep/nmod:in,/c/en/kill                        1\n",
       "/c/en/mayanorton,/r/tweet/dep/nmod:of,/c/en/honor                     1\n",
       "/c/en/mayans,/r/tweet/dep/nsubj,/c/en/!!!                             1\n",
       "/c/en/mayapur,/r/tweet/dep/nsubjpass,/c/en/locate                     1\n",
       "/c/en/mayar,/r/tweet/IsA,/c/en/location                               1\n",
       "/c/en/maya,/r/tweet/dep/nmod:on,/c/en/make                            1\n",
       "/c/en/mayar,/r/tweet/dep/compound,/c/en/river                         1\n",
       "/c/en/mayaro,/r/tweet/dep/compound,/c/en/naparima__mayaro_road        1\n",
       "/c/en/mayavarathaan,/r/tweet/dep/compound,/c/en/collapse              1\n",
       "/c/en/mayb,/r/tweet/dep/advmod,/c/en/morgue                           1\n",
       "/c/en/mayb,/r/tweet/dep/compound,/c/en/not                            1\n",
       "/c/en/mayb,/r/tweet/dep/compound,/c/en/ppl                            1\n",
       "/c/en/maybe,/r/tweet/dep/advmod,/c/en/@nat_geo_boobies                1\n",
       "/c/en/maybe,/r/tweet/dep/advmod,/c/en/abcnew                          1\n",
       "/c/en/maybe,/r/tweet/dep/advmod,/c/en/abq                             1\n",
       "/c/en/maybe,/r/tweet/dep/advmod,/c/en/affect                          1\n",
       "/c/en/mayareizen,/r/tweet/dep/compound,/c/en/million                  1\n",
       "/c/en/maybe,/r/tweet/dep/advmod,/c/en/appear                          1\n",
       "/c/en/maya,/r/tweet/dep/nmod:of,/c/en/sand                            1\n",
       "/c/en/take,/r/tweet/dep/nmod:for,/c/en/taxi                           1\n",
       "/c/en/take,/r/tweet/dep/nmod:into,/c/en/carry                         1\n",
       "/c/en/take,/r/tweet/dep/nmod:in,/c/en/floods                          1\n",
       "/c/en/may,/r/tweet/dep/nsubj,/c/en/kill                               1\n",
       "/c/en/may,/r/tweet/dep/nsubj,/c/en/number                             1\n",
       "/c/en/may,/r/tweet/dep/nsubj,/c/en/oh                                 1\n",
       "                                                                  ...  \n",
       "/c/en/us,/r/tweet/IsA,/c/en/country                                4075\n",
       "/c/en/flood,/r/tweet/IsA,/c/en/cause_of_death                      4384\n",
       "/c/en/toll,/r/tweet/dep/nsubj,/c/en/rise                           4512\n",
       "/c/en/mexico,/r/tweet/IsA,/c/en/country                            4535\n",
       "/c/en/river,/r/tweet/IsA,/c/en/title                               4696\n",
       "/c/en/people,/r/tweet/dep/nsubj,/c/en/die                          4773\n",
       "/c/en/accident,/r/tweet/IsA,/c/en/cause_of_death                   4788\n",
       "/c/en/indonesia,/r/tweet/IsA,/c/en/country                         4993\n",
       "/c/en/philippines,/r/tweet/IsA,/c/en/country                       5110\n",
       "/c/en/kill,/r/tweet/dep/acl,/c/en/number                           5326\n",
       "/c/en/pakistan,/r/tweet/IsA,/c/en/country                          5451\n",
       "/c/en/people,/r/tweet/dep/dobj,/c/en/kill                          6120\n",
       "/c/en/explosion,/r/tweet/IsA,/c/en/cause_of_death                  6569\n",
       "/c/en/hurricane,/r/tweet/IsA,/c/en/cause_of_death                  6617\n",
       "/c/en/people,/r/tweet/dep/nsubjpass,/c/en/kill                     6656\n",
       "/c/en/india,/r/tweet/IsA,/c/en/country                             6721\n",
       "/c/en/train,/r/tweet/IsA,/c/en/criminal_charge                     6747\n",
       "/c/en/number,/r/tweet/dep/nummod,/c/en/dead                        6811\n",
       "/c/en/crashes,/r/tweet/IsA,/c/en/cause_of_death                    6880\n",
       "/c/en/japan,/r/tweet/IsA,/c/en/country                             7096\n",
       "/c/en/death,/r/tweet/dep/compound,/c/en/toll                       9134\n",
       "/c/en/storm,/r/tweet/IsA,/c/en/cause_of_death                      9778\n",
       "/c/en/number,/r/tweet/dep/dobj,/c/en/kill                          9980\n",
       "/c/en/floods,/r/tweet/IsA,/c/en/cause_of_death                    10416\n",
       "/c/en/crash,/r/tweet/IsA,/c/en/cause_of_death                     10834\n",
       "/c/en/earthquake,/r/tweet/IsA,/c/en/cause_of_death                12708\n",
       "/c/en/china,/r/tweet/IsA,/c/en/country                            12971\n",
       "/c/en/fire,/r/tweet/IsA,/c/en/cause_of_death                      17570\n",
       "/c/en/least,/r/tweet/dep/nmod:npmod,/c/en/number                  24522\n",
       "/c/en/number,/r/tweet/dep/nummod,/c/en/people                     36019\n",
       "Length: 1030940, dtype: int64"
      ]
     },
     "execution_count": 70,
     "metadata": {},
     "output_type": "execute_result"
    }
   ],
   "source": [
    "triple_count.sort_values()"
   ]
  },
  {
   "cell_type": "code",
   "execution_count": 71,
   "metadata": {
    "collapsed": true
   },
   "outputs": [],
   "source": [
    "import numpy as np"
   ]
  },
  {
   "cell_type": "code",
   "execution_count": 72,
   "metadata": {
    "collapsed": false
   },
   "outputs": [
    {
     "data": {
      "text/plain": [
       "1       789837\n",
       "2       108189\n",
       "3        41307\n",
       "4        22052\n",
       "5        14006\n",
       "6         9597\n",
       "7         6843\n",
       "8         5310\n",
       "9         4175\n",
       "10        3183\n",
       "11        2597\n",
       "12        2177\n",
       "13        1889\n",
       "14        1535\n",
       "15        1394\n",
       "16        1205\n",
       "17        1028\n",
       "18         903\n",
       "19         841\n",
       "20         754\n",
       "21         704\n",
       "22         576\n",
       "23         538\n",
       "25         471\n",
       "24         456\n",
       "26         440\n",
       "27         367\n",
       "28         364\n",
       "30         319\n",
       "29         312\n",
       "         ...  \n",
       "274          1\n",
       "1298         1\n",
       "1811         1\n",
       "790          1\n",
       "792          1\n",
       "3864         1\n",
       "282          1\n",
       "795          1\n",
       "2332         1\n",
       "285          1\n",
       "798          1\n",
       "1823         1\n",
       "4384         1\n",
       "294          1\n",
       "809          1\n",
       "810          1\n",
       "812          1\n",
       "1326         1\n",
       "815          1\n",
       "816          1\n",
       "817          1\n",
       "310          1\n",
       "311          1\n",
       "314          1\n",
       "828          1\n",
       "318          1\n",
       "830          1\n",
       "1855         1\n",
       "833          1\n",
       "512          1\n",
       "Length: 747, dtype: int64"
      ]
     },
     "execution_count": 72,
     "metadata": {},
     "output_type": "execute_result"
    }
   ],
   "source": [
    "triple_count.value_counts()"
   ]
  },
  {
   "cell_type": "code",
   "execution_count": 73,
   "metadata": {
    "collapsed": false
   },
   "outputs": [
    {
     "data": {
      "text/plain": [
       "<matplotlib.axes._subplots.AxesSubplot at 0x1df85e417f0>"
      ]
     },
     "execution_count": 73,
     "metadata": {},
     "output_type": "execute_result"
    },
    {
     "data": {
      "image/png": "[encoded data removed]",
      "text/plain": [
       "<matplotlib.figure.Figure at 0x1df91516908>"
      ]
     },
     "metadata": {},
     "output_type": "display_data"
    }
   ],
   "source": [
    "triple_count.value_counts().apply(np.log).plot()"
   ]
  },
  {
   "cell_type": "code",
   "execution_count": 32,
   "metadata": {
    "collapsed": false,
    "scrolled": true
   },
   "outputs": [
    {
     "name": "stdout",
     "output_type": "stream",
     "text": [
      "/c/en/!!!!!,/r/tweet/dep/advmod,/c/en/go\n",
      "                head                  rel      tail  \\\n",
      "2324954  /c/en/!!!!!  /r/tweet/dep/advmod  /c/en/go   \n",
      "\n",
      "                                           triple  \n",
      "2324954  /c/en/!!!!!,/r/tweet/dep/advmod,/c/en/go  \n"
     ]
    }
   ],
   "source": [
    "for name,group in triples.groupby('triple'):\n",
    "    print(name)\n",
    "    print(group)\n",
    "    break"
   ]
  },
  {
   "cell_type": "code",
   "execution_count": 74,
   "metadata": {
    "collapsed": true
   },
   "outputs": [],
   "source": [
    "triples_count = pd.DataFrame()"
   ]
  },
  {
   "cell_type": "code",
   "execution_count": 76,
   "metadata": {
    "collapsed": false
   },
   "outputs": [],
   "source": [
    "triples_count['triple'] = triple_count.keys()"
   ]
  },
  {
   "cell_type": "code",
   "execution_count": 79,
   "metadata": {
    "collapsed": false
   },
   "outputs": [],
   "source": [
    "triples_count['triple_count'] = triple_count.values"
   ]
  },
  {
   "cell_type": "code",
   "execution_count": 81,
   "metadata": {
    "collapsed": true
   },
   "outputs": [],
   "source": [
    "triples_count['start'] = triples_count.triple.apply(lambda x:x.split(',')[0])\n",
    "triples_count['rel'] = triples_count.triple.apply(lambda x:x.split(',')[1])\n",
    "triples_count['end'] = triples_count.triple.apply(lambda x:x.split(',')[2])"
   ]
  },
  {
   "cell_type": "code",
   "execution_count": 83,
   "metadata": {
    "collapsed": false
   },
   "outputs": [
    {
     "data": {
      "text/plain": [
       "1030940"
      ]
     },
     "execution_count": 83,
     "metadata": {},
     "output_type": "execute_result"
    }
   ],
   "source": [
    "len(triples_count)"
   ]
  },
  {
   "cell_type": "code",
   "execution_count": 86,
   "metadata": {
    "collapsed": true
   },
   "outputs": [],
   "source": [
    "triples_count['weight'] = triples_count.triple_count.apply(lambda x:x/1030940)"
   ]
  },
  {
   "cell_type": "code",
   "execution_count": 87,
   "metadata": {
    "collapsed": false
   },
   "outputs": [
    {
     "data": {
      "text/html": [
       "<div>\n",
       "<style scoped>\n",
       "    .dataframe tbody tr th:only-of-type {\n",
       "        vertical-align: middle;\n",
       "    }\n",
       "\n",
       "    .dataframe tbody tr th {\n",
       "        vertical-align: top;\n",
       "    }\n",
       "\n",
       "    .dataframe thead th {\n",
       "        text-align: right;\n",
       "    }\n",
       "</style>\n",
       "<table border=\"1\" class=\"dataframe\">\n",
       "  <thead>\n",
       "    <tr style=\"text-align: right;\">\n",
       "      <th></th>\n",
       "      <th>triple</th>\n",
       "      <th>triple_count</th>\n",
       "      <th>start</th>\n",
       "      <th>rel</th>\n",
       "      <th>end</th>\n",
       "      <th>weight</th>\n",
       "    </tr>\n",
       "  </thead>\n",
       "  <tbody>\n",
       "    <tr>\n",
       "      <th>0</th>\n",
       "      <td>/c/en/!!!!!,/r/tweet/dep/advmod,/c/en/go</td>\n",
       "      <td>1</td>\n",
       "      <td>/c/en/!!!!!</td>\n",
       "      <td>/r/tweet/dep/advmod</td>\n",
       "      <td>/c/en/go</td>\n",
       "      <td>9.699886e-07</td>\n",
       "    </tr>\n",
       "    <tr>\n",
       "      <th>1</th>\n",
       "      <td>/c/en/!!!!!,/r/tweet/dep/ccomp,/c/en/find</td>\n",
       "      <td>1</td>\n",
       "      <td>/c/en/!!!!!</td>\n",
       "      <td>/r/tweet/dep/ccomp</td>\n",
       "      <td>/c/en/find</td>\n",
       "      <td>9.699886e-07</td>\n",
       "    </tr>\n",
       "    <tr>\n",
       "      <th>2</th>\n",
       "      <td>/c/en/!!!!!,/r/tweet/dep/nmod:of,/c/en/member</td>\n",
       "      <td>1</td>\n",
       "      <td>/c/en/!!!!!</td>\n",
       "      <td>/r/tweet/dep/nmod:of</td>\n",
       "      <td>/c/en/member</td>\n",
       "      <td>9.699886e-07</td>\n",
       "    </tr>\n",
       "    <tr>\n",
       "      <th>3</th>\n",
       "      <td>/c/en/!!!!!,/r/tweet/dep/xcomp,/c/en/make</td>\n",
       "      <td>1</td>\n",
       "      <td>/c/en/!!!!!</td>\n",
       "      <td>/r/tweet/dep/xcomp</td>\n",
       "      <td>/c/en/make</td>\n",
       "      <td>9.699886e-07</td>\n",
       "    </tr>\n",
       "    <tr>\n",
       "      <th>4</th>\n",
       "      <td>/c/en/!!!!,/r/tweet/dep/advmod,/c/en/go</td>\n",
       "      <td>1</td>\n",
       "      <td>/c/en/!!!!</td>\n",
       "      <td>/r/tweet/dep/advmod</td>\n",
       "      <td>/c/en/go</td>\n",
       "      <td>9.699886e-07</td>\n",
       "    </tr>\n",
       "  </tbody>\n",
       "</table>\n",
       "</div>"
      ],
      "text/plain": [
       "                                          triple  triple_count        start  \\\n",
       "0       /c/en/!!!!!,/r/tweet/dep/advmod,/c/en/go             1  /c/en/!!!!!   \n",
       "1      /c/en/!!!!!,/r/tweet/dep/ccomp,/c/en/find             1  /c/en/!!!!!   \n",
       "2  /c/en/!!!!!,/r/tweet/dep/nmod:of,/c/en/member             1  /c/en/!!!!!   \n",
       "3      /c/en/!!!!!,/r/tweet/dep/xcomp,/c/en/make             1  /c/en/!!!!!   \n",
       "4        /c/en/!!!!,/r/tweet/dep/advmod,/c/en/go             1   /c/en/!!!!   \n",
       "\n",
       "                    rel           end        weight  \n",
       "0   /r/tweet/dep/advmod      /c/en/go  9.699886e-07  \n",
       "1    /r/tweet/dep/ccomp    /c/en/find  9.699886e-07  \n",
       "2  /r/tweet/dep/nmod:of  /c/en/member  9.699886e-07  \n",
       "3    /r/tweet/dep/xcomp    /c/en/make  9.699886e-07  \n",
       "4   /r/tweet/dep/advmod      /c/en/go  9.699886e-07  "
      ]
     },
     "execution_count": 87,
     "metadata": {},
     "output_type": "execute_result"
    }
   ],
   "source": [
    "triples_count.head()"
   ]
  },
  {
   "cell_type": "code",
   "execution_count": 107,
   "metadata": {
    "collapsed": true
   },
   "outputs": [],
   "source": [
    "vocabs = list(triples_count.start.map(lambda x:x.split('/')[-1])) + list(triples_count.end.map(lambda x:x.split('/')[-1]))"
   ]
  },
  {
   "cell_type": "raw",
   "metadata": {},
   "source": [
    "vocabs = pd.concat([triples_count.start.map(lambda x:x.split('/')[-1]),triples_count.end.map(lambda x:x.split('/')[-1])])"
   ]
  },
  {
   "cell_type": "code",
   "execution_count": 108,
   "metadata": {
    "collapsed": true
   },
   "outputs": [],
   "source": [
    "from collections import Counter\n",
    "\n",
    "vocabs_count = Counter(vocabs)\n",
    "\n",
    "vocabs_count"
   ]
  },
  {
   "cell_type": "code",
   "execution_count": 113,
   "metadata": {
    "collapsed": true
   },
   "outputs": [],
   "source": [
    "import string\n",
    "\n",
    "string.digits\n",
    "\n",
    "string.punctuation.replace('_','')"
   ]
  },
  {
   "cell_type": "code",
   "execution_count": 122,
   "metadata": {
    "collapsed": true
   },
   "outputs": [],
   "source": [
    "punct = string.punctuation.replace('_','')"
   ]
  },
  {
   "cell_type": "code",
   "execution_count": 123,
   "metadata": {
    "collapsed": false
   },
   "outputs": [
    {
     "data": {
      "text/plain": [
       "'!\"#$%&\\'()*+,-./:;<=>?@[\\\\]^`{|}~'"
      ]
     },
     "execution_count": 123,
     "metadata": {},
     "output_type": "execute_result"
    }
   ],
   "source": [
    "punct"
   ]
  },
  {
   "cell_type": "code",
   "execution_count": 176,
   "metadata": {
    "collapsed": true
   },
   "outputs": [],
   "source": [
    "punct_re = '[!\"#$%&\\'()*+,-.:;<=>?@【[\\\\] ^`{|}~0-9]'"
   ]
  },
  {
   "cell_type": "code",
   "execution_count": 177,
   "metadata": {
    "collapsed": false
   },
   "outputs": [],
   "source": [
    "punct_filter = (triples_count.start.str.findall(punct_re).map(lambda x:len(x))+\\\n",
    "                triples_count.end.str.findall(punct_re).map(lambda x:len(x))).map(lambda x:False if x>0 else True)"
   ]
  },
  {
   "cell_type": "code",
   "execution_count": 178,
   "metadata": {
    "collapsed": false
   },
   "outputs": [
    {
     "data": {
      "text/plain": [
       "0          False\n",
       "1          False\n",
       "2          False\n",
       "3          False\n",
       "4          False\n",
       "5          False\n",
       "6          False\n",
       "7          False\n",
       "8          False\n",
       "9          False\n",
       "10         False\n",
       "11         False\n",
       "12         False\n",
       "13         False\n",
       "14         False\n",
       "15         False\n",
       "16         False\n",
       "17         False\n",
       "18         False\n",
       "19         False\n",
       "20         False\n",
       "21         False\n",
       "22         False\n",
       "23         False\n",
       "24         False\n",
       "25         False\n",
       "26         False\n",
       "27         False\n",
       "28         False\n",
       "29         False\n",
       "           ...  \n",
       "1030910    False\n",
       "1030911    False\n",
       "1030912    False\n",
       "1030913    False\n",
       "1030914    False\n",
       "1030915    False\n",
       "1030916    False\n",
       "1030917    False\n",
       "1030918    False\n",
       "1030919    False\n",
       "1030920    False\n",
       "1030921    False\n",
       "1030922    False\n",
       "1030923    False\n",
       "1030924    False\n",
       "1030925    False\n",
       "1030926    False\n",
       "1030927    False\n",
       "1030928    False\n",
       "1030929    False\n",
       "1030930    False\n",
       "1030931    False\n",
       "1030932    False\n",
       "1030933    False\n",
       "1030934    False\n",
       "1030935    False\n",
       "1030936    False\n",
       "1030937    False\n",
       "1030938     True\n",
       "1030939    False\n",
       "Length: 1030940, dtype: bool"
      ]
     },
     "execution_count": 178,
     "metadata": {},
     "output_type": "execute_result"
    }
   ],
   "source": [
    "punct_filter"
   ]
  },
  {
   "cell_type": "code",
   "execution_count": 195,
   "metadata": {
    "collapsed": false
   },
   "outputs": [
    {
     "name": "stderr",
     "output_type": "stream",
     "text": [
      "D:\\Anaconda3\\lib\\site-packages\\pandas\\core\\computation\\expressions.py:179: UserWarning: evaluating in Python space because the '+' operator is not supported by numexpr for the bool dtype, use '|' instead\n",
      "  .format(op=op_str, alt_op=unsupported[op_str]))\n"
     ]
    }
   ],
   "source": [
    "punct_filter2 = triples_count.start.map(lambda x: x.split('/')[-1] not in string.punctuation)+triples_count.end.map(lambda x: x.split('/')[-1] not in string.punctuation)"
   ]
  },
  {
   "cell_type": "code",
   "execution_count": 198,
   "metadata": {
    "collapsed": false
   },
   "outputs": [
    {
     "name": "stderr",
     "output_type": "stream",
     "text": [
      "D:\\Anaconda3\\lib\\site-packages\\ipykernel\\__main__.py:1: UserWarning: Boolean Series key will be reindexed to match DataFrame index.\n",
      "  if __name__ == '__main__':\n"
     ]
    }
   ],
   "source": [
    "triples_count_filter = triples_count[triples_count.triple_count > 1][punct_filter][triples_count.rel.str.startswith('/r/tweet')]"
   ]
  },
  {
   "cell_type": "code",
   "execution_count": 202,
   "metadata": {
    "collapsed": false
   },
   "outputs": [],
   "source": [
    "triples_count_filter[['start','rel','end','weight']].to_csv('triples_count_filter.csv',index=False)"
   ]
  },
  {
   "cell_type": "markdown",
   "metadata": {},
   "source": [
    "### Triples"
   ]
  },
  {
   "cell_type": "code",
   "execution_count": 203,
   "metadata": {
    "collapsed": false
   },
   "outputs": [
    {
     "data": {
      "text/plain": [
       "232787"
      ]
     },
     "execution_count": 203,
     "metadata": {},
     "output_type": "execute_result"
    }
   ],
   "source": [
    "len(triples_count_filter)"
   ]
  },
  {
   "cell_type": "markdown",
   "metadata": {},
   "source": [
    "### Relations"
   ]
  },
  {
   "cell_type": "code",
   "execution_count": 205,
   "metadata": {
    "collapsed": false
   },
   "outputs": [
    {
     "data": {
      "text/plain": [
       "1145"
      ]
     },
     "execution_count": 205,
     "metadata": {},
     "output_type": "execute_result"
    }
   ],
   "source": [
    "len(triples_count_filter.rel.unique())"
   ]
  },
  {
   "cell_type": "markdown",
   "metadata": {},
   "source": [
    "# Concepts"
   ]
  },
  {
   "cell_type": "code",
   "execution_count": 206,
   "metadata": {
    "collapsed": false
   },
   "outputs": [
    {
     "data": {
      "text/plain": [
       "23906"
      ]
     },
     "execution_count": 206,
     "metadata": {},
     "output_type": "execute_result"
    }
   ],
   "source": [
    "len(set(triples_count_filter.start.tolist()+triples_count_filter.end.tolist()))"
   ]
  },
  {
   "cell_type": "markdown",
   "metadata": {},
   "source": [
    "### Tasks "
   ]
  },
  {
   "cell_type": "code",
   "execution_count": 209,
   "metadata": {
    "collapsed": false
   },
   "outputs": [
    {
     "data": {
      "text/plain": [
       "['/r/tweet/dep/acl',\n",
       " '/r/tweet/dep/advmod',\n",
       " '/r/tweet/dep/ccomp',\n",
       " '/r/tweet/dep/compound',\n",
       " '/r/tweet/dep/nmod:poss',\n",
       " '/r/tweet/dep/parataxis',\n",
       " '/r/tweet/IsA',\n",
       " '/r/tweet/dep/dobj',\n",
       " '/r/tweet/dep/nmod:in',\n",
       " '/r/tweet/dep/nsubj',\n",
       " '/r/tweet/dep/root',\n",
       " '/r/tweet/dep/nmod:at',\n",
       " '/r/tweet/dep/nmod:of',\n",
       " '/r/tweet/dep/conj:&',\n",
       " '/r/tweet/dep/conj:and',\n",
       " '/r/tweet/dep/det:qmod',\n",
       " '/r/tweet/dep/nmod:on',\n",
       " '/r/tweet/open/express',\n",
       " '/r/tweet/open/see',\n",
       " '/r/tweet/open/release',\n",
       " '/r/tweet/dep/appos',\n",
       " '/r/tweet/dep/acl:relcl',\n",
       " '/r/tweet/dep/advcl:after',\n",
       " '/r/tweet/dep/advcl:as',\n",
       " '/r/tweet/dep/xcomp',\n",
       " '/r/tweet/dep/nmod:via',\n",
       " '/r/tweet/open/excuse',\n",
       " '/r/tweet/dep/nmod:to',\n",
       " '/r/tweet/dep/nmod:agent',\n",
       " '/r/tweet/dep/nmod:across',\n",
       " '/r/tweet/dep/nmod:between',\n",
       " '/r/tweet/dep/nmod:near',\n",
       " '/r/tweet/dep/nmod:off',\n",
       " '/r/tweet/open/hold',\n",
       " '/r/tweet/open/lead',\n",
       " '/r/tweet/dep/nmod:into',\n",
       " '/r/tweet/dep/nmod:about',\n",
       " '/r/tweet/dep/conj:or',\n",
       " '/r/tweet/dep/conj:+',\n",
       " '/r/tweet/dep/mark',\n",
       " '/r/tweet/dep/nmod:with',\n",
       " '/r/tweet/dep/nsubjpass',\n",
       " '/r/tweet/dep/nummod',\n",
       " '/r/tweet/dep/advcl:to',\n",
       " '/r/tweet/dep/nsubj:xsubj',\n",
       " '/r/tweet/dep/nmod:from',\n",
       " '/r/tweet/dep/acl:to',\n",
       " '/r/tweet/dep/nmod:for',\n",
       " '/r/tweet/dep/nmod:without',\n",
       " '/r/tweet/dep/nmod:after',\n",
       " '/r/tweet/dep/nmod:as',\n",
       " '/r/tweet/dep/nmod:by',\n",
       " '/r/tweet/dep/nmod:due',\n",
       " '/r/tweet/dep/nmod:due_to',\n",
       " '/r/tweet/dep/nmod:following',\n",
       " '/r/tweet/dep/nmod:in_case_of',\n",
       " '/r/tweet/dep/nmod:like',\n",
       " '/r/tweet/dep/nmod:over',\n",
       " '/r/tweet/open/cause',\n",
       " '/r/tweet/open/claim',\n",
       " '/r/tweet/open/close',\n",
       " '/r/tweet/open/go',\n",
       " '/r/tweet/open/harm',\n",
       " '/r/tweet/open/injure',\n",
       " '/r/tweet/open/kill',\n",
       " '/r/tweet/open/leave',\n",
       " '/r/tweet/open/send',\n",
       " '/r/tweet/open/set',\n",
       " '/r/tweet/open/show',\n",
       " '/r/tweet/open/shut',\n",
       " '/r/tweet/open/spark',\n",
       " '/r/tweet/open/strike',\n",
       " '/r/tweet/open/take',\n",
       " '/r/tweet/open/occur',\n",
       " '/r/tweet/open/two_ukraine_mine_accidents_leave',\n",
       " '/r/tweet/dep/nmod:inside',\n",
       " '/r/tweet/dep/advcl',\n",
       " '/r/tweet/dep/conj:but',\n",
       " '/r/tweet/open/stir',\n",
       " '/r/tweet/dep/advcl:before',\n",
       " '/r/tweet/dep/nmod',\n",
       " '/r/tweet/dep/compound:prt',\n",
       " '/r/tweet/dep/nmod:under',\n",
       " '/r/tweet/open/save',\n",
       " '/r/tweet/open/climb',\n",
       " '/r/tweet/open/occupy',\n",
       " '/r/tweet/open/trade',\n",
       " '/r/tweet/dep/nmod:as_for',\n",
       " '/r/tweet/open/continue',\n",
       " '/r/tweet/open/disrupt',\n",
       " '/r/tweet/dep/nmod:outside',\n",
       " '/r/tweet/open/run',\n",
       " '/r/tweet/dep/advcl:at',\n",
       " '/r/tweet/dep/advcl:by',\n",
       " '/r/tweet/dep/aux',\n",
       " '/r/tweet/dep/conj',\n",
       " '/r/tweet/dep/mwe',\n",
       " '/r/tweet/open/add',\n",
       " '/r/tweet/dep/nmod:aboard',\n",
       " '/r/tweet/open/number',\n",
       " '/r/tweet/open/die',\n",
       " '/r/tweet/dep/acl:of',\n",
       " '/r/tweet/dep/conj:vs',\n",
       " '/r/tweet/dep/advcl:if',\n",
       " '/r/tweet/dep/advcl:with',\n",
       " '/r/tweet/open/work',\n",
       " '/r/tweet/open/look',\n",
       " '/r/tweet/open/declare',\n",
       " '/r/tweet/dep/nmod:according_to',\n",
       " '/r/tweet/dep/nmod:against',\n",
       " '/r/tweet/open/launch',\n",
       " '/r/tweet/open/ponder',\n",
       " '/r/tweet/dep/nmod:as_of',\n",
       " '/r/tweet/dep/nsubjpass:xsubj',\n",
       " '/r/tweet/open/dim',\n",
       " '/r/tweet/open/force',\n",
       " '/r/tweet/open/hit',\n",
       " '/r/tweet/open/plague',\n",
       " '/r/tweet/open/rattle',\n",
       " '/r/tweet/open/rock',\n",
       " '/r/tweet/open/shake',\n",
       " '/r/tweet/open/test',\n",
       " '/r/tweet/dep/conj:yet',\n",
       " '/r/tweet/dep/advcl:than',\n",
       " '/r/tweet/dep/nmod:before',\n",
       " '/r/tweet/open/assess',\n",
       " '/r/tweet/open/confirm',\n",
       " '/r/tweet/open/give',\n",
       " '/r/tweet/open/issue',\n",
       " '/r/tweet/open/raise',\n",
       " '/r/tweet/open/say',\n",
       " '/r/tweet/open/step',\n",
       " '/r/tweet/dep/nmod:up',\n",
       " '/r/tweet/open/reach',\n",
       " '/r/tweet/open/warn',\n",
       " '/r/tweet/dep/nmod:including',\n",
       " '/r/tweet/open/lose',\n",
       " '/r/tweet/open/search',\n",
       " \"/r/tweet/dep/conj:'n\",\n",
       " '/r/tweet/open/bind',\n",
       " '/r/tweet/open/carry',\n",
       " '/r/tweet/open/catch',\n",
       " '/r/tweet/open/crash',\n",
       " '/r/tweet/open/suffer',\n",
       " '/r/tweet/open/avoid',\n",
       " '/r/tweet/open/cancel',\n",
       " '/r/tweet/open/resume',\n",
       " '/r/tweet/open/review',\n",
       " '/r/tweet/open/strand',\n",
       " '/r/tweet/open/underestimate',\n",
       " '/r/tweet/open/career',\n",
       " '/r/tweet/open/make',\n",
       " '/r/tweet/open/skid',\n",
       " '/r/tweet/open/slide',\n",
       " '/r/tweet/dep/nmod:close_to',\n",
       " '/r/tweet/dep/nmod:down',\n",
       " '/r/tweet/dep/nmod:npmod',\n",
       " '/r/tweet/open/experience',\n",
       " '/r/tweet/open/report',\n",
       " '/r/tweet/open/suspend',\n",
       " '/r/tweet/dep/nmod:during',\n",
       " '/r/tweet/open/destroy',\n",
       " '/r/tweet/open/target',\n",
       " '/r/tweet/dep/nmod:through',\n",
       " '/r/tweet/open/form',\n",
       " '/r/tweet/open/scrub',\n",
       " '/r/tweet/open/delcare',\n",
       " '/r/tweet/dep/acl:on',\n",
       " '/r/tweet/dep/auxpass',\n",
       " '/r/tweet/open/plunge',\n",
       " '/r/tweet/dep/nmod:among',\n",
       " '/r/tweet/dep/nmod:out',\n",
       " '/r/tweet/dep/nmod:tmod',\n",
       " '/r/tweet/dep/det:predet',\n",
       " '/r/tweet/open/survive',\n",
       " '/r/tweet/open/bless',\n",
       " '/r/tweet/open/grant',\n",
       " '/r/tweet/dep/advcl:for',\n",
       " '/r/tweet/dep/nmod:above',\n",
       " '/r/tweet/dep/advcl:on',\n",
       " \"/r/tweet/dep/nmod:'s\",\n",
       " '/r/tweet/open/support',\n",
       " '/r/tweet/open/evaluate',\n",
       " '/r/tweet/open/|',\n",
       " '/r/tweet/open/ground',\n",
       " '/r/tweet/open/exceed',\n",
       " '/r/tweet/open/kick',\n",
       " '/r/tweet/open/suggest',\n",
       " '/r/tweet/open/damage',\n",
       " '/r/tweet/dep/nmod:outside_of',\n",
       " '/r/tweet/dep/nmod:towards',\n",
       " '/r/tweet/open/prepare',\n",
       " '/r/tweet/open/tell',\n",
       " '/r/tweet/dep/nmod:along_with',\n",
       " '/r/tweet/open/bring',\n",
       " '/r/tweet/open/lash',\n",
       " '/r/tweet/open/roam',\n",
       " '/r/tweet/open/coordinate',\n",
       " '/r/tweet/dep/advcl:in',\n",
       " '/r/tweet/dep/nmod:unlike',\n",
       " '/r/tweet/open/know',\n",
       " '/r/tweet/open/watch',\n",
       " '/r/tweet/open/get',\n",
       " '/r/tweet/open/hear',\n",
       " '/r/tweet/open/please',\n",
       " '/r/tweet/dep/nmod:than',\n",
       " '/r/tweet/open/flee',\n",
       " '/r/tweet/open/publish',\n",
       " '/r/tweet/open/visit',\n",
       " '/r/tweet/dep/advcl:from',\n",
       " '/r/tweet/open/expose',\n",
       " '/r/tweet/dep/advcl:of',\n",
       " '/r/tweet/dep/nmod:since',\n",
       " '/r/tweet/dep/nmod:toward',\n",
       " '/r/tweet/open/unravel',\n",
       " '/r/tweet/open/open',\n",
       " '/r/tweet/dep/nmod:along',\n",
       " '/r/tweet/dep/nmod:around',\n",
       " '/r/tweet/dep/nmod:away_from',\n",
       " '/r/tweet/dep/nmod:out_of',\n",
       " '/r/tweet/dep/nmod:throughout',\n",
       " '/r/tweet/dep/nmod:thru',\n",
       " '/r/tweet/open/evacuate',\n",
       " '/r/tweet/open/this',\n",
       " '/r/tweet/open/move',\n",
       " '/r/tweet/open/deploy',\n",
       " '/r/tweet/open/fight',\n",
       " '/r/tweet/open/free',\n",
       " '/r/tweet/open/rescue',\n",
       " '/r/tweet/open/ask',\n",
       " '/r/tweet/open/blow',\n",
       " '/r/tweet/dep/csubjpass',\n",
       " '/r/tweet/dep/csubj',\n",
       " '/r/tweet/open/vacuum',\n",
       " '/r/tweet/open/fear',\n",
       " '/r/tweet/dep/nmod:because_of',\n",
       " '/r/tweet/open/engulf',\n",
       " '/r/tweet/open/prompt',\n",
       " '/r/tweet/open/turn',\n",
       " '/r/tweet/open/face',\n",
       " '/r/tweet/open/fine',\n",
       " '/r/tweet/dep/iobj',\n",
       " '/r/tweet/open/penalize',\n",
       " '/r/tweet/dep/acl:after',\n",
       " '/r/tweet/open/find',\n",
       " '/r/tweet/open/offer',\n",
       " '/r/tweet/open/predict',\n",
       " '/r/tweet/open/miss',\n",
       " '/r/tweet/dep/nmod:compared',\n",
       " '/r/tweet/open/begin',\n",
       " '/r/tweet/open/complete',\n",
       " '/r/tweet/open/repair',\n",
       " '/r/tweet/open/replace',\n",
       " '/r/tweet/open/start',\n",
       " '/r/tweet/open/wrap',\n",
       " '/r/tweet/open/capsize',\n",
       " '/r/tweet/open/wound',\n",
       " '/r/tweet/open/storm',\n",
       " '/r/tweet/dep/acl:while',\n",
       " '/r/tweet/dep/advcl:while',\n",
       " '/r/tweet/dep/advcl:so_that',\n",
       " '/r/tweet/open/break',\n",
       " '/r/tweet/open/batten',\n",
       " '/r/tweet/open/count',\n",
       " '/r/tweet/open/expect',\n",
       " '/r/tweet/open/fire',\n",
       " '/r/tweet/open/halt',\n",
       " '/r/tweet/open/join',\n",
       " '/r/tweet/open/propose',\n",
       " '/r/tweet/open/assist',\n",
       " '/r/tweet/open/detain',\n",
       " '/r/tweet/open/extend',\n",
       " '/r/tweet/open/florida_authorities_say',\n",
       " '/r/tweet/open/lift',\n",
       " '/r/tweet/open/order',\n",
       " '/r/tweet/open/reject',\n",
       " '/r/tweet/open/spot',\n",
       " '/r/tweet/open/arrest',\n",
       " '/r/tweet/open/battle',\n",
       " '/r/tweet/open/blame',\n",
       " '/r/tweet/open/consider',\n",
       " '/r/tweet/open/defuse',\n",
       " '/r/tweet/open/end',\n",
       " '/r/tweet/open/identify',\n",
       " '/r/tweet/open/intercept',\n",
       " '/r/tweet/open/investigate',\n",
       " '/r/tweet/open/pin',\n",
       " '/r/tweet/open/recover',\n",
       " '/r/tweet/open/slaughter',\n",
       " '/r/tweet/open/urge',\n",
       " '/r/tweet/open/recall',\n",
       " '/r/tweet/open/bury',\n",
       " '/r/tweet/open/injured',\n",
       " '/r/tweet/open/misc',\n",
       " '/r/tweet/open/sweep',\n",
       " '/r/tweet/open/wipe',\n",
       " '/r/tweet/dep/nmod:below',\n",
       " '/r/tweet/dep/advcl:in_order',\n",
       " '/r/tweet/dep/discourse',\n",
       " '/r/tweet/dep/acl:since',\n",
       " '/r/tweet/dep/advcl:whether',\n",
       " '/r/tweet/open/derail',\n",
       " '/r/tweet/open/rise',\n",
       " '/r/tweet/open/size',\n",
       " '/r/tweet/open/veer',\n",
       " '/r/tweet/open/escape',\n",
       " '/r/tweet/open/ban',\n",
       " '/r/tweet/open/boost',\n",
       " '/r/tweet/open/call',\n",
       " '/r/tweet/open/pull',\n",
       " '/r/tweet/dep/nmod:behind',\n",
       " '/r/tweet/open/leak',\n",
       " '/r/tweet/dep/nmod:onto',\n",
       " '/r/tweet/dep/nmod:past',\n",
       " '/r/tweet/open/cruise',\n",
       " '/r/tweet/open/provide',\n",
       " '/r/tweet/dep/advcl:along',\n",
       " '/r/tweet/dep/advcl:because',\n",
       " '/r/tweet/dep/advcl:like',\n",
       " '/r/tweet/dep/cop',\n",
       " '/r/tweet/open/need',\n",
       " '/r/tweet/open/fall',\n",
       " '/r/tweet/dep/advcl:since',\n",
       " '/r/tweet/open/restrict',\n",
       " '/r/tweet/open/celebrate',\n",
       " '/r/tweet/open/mourn',\n",
       " '/r/tweet/open/observe',\n",
       " '/r/tweet/open/remember',\n",
       " '/r/tweet/open/swallow',\n",
       " '/r/tweet/open/receive',\n",
       " '/r/tweet/open/near',\n",
       " '/r/tweet/open/overturn',\n",
       " '/r/tweet/open/cut',\n",
       " '/r/tweet/open/follow',\n",
       " '/r/tweet/open/bangladesh_garment_factory_blast_kills',\n",
       " '/r/tweet/open/chinese_coal_mine_kills',\n",
       " '/r/tweet/open/engage',\n",
       " '/r/tweet/open/hollywood_bangladesh_garment_factory_blast_kills',\n",
       " '/r/tweet/open/shoot',\n",
       " '/r/tweet/open/cover',\n",
       " '/r/tweet/open/rage',\n",
       " '/r/tweet/open/trap',\n",
       " '/r/tweet/open/dump',\n",
       " '/r/tweet/open/fail',\n",
       " '/r/tweet/dep/advcl:near',\n",
       " '/r/tweet/dep/nmod:beside',\n",
       " '/r/tweet/dep/nmod:amongst',\n",
       " '/r/tweet/open/collapse',\n",
       " '/r/tweet/open/collide',\n",
       " '/r/tweet/open/pack',\n",
       " '/r/tweet/open/sink',\n",
       " '/r/tweet/open/be',\n",
       " '/r/tweet/open/solve',\n",
       " '/r/tweet/open/change',\n",
       " '/r/tweet/open/ink',\n",
       " '/r/tweet/open/promote',\n",
       " '/r/tweet/open/rotate',\n",
       " '/r/tweet/open/remind',\n",
       " '/r/tweet/open/cost',\n",
       " '/r/tweet/dep/nmod:beyond',\n",
       " '/r/tweet/dep/cc:preconj',\n",
       " '/r/tweet/open/reveal',\n",
       " '/r/tweet/open/announce',\n",
       " '/r/tweet/open/cap',\n",
       " '/r/tweet/open/plug',\n",
       " '/r/tweet/open/prevent',\n",
       " '/r/tweet/open/put',\n",
       " '/r/tweet/open/seal',\n",
       " '/r/tweet/open/bear',\n",
       " '/r/tweet/dep/nmod:next_to',\n",
       " '/r/tweet/open/build',\n",
       " '/r/tweet/open/register',\n",
       " '/r/tweet/open/inundate',\n",
       " '/r/tweet/dep/acl:at',\n",
       " '/r/tweet/dep/acl:via',\n",
       " '/r/tweet/dep/advcl:via',\n",
       " '/r/tweet/open/delay',\n",
       " '/r/tweet/dep/nmod:upon',\n",
       " '/r/tweet/dep/acl:for',\n",
       " '/r/tweet/dep/acl:in',\n",
       " \"/r/tweet/dep/nmod:'\",\n",
       " '/r/tweet/dep/acl:from',\n",
       " '/r/tweet/dep/advcl:inside',\n",
       " '/r/tweet/open/contain',\n",
       " '/r/tweet/open/meet',\n",
       " '/r/tweet/open/raze',\n",
       " '/r/tweet/open/pierce',\n",
       " '/r/tweet/open/wind',\n",
       " '/r/tweet/dep/advcl:into',\n",
       " '/r/tweet/open/emit',\n",
       " '/r/tweet/open/pick',\n",
       " '/r/tweet/dep/acl:with',\n",
       " '/r/tweet/dep/advcl:though',\n",
       " '/r/tweet/open/create',\n",
       " '/r/tweet/dep/nmod:in_front_of',\n",
       " '/r/tweet/open/careen',\n",
       " '/r/tweet/open/drive',\n",
       " '/r/tweet/open/plough',\n",
       " '/r/tweet/open/plummet',\n",
       " '/r/tweet/open/read',\n",
       " '/r/tweet/open/roll',\n",
       " '/r/tweet/open/slip',\n",
       " '/r/tweet/open/stop',\n",
       " '/r/tweet/open/swerve',\n",
       " '/r/tweet/open/tumble',\n",
       " '/r/tweet/open/burn',\n",
       " '/r/tweet/open/devastate',\n",
       " '/r/tweet/open/threaten',\n",
       " '/r/tweet/open/affect',\n",
       " '/r/tweet/open/deliver',\n",
       " '/r/tweet/open/approve',\n",
       " '/r/tweet/open/pass',\n",
       " '/r/tweet/open/admit',\n",
       " '/r/tweet/open/curtail',\n",
       " '/r/tweet/dep/nmod:amid',\n",
       " '/r/tweet/open/capture',\n",
       " '/r/tweet/dep/nmod:despite',\n",
       " '/r/tweet/open/scale',\n",
       " '/r/tweet/open/supply',\n",
       " '/r/tweet/open/seek',\n",
       " '/r/tweet/open/shed',\n",
       " '/r/tweet/open/quell',\n",
       " '/r/tweet/open/dampen',\n",
       " '/r/tweet/open/keep',\n",
       " '/r/tweet/dep/nmod:far_from',\n",
       " '/r/tweet/open/withstand',\n",
       " '/r/tweet/dep/acl:as',\n",
       " '/r/tweet/open/abandon',\n",
       " '/r/tweet/open/defend',\n",
       " '/r/tweet/open/enter',\n",
       " '/r/tweet/open/jump',\n",
       " '/r/tweet/open/log',\n",
       " '/r/tweet/open/mount',\n",
       " '/r/tweet/open/spill',\n",
       " '/r/tweet/open/have',\n",
       " '/r/tweet/dep/advcl:about',\n",
       " '/r/tweet/dep/advcl:out',\n",
       " '/r/tweet/dep/advcl:that',\n",
       " '/r/tweet/dep/advcl:without',\n",
       " '/r/tweet/dep/nmod:until',\n",
       " '/r/tweet/dep/nmod:ago',\n",
       " '/r/tweet/open/block',\n",
       " '/r/tweet/open/pave',\n",
       " '/r/tweet/dep/nmod:per',\n",
       " '/r/tweet/open/bail',\n",
       " '/r/tweet/open/host',\n",
       " '/r/tweet/open/mark',\n",
       " '/r/tweet/open/head',\n",
       " '/r/tweet/open/skirt',\n",
       " '/r/tweet/open/help',\n",
       " '/r/tweet/open/donate',\n",
       " '/r/tweet/open/buy',\n",
       " '/r/tweet/open/drown',\n",
       " '/r/tweet/open/request',\n",
       " '/r/tweet/open/blockade',\n",
       " '/r/tweet/open/censor',\n",
       " '/r/tweet/open/cull',\n",
       " '/r/tweet/open/include',\n",
       " '/r/tweet/open/limit',\n",
       " '/r/tweet/open/overtake',\n",
       " '/r/tweet/open/phase',\n",
       " '/r/tweet/open/surpass',\n",
       " '/r/tweet/open/tackle',\n",
       " '/r/tweet/open/up',\n",
       " '/r/tweet/open/widen',\n",
       " '/r/tweet/open/worry',\n",
       " '/r/tweet/open/ditch',\n",
       " '/r/tweet/open/spend',\n",
       " '/r/tweet/open/welcome',\n",
       " '/r/tweet/open/unveil',\n",
       " '/r/tweet/dep/conj:nor',\n",
       " '/r/tweet/open/secure',\n",
       " '/r/tweet/dep/nmod:while',\n",
       " '/r/tweet/open/safe',\n",
       " '/r/tweet/open/learn',\n",
       " '/r/tweet/open/steal',\n",
       " '/r/tweet/dep/advcl:until',\n",
       " '/r/tweet/dep/nmod:off_of',\n",
       " '/r/tweet/dep/conj:vs.',\n",
       " '/r/tweet/open/describe',\n",
       " '/r/tweet/open/discover',\n",
       " '/r/tweet/open/\\\\',\n",
       " '/r/tweet/open/accelerate',\n",
       " '/r/tweet/open/fly',\n",
       " '/r/tweet/open/practice',\n",
       " '/r/tweet/open/practise',\n",
       " '/r/tweet/open/rehearse',\n",
       " '/r/tweet/open/research',\n",
       " '/r/tweet/open/speed',\n",
       " '/r/tweet/open/deny',\n",
       " '/r/tweet/open/pluck',\n",
       " '/r/tweet/open/seize',\n",
       " '/r/tweet/open/co_ordinate',\n",
       " '/r/tweet/open/retrieve',\n",
       " '/r/tweet/open/snap',\n",
       " '/r/tweet/open/erupt',\n",
       " '/r/tweet/dep/nmod:beneath',\n",
       " '/r/tweet/dep/acl:into',\n",
       " '/r/tweet/open/berkeley_balcony_collapse_kills',\n",
       " '/r/tweet/open/underscore',\n",
       " '/r/tweet/open/amtrak_collision_with_backhoe_leaves',\n",
       " '/r/tweet/open/estimate',\n",
       " '/r/tweet/open/push',\n",
       " '/r/tweet/open/fend',\n",
       " '/r/tweet/open/hire',\n",
       " '/r/tweet/open/shelve',\n",
       " '/r/tweet/open/approach',\n",
       " '/r/tweet/open/chronicle',\n",
       " '/r/tweet/open/breach',\n",
       " '/r/tweet/open/ease',\n",
       " '/r/tweet/dep/nmod:within',\n",
       " '/r/tweet/open/increase',\n",
       " '/r/tweet/open/undertake',\n",
       " '/r/tweet/open/back',\n",
       " '/r/tweet/open/clear',\n",
       " '/r/tweet/open/convict',\n",
       " '/r/tweet/open/sentence',\n",
       " '/r/tweet/open/uphold',\n",
       " '/r/tweet/dep/acl:aboard',\n",
       " '/r/tweet/dep/nmod:copter',\n",
       " '/r/tweet/open/eject',\n",
       " '/r/tweet/open/happen',\n",
       " '/r/tweet/open/hurt',\n",
       " '/r/tweet/open/involve',\n",
       " '/r/tweet/open/land',\n",
       " '/r/tweet/open/shear',\n",
       " '/r/tweet/open/confront',\n",
       " '/r/tweet/open/doorknock',\n",
       " '/r/tweet/open/douse',\n",
       " '/r/tweet/open/notice',\n",
       " '/r/tweet/dep/nmod:amidst',\n",
       " '/r/tweet/dep/advcl:during',\n",
       " '/r/tweet/dep/advcl:whilst',\n",
       " '/r/tweet/open/rush',\n",
       " '/r/tweet/open/fill',\n",
       " '/r/tweet/open/suck',\n",
       " '/r/tweet/open/cook',\n",
       " '/r/tweet/open/cross',\n",
       " '/r/tweet/open/menace',\n",
       " '/r/tweet/open/smash',\n",
       " '/r/tweet/open/spare',\n",
       " '/r/tweet/open/weaken',\n",
       " '/r/tweet/open/sicken',\n",
       " '/r/tweet/open/treat',\n",
       " '/r/tweet/dep/nmod:so',\n",
       " '/r/tweet/open/spur',\n",
       " '/r/tweet/open/represent',\n",
       " '/r/tweet/open/lie',\n",
       " '/r/tweet/dep/conj:and/or',\n",
       " '/r/tweet/dep/nmod:till',\n",
       " '/r/tweet/open/=',\n",
       " '/r/tweet/open/sustain',\n",
       " '/r/tweet/dep/nmod:today',\n",
       " '/r/tweet/open/plow',\n",
       " '/r/tweet/open/bobsle',\n",
       " '/r/tweet/open/store',\n",
       " '/r/tweet/open/trigger',\n",
       " '/r/tweet/open/worsen',\n",
       " '/r/tweet/open/wreck',\n",
       " '/r/tweet/dep/nmod:given',\n",
       " '/r/tweet/open/top',\n",
       " '/r/tweet/open/exit',\n",
       " '/r/tweet/open/expand',\n",
       " '/r/tweet/open/reduce',\n",
       " '/r/tweet/open/introduce',\n",
       " '/r/tweet/open/deal',\n",
       " '/r/tweet/open/strengthen',\n",
       " '/r/tweet/dep/acl:before',\n",
       " '/r/tweet/dep/acl:including',\n",
       " '/r/tweet/dep/conj:negcc',\n",
       " '/r/tweet/open/flash',\n",
       " '/r/tweet/open/infect',\n",
       " '/r/tweet/open/commit',\n",
       " '/r/tweet/open/rule',\n",
       " '/r/tweet/dep/advcl:among',\n",
       " '/r/tweet/dep/acl:whether',\n",
       " '/r/tweet/open/detect',\n",
       " '/r/tweet/open/teach',\n",
       " '/r/tweet/open/win',\n",
       " '/r/tweet/open/pledge',\n",
       " '/r/tweet/open/forget',\n",
       " '/r/tweet/open/flood',\n",
       " '/r/tweet/open/simulate',\n",
       " '/r/tweet/open/mobilize',\n",
       " '/r/tweet/dep/acl:without',\n",
       " '/r/tweet/open/gun',\n",
       " '/r/tweet/open/activate',\n",
       " '/r/tweet/dep/conj:plus',\n",
       " '/r/tweet/open/pound',\n",
       " '/r/tweet/open/churn',\n",
       " '/r/tweet/open/gather',\n",
       " '/r/tweet/open/impact',\n",
       " '/r/tweet/dep/nmod:abt',\n",
       " '/r/tweet/open/feel',\n",
       " '/r/tweet/open/generate',\n",
       " '/r/tweet/open/jolt',\n",
       " '/r/tweet/open/knock',\n",
       " '/r/tweet/open/measure',\n",
       " '/r/tweet/open/ravage',\n",
       " '/r/tweet/open/record',\n",
       " '/r/tweet/open/strikes',\n",
       " '/r/tweet/open/surround',\n",
       " '/r/tweet/open/sway',\n",
       " '/r/tweet/open/topple',\n",
       " '/r/tweet/open/update',\n",
       " '/r/tweet/open/richter_scale_hit',\n",
       " '/r/tweet/dep/advcl:under',\n",
       " '/r/tweet/open/forecast',\n",
       " '/r/tweet/open/yield',\n",
       " '/r/tweet/open/dismiss',\n",
       " '/r/tweet/open/egypt',\n",
       " '/r/tweet/open/suspect',\n",
       " '/r/tweet/open/wage',\n",
       " '/r/tweet/open/connect',\n",
       " '/r/tweet/open/enjoy',\n",
       " '/r/tweet/open/^',\n",
       " '/r/tweet/dep/acl:near',\n",
       " '/r/tweet/dep/advcl:around',\n",
       " '/r/tweet/open/displace',\n",
       " '/r/tweet/open/reverse',\n",
       " '/r/tweet/open/switch',\n",
       " '/r/tweet/open/attempt',\n",
       " '/r/tweet/open/commemorate',\n",
       " '/r/tweet/open/eat',\n",
       " '/r/tweet/open/recite',\n",
       " '/r/tweet/dep/acl:than',\n",
       " '/r/tweet/open/disable',\n",
       " '/r/tweet/open/track',\n",
       " '/r/tweet/open/level',\n",
       " '/r/tweet/open/maryland_apartment_complex_kills',\n",
       " '/r/tweet/open/serve',\n",
       " '/r/tweet/open/e',\n",
       " '/r/tweet/open/ignite',\n",
       " '/r/tweet/open/rip',\n",
       " '/r/tweet/dep/advcl:amid',\n",
       " '/r/tweet/dep/acl:on_top_of',\n",
       " '/r/tweet/open/demand',\n",
       " '/r/tweet/open/do',\n",
       " '/r/tweet/open/love',\n",
       " '/r/tweet/open/reclaim',\n",
       " '/r/tweet/dep/conj:so',\n",
       " '/r/tweet/open/grow',\n",
       " '/r/tweet/open/sue',\n",
       " '/r/tweet/open/cite',\n",
       " '/r/tweet/open/slam',\n",
       " '/r/tweet/open/name',\n",
       " '/r/tweet/dep/acl:no',\n",
       " '/r/tweet/open/hammer',\n",
       " '/r/tweet/dep/acl:out',\n",
       " '/r/tweet/open/bar',\n",
       " '/r/tweet/open/burns',\n",
       " '/r/tweet/open/china_gold_mine_fire_kills',\n",
       " '/r/tweet/open/devour',\n",
       " '/r/tweet/open/draw',\n",
       " '/r/tweet/open/extinguish',\n",
       " '/r/tweet/open/gut',\n",
       " '/r/tweet/open/hospitalize',\n",
       " '/r/tweet/open/incinerate',\n",
       " '/r/tweet/open/new_jersey_motel_fire_kills',\n",
       " '/r/tweet/open/render',\n",
       " '/r/tweet/open/rim_fire_near_yosemite_national_park_contained',\n",
       " '/r/tweet/open/scorch',\n",
       " '/r/tweet/open/tear',\n",
       " '/r/tweet/open/gain',\n",
       " '/r/tweet/open/choke',\n",
       " '/r/tweet/open/mobilise',\n",
       " '/r/tweet/open/shock',\n",
       " '/r/tweet/open/spread',\n",
       " '/r/tweet/open/invade',\n",
       " '/r/tweet/open/reopen',\n",
       " '/r/tweet/dep/acl:under_order',\n",
       " '/r/tweet/open/depart',\n",
       " '/r/tweet/open/overshoot',\n",
       " '/r/tweet/open/perform',\n",
       " '/r/tweet/dep/acl:by',\n",
       " '/r/tweet/open/alert',\n",
       " '/r/tweet/open/swamp',\n",
       " '/r/tweet/open/throw',\n",
       " '/r/tweet/open/wreak',\n",
       " '/r/tweet/open/basin',\n",
       " '/r/tweet/open/overwhelm',\n",
       " '/r/tweet/open/paralyze',\n",
       " '/r/tweet/open/submerge',\n",
       " '/r/tweet/open/compound',\n",
       " '/r/tweet/open/could',\n",
       " '/r/tweet/open/cripple',\n",
       " '/r/tweet/open/curb',\n",
       " '/r/tweet/open/headline',\n",
       " '/r/tweet/open/heighten',\n",
       " '/r/tweet/open/isolate',\n",
       " '/r/tweet/open/paralyse',\n",
       " '/r/tweet/open/scupper',\n",
       " '/r/tweet/open/wash',\n",
       " '/r/tweet/open/recede',\n",
       " '/r/tweet/open/bomb',\n",
       " '/r/tweet/open/bombard',\n",
       " '/r/tweet/open/shell',\n",
       " '/r/tweet/open/withdraw',\n",
       " '/r/tweet/dep/advcl:in_case',\n",
       " '/r/tweet/open/beat',\n",
       " '/r/tweet/open/forgive',\n",
       " '/r/tweet/open/invest',\n",
       " '/r/tweet/open/explode',\n",
       " '/r/tweet/open/check',\n",
       " '/r/tweet/open/batter',\n",
       " '/r/tweet/open/relocate',\n",
       " '/r/tweet/open/acquire',\n",
       " '/r/tweet/open/pay',\n",
       " '/r/tweet/dep/acl:na',\n",
       " '/r/tweet/dep/advcl:so',\n",
       " '/r/tweet/open/stab',\n",
       " '/r/tweet/open/attend',\n",
       " '/r/tweet/dep/advcl:aboard',\n",
       " '/r/tweet/dep/advcl:given',\n",
       " '/r/tweet/open/protect',\n",
       " '/r/tweet/open/rest',\n",
       " '/r/tweet/dep/nmod:such_as',\n",
       " '/r/tweet/open/translate',\n",
       " '/r/tweet/open/whip',\n",
       " '/r/tweet/open/allow',\n",
       " '/r/tweet/open/charge',\n",
       " '/r/tweet/open/concede',\n",
       " '/r/tweet/open/decide',\n",
       " '/r/tweet/open/file',\n",
       " '/r/tweet/open/hand',\n",
       " '/r/tweet/open/lower',\n",
       " '/r/tweet/open/permit',\n",
       " '/r/tweet/open/place',\n",
       " '/r/tweet/open/ship',\n",
       " '/r/tweet/open/unblock',\n",
       " '/r/tweet/open/voice',\n",
       " '/r/tweet/open/protest',\n",
       " '/r/tweet/open/coast_guard_rescues',\n",
       " '/r/tweet/open/ultimat',\n",
       " '/r/tweet/open/ambush',\n",
       " '/r/tweet/open/attack',\n",
       " '/r/tweet/open/raid',\n",
       " '/r/tweet/open/enhance',\n",
       " '/r/tweet/open/yele',\n",
       " '/r/tweet/open/await',\n",
       " '/r/tweet/dep/advcl:off',\n",
       " '/r/tweet/open/play',\n",
       " '/r/tweet/dep/advcl:beside',\n",
       " '/r/tweet/open/dept',\n",
       " '/r/tweet/open/weigh',\n",
       " '/r/tweet/open/disappear',\n",
       " '/r/tweet/open/spray',\n",
       " '/r/tweet/open/necessitate',\n",
       " '/r/tweet/open/come',\n",
       " '/r/tweet/open/remain',\n",
       " '/r/tweet/open/become',\n",
       " '/r/tweet/dep/nmod:en',\n",
       " '/r/tweet/open/molder',\n",
       " '/r/tweet/open/contradict',\n",
       " '/r/tweet/open/brusb',\n",
       " '/r/tweet/open/authorize',\n",
       " '/r/tweet/open/bet',\n",
       " '/r/tweet/open/favorit',\n",
       " '/r/tweet/open/handle',\n",
       " '/r/tweet/open/hate',\n",
       " '/r/tweet/open/hope',\n",
       " '/r/tweet/open/imagine',\n",
       " '/r/tweet/open/imovie',\n",
       " '/r/tweet/open/like',\n",
       " '/r/tweet/open/live',\n",
       " '/r/tweet/open/lock',\n",
       " '/r/tweet/open/mean',\n",
       " '/r/tweet/open/oust',\n",
       " '/r/tweet/open/piss',\n",
       " '/r/tweet/open/post',\n",
       " '/r/tweet/open/pray',\n",
       " '/r/tweet/open/share',\n",
       " '/r/tweet/open/smell',\n",
       " '/r/tweet/open/talk',\n",
       " '/r/tweet/open/thank',\n",
       " '/r/tweet/open/think',\n",
       " '/r/tweet/open/understand',\n",
       " '/r/tweet/open/upload',\n",
       " '/r/tweet/open/use',\n",
       " '/r/tweet/open/wait',\n",
       " '/r/tweet/open/walk',\n",
       " '/r/tweet/open/want',\n",
       " '/r/tweet/open/witness',\n",
       " '/r/tweet/open/monitor',\n",
       " '/r/tweet/open/foil',\n",
       " '/r/tweet/open/develop',\n",
       " '/r/tweet/open/unearth',\n",
       " '/r/tweet/open/regain',\n",
       " '/r/tweet/open/aid',\n",
       " '/r/tweet/open/condole',\n",
       " '/r/tweet/open/refuse',\n",
       " '/r/tweet/open/_',\n",
       " '/r/tweet/open/ramp',\n",
       " '/r/tweet/open/pelt',\n",
       " '/r/tweet/dep/acl:like',\n",
       " '/r/tweet/open/recommend',\n",
       " '/r/tweet/open/hamper',\n",
       " '/r/tweet/dep/nmod:besides',\n",
       " '/r/tweet/dep/nmod:alongside',\n",
       " '/r/tweet/open/distribute',\n",
       " '/r/tweet/open/access',\n",
       " '/r/tweet/open/believe',\n",
       " '/r/tweet/open/download',\n",
       " '/r/tweet/open/locate',\n",
       " '/r/tweet/open/sign',\n",
       " '/r/tweet/open/clinch',\n",
       " '/r/tweet/open/finalise',\n",
       " '/r/tweet/open/pose',\n",
       " '/r/tweet/dep/nmod:regarding',\n",
       " '/r/tweet/open/amber',\n",
       " '/r/tweet/open/weather',\n",
       " '/r/tweet/open/cash',\n",
       " '/r/tweet/open/explain',\n",
       " '/r/tweet/open/justify',\n",
       " '/r/tweet/open/rain',\n",
       " '/r/tweet/open/stay',\n",
       " '/r/tweet/open/accept',\n",
       " '/r/tweet/open/agree',\n",
       " '/r/tweet/open/guarantee',\n",
       " '/r/tweet/open/inject',\n",
       " '/r/tweet/open/inspect',\n",
       " '/r/tweet/open/lack',\n",
       " '/r/tweet/open/plant',\n",
       " '/r/tweet/open/regret',\n",
       " '/r/tweet/open/restart',\n",
       " '/r/tweet/open/upgrade',\n",
       " '/r/tweet/open/drop',\n",
       " '/r/tweet/open/machine_gun',\n",
       " '/r/tweet/open/auction',\n",
       " '/r/tweet/open/project',\n",
       " '/r/tweet/open/downgrade',\n",
       " '/r/tweet/open/produce',\n",
       " '/r/tweet/open/quote',\n",
       " '/r/tweet/dep/acl:that',\n",
       " '/r/tweet/dep/advcl:over',\n",
       " '/r/tweet/open/assure',\n",
       " '/r/tweet/open/cement',\n",
       " '/r/tweet/open/slit',\n",
       " '/r/tweet/open/stand',\n",
       " '/r/tweet/open/nea',\n",
       " '/r/tweet/open/blanket',\n",
       " '/r/tweet/open/bowl',\n",
       " '/r/tweet/open/stink',\n",
       " '/r/tweet/open/steel_plant_in_central_india_kills',\n",
       " '/r/tweet/open/crumble',\n",
       " '/r/tweet/open/soar',\n",
       " '/r/tweet/dep/nmod:based_on',\n",
       " '/r/tweet/open/imitate',\n",
       " '/r/tweet/open/impose',\n",
       " '/r/tweet/open/cool',\n",
       " '/r/tweet/open/undergo',\n",
       " '/r/tweet/open/shipping_lines_shun',\n",
       " '/r/tweet/open/wear',\n",
       " '/r/tweet/open/gloss',\n",
       " '/r/tweet/dep/acl:about',\n",
       " '/r/tweet/open/focus',\n",
       " '/r/tweet/open/mount_lokon_erupts',\n",
       " '/r/tweet/open/mop',\n",
       " '/r/tweet/open/grip',\n",
       " '/r/tweet/open/control',\n",
       " '/r/tweet/open/pour',\n",
       " '/r/tweet/open/remove',\n",
       " '/r/tweet/open/spawn',\n",
       " '/r/tweet/open/commence',\n",
       " '/r/tweet/open/ignore',\n",
       " '/r/tweet/open/highlight',\n",
       " '/r/tweet/open/indicate',\n",
       " '/r/tweet/open/rake',\n",
       " '/r/tweet/open/chinese_state_media_say',\n",
       " '/r/tweet/open/intensify',\n",
       " '/r/tweet/open/refer',\n",
       " '/r/tweet/open/tout',\n",
       " '/r/tweet/open/w',\n",
       " '/r/tweet/open/grounds',\n",
       " '/r/tweet/dep/neg',\n",
       " '/r/tweet/dep/ref',\n",
       " '/r/tweet/open/condone',\n",
       " '/r/tweet/open/crowd',\n",
       " '/r/tweet/open/deprive',\n",
       " '/r/tweet/open/gaurd',\n",
       " '/r/tweet/open/overrun',\n",
       " '/r/tweet/open/return',\n",
       " '/r/tweet/open/trickle',\n",
       " '/r/tweet/open/spell',\n",
       " '/r/tweet/dep/nmod:worth',\n",
       " '/r/tweet/open/immolate',\n",
       " '/r/tweet/open/splash',\n",
       " '/r/tweet/open/endure',\n",
       " '/r/tweet/open/violate',\n",
       " '/r/tweet/open/part',\n",
       " '/r/tweet/dep/nmod:dead',\n",
       " '/r/tweet/open/spew',\n",
       " '/r/tweet/open/crush',\n",
       " '/r/tweet/open/breathe',\n",
       " '/r/tweet/open/advise',\n",
       " '/r/tweet/open/analyze',\n",
       " '/r/tweet/open/jostle',\n",
       " '/r/tweet/dep/nmod:as_to',\n",
       " '/r/tweet/open/re_open',\n",
       " '/r/tweet/open/challenge',\n",
       " '/r/tweet/dep/nmod:vs.',\n",
       " '/r/tweet/dep/nmod:as_per',\n",
       " '/r/tweet/open/soak',\n",
       " '/r/tweet/dep/nmod:in_addition_to',\n",
       " '/r/tweet/open/acknowledge',\n",
       " '/r/tweet/open/defy',\n",
       " '/r/tweet/open/exchange',\n",
       " '/r/tweet/dep/advcl:through',\n",
       " '/r/tweet/open/dominate',\n",
       " '/r/tweet/dep/advcl:compared_to',\n",
       " '/r/tweet/dep/nmod:except',\n",
       " '/r/tweet/dep/nmod:when',\n",
       " '/r/tweet/open/act',\n",
       " '/r/tweet/open/bat',\n",
       " '/r/tweet/open/bite',\n",
       " '/r/tweet/open/tremble',\n",
       " '/r/tweet/open/thunder',\n",
       " '/r/tweet/open/dispute',\n",
       " '/r/tweet/open/examine',\n",
       " '/r/tweet/open/inform',\n",
       " '/r/tweet/open/trim',\n",
       " '/r/tweet/open/divert',\n",
       " '/r/tweet/open/write',\n",
       " '/r/tweet/open/tie',\n",
       " '/r/tweet/open/india',\n",
       " '/r/tweet/open/apologise',\n",
       " '/r/tweet/open/compensate',\n",
       " '/r/tweet/open/thousand',\n",
       " '/r/tweet/open/flout',\n",
       " '/r/tweet/open/disembark',\n",
       " '/r/tweet/open/unto',\n",
       " '/r/tweet/dep/nmod:atleast',\n",
       " '/r/tweet/open/board',\n",
       " '/r/tweet/open/bullet',\n",
       " '/r/tweet/open/comfirm',\n",
       " '/r/tweet/open/ensue',\n",
       " '/r/tweet/open/flatten',\n",
       " '/r/tweet/open/found',\n",
       " '/r/tweet/open/highland',\n",
       " '/r/tweet/open/homeless',\n",
       " '/r/tweet/open/march',\n",
       " '/r/tweet/open/siphon',\n",
       " '/r/tweet/open/smuggler',\n",
       " '/r/tweet/dep/nmod:except_for',\n",
       " '/r/tweet/open/award',\n",
       " '/r/tweet/open/blast',\n",
       " '/r/tweet/open/carve',\n",
       " '/r/tweet/open/category',\n",
       " '/r/tweet/open/co_pilot',\n",
       " '/r/tweet/open/collect',\n",
       " '/r/tweet/open/condemn',\n",
       " '/r/tweet/open/deport',\n",
       " '/r/tweet/open/discuss',\n",
       " '/r/tweet/open/double',\n",
       " '/r/tweet/open/drench',\n",
       " '/r/tweet/open/hug',\n",
       " '/r/tweet/open/incense',\n",
       " '/r/tweet/open/knoock',\n",
       " '/r/tweet/open/maintain',\n",
       " '/r/tweet/open/negotiate',\n",
       " '/r/tweet/open/oppose',\n",
       " '/r/tweet/open/proclaim',\n",
       " '/r/tweet/open/promise',\n",
       " '/r/tweet/open/prove',\n",
       " '/r/tweet/open/pummel',\n",
       " '/r/tweet/open/purchase',\n",
       " '/r/tweet/open/ratchet',\n",
       " '/r/tweet/open/recount',\n",
       " '/r/tweet/open/sack',\n",
       " '/r/tweet/open/sever',\n",
       " '/r/tweet/open/skip',\n",
       " '/r/tweet/open/speak',\n",
       " '/r/tweet/open/strongest',\n",
       " '/r/tweet/open/survey',\n",
       " '/r/tweet/open/thrash',\n",
       " '/r/tweet/open/tour',\n",
       " '/r/tweet/open/travel',\n",
       " '/r/tweet/open/unleash',\n",
       " '/r/tweet/open/uproot',\n",
       " '/r/tweet/open/vow',\n",
       " '/r/tweet/open/respond',\n",
       " '/r/tweet/open/press',\n",
       " '/r/tweet/open/brace',\n",
       " '/r/tweet/open/allay',\n",
       " '/r/tweet/dep/conj:x',\n",
       " '/r/tweet/open/avert',\n",
       " '/r/tweet/open/range',\n",
       " '/r/tweet/open/try',\n",
       " '/r/tweet/open/rupture',\n",
       " '/r/tweet/open/spilling',\n",
       " '/r/tweet/open/riad',\n",
       " '/r/tweet/open/stray',\n",
       " '/r/tweet/open/transport',\n",
       " '/r/tweet/open/drift',\n",
       " '/r/tweet/open/reassure',\n",
       " '/r/tweet/open/dash',\n",
       " '/r/tweet/open/score',\n",
       " '/r/tweet/open/process',\n",
       " '/r/tweet/open/revise',\n",
       " '/r/tweet/open/slow',\n",
       " ...]"
      ]
     },
     "execution_count": 209,
     "metadata": {},
     "output_type": "execute_result"
    }
   ],
   "source": [
    "list(triples_count_filter.rel.unique())"
   ]
  },
  {
   "cell_type": "code",
   "execution_count": 210,
   "metadata": {
    "collapsed": false
   },
   "outputs": [
    {
     "data": {
      "text/plain": [
       "1"
      ]
     },
     "execution_count": 210,
     "metadata": {},
     "output_type": "execute_result"
    }
   ],
   "source": [
    "len([\n",
    "    '/r/tweet/IsA'\n",
    "])"
   ]
  },
  {
   "cell_type": "code",
   "execution_count": null,
   "metadata": {
    "collapsed": true
   },
   "outputs": [],
   "source": []
  }
 ],
 "metadata": {
  "kernelspec": {
   "display_name": "Python 3",
   "language": "python",
   "name": "python3"
  },
  "language_info": {
   "codemirror_mode": {
    "name": "ipython",
    "version": 3
   },
   "file_extension": ".py",
   "mimetype": "text/x-python",
   "name": "python",
   "nbconvert_exporter": "python",
   "pygments_lexer": "ipython3",
   "version": "3.6.4"
  }
 },
 "nbformat": 4,
 "nbformat_minor": 2
}
