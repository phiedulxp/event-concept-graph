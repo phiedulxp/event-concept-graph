{
 "cells": [
  {
   "cell_type": "code",
   "execution_count": 1,
   "metadata": {
    "collapsed": true
   },
   "outputs": [],
   "source": [
    "import pandas as pd"
   ]
  },
  {
   "cell_type": "code",
   "execution_count": 5,
   "metadata": {
    "collapsed": false
   },
   "outputs": [
    {
     "name": "stderr",
     "output_type": "stream",
     "text": [
      "D:\\Anaconda3\\lib\\site-packages\\ipykernel\\__main__.py:1: FutureWarning: from_csv is deprecated. Please use read_csv(...) instead. Note that some of the default arguments are different, so please refer to the documentation for from_csv when changing your function calls\n",
      "  if __name__ == '__main__':\n"
     ]
    }
   ],
   "source": [
    "triples = pd.DataFrame.from_csv('./triples-0.csv',index_col=None)"
   ]
  },
  {
   "cell_type": "code",
   "execution_count": 6,
   "metadata": {
    "collapsed": false
   },
   "outputs": [
    {
     "data": {
      "text/html": [
       "<div>\n",
       "<style scoped>\n",
       "    .dataframe tbody tr th:only-of-type {\n",
       "        vertical-align: middle;\n",
       "    }\n",
       "\n",
       "    .dataframe tbody tr th {\n",
       "        vertical-align: top;\n",
       "    }\n",
       "\n",
       "    .dataframe thead th {\n",
       "        text-align: right;\n",
       "    }\n",
       "</style>\n",
       "<table border=\"1\" class=\"dataframe\">\n",
       "  <thead>\n",
       "    <tr style=\"text-align: right;\">\n",
       "      <th></th>\n",
       "      <th>head</th>\n",
       "      <th>rel</th>\n",
       "      <th>tail</th>\n",
       "    </tr>\n",
       "  </thead>\n",
       "  <tbody>\n",
       "    <tr>\n",
       "      <th>0</th>\n",
       "      <td>/c/en/hurricane</td>\n",
       "      <td>/r/tweet/IsA</td>\n",
       "      <td>/c/en/cause_of_death</td>\n",
       "    </tr>\n",
       "    <tr>\n",
       "      <th>1</th>\n",
       "      <td>/c/en/hurricane</td>\n",
       "      <td>/r/tweet/IsA</td>\n",
       "      <td>/c/en/cause_of_death</td>\n",
       "    </tr>\n",
       "    <tr>\n",
       "      <th>2</th>\n",
       "      <td>/c/en/atlantic</td>\n",
       "      <td>/r/tweet/IsA</td>\n",
       "      <td>/c/en/location</td>\n",
       "    </tr>\n",
       "    <tr>\n",
       "      <th>3</th>\n",
       "      <td>/c/en/hurricane</td>\n",
       "      <td>/r/tweet/IsA</td>\n",
       "      <td>/c/en/cause_of_death</td>\n",
       "    </tr>\n",
       "    <tr>\n",
       "      <th>4</th>\n",
       "      <td>/c/en/mexico</td>\n",
       "      <td>/r/tweet/IsA</td>\n",
       "      <td>/c/en/country</td>\n",
       "    </tr>\n",
       "  </tbody>\n",
       "</table>\n",
       "</div>"
      ],
      "text/plain": [
       "              head           rel                  tail\n",
       "0  /c/en/hurricane  /r/tweet/IsA  /c/en/cause_of_death\n",
       "1  /c/en/hurricane  /r/tweet/IsA  /c/en/cause_of_death\n",
       "2   /c/en/atlantic  /r/tweet/IsA        /c/en/location\n",
       "3  /c/en/hurricane  /r/tweet/IsA  /c/en/cause_of_death\n",
       "4     /c/en/mexico  /r/tweet/IsA         /c/en/country"
      ]
     },
     "execution_count": 6,
     "metadata": {},
     "output_type": "execute_result"
    }
   ],
   "source": [
    "triples.head()"
   ]
  },
  {
   "cell_type": "code",
   "execution_count": 7,
   "metadata": {
    "collapsed": false
   },
   "outputs": [
    {
     "data": {
      "text/plain": [
       "head    3048851\n",
       "rel     3048851\n",
       "tail    3048851\n",
       "dtype: int64"
      ]
     },
     "execution_count": 7,
     "metadata": {},
     "output_type": "execute_result"
    }
   ],
   "source": [
    "triples.count()"
   ]
  },
  {
   "cell_type": "code",
   "execution_count": 10,
   "metadata": {
    "collapsed": true
   },
   "outputs": [],
   "source": [
    "triples['triple'] = triples['head']+','+triples['rel']+','+triples['tail']"
   ]
  },
  {
   "cell_type": "code",
   "execution_count": 11,
   "metadata": {
    "collapsed": false
   },
   "outputs": [
    {
     "data": {
      "text/html": [
       "<div>\n",
       "<style scoped>\n",
       "    .dataframe tbody tr th:only-of-type {\n",
       "        vertical-align: middle;\n",
       "    }\n",
       "\n",
       "    .dataframe tbody tr th {\n",
       "        vertical-align: top;\n",
       "    }\n",
       "\n",
       "    .dataframe thead th {\n",
       "        text-align: right;\n",
       "    }\n",
       "</style>\n",
       "<table border=\"1\" class=\"dataframe\">\n",
       "  <thead>\n",
       "    <tr style=\"text-align: right;\">\n",
       "      <th></th>\n",
       "      <th>head</th>\n",
       "      <th>rel</th>\n",
       "      <th>tail</th>\n",
       "      <th>triple</th>\n",
       "    </tr>\n",
       "  </thead>\n",
       "  <tbody>\n",
       "    <tr>\n",
       "      <th>0</th>\n",
       "      <td>/c/en/hurricane</td>\n",
       "      <td>/r/tweet/IsA</td>\n",
       "      <td>/c/en/cause_of_death</td>\n",
       "      <td>/c/en/hurricane,/r/tweet/IsA,/c/en/cause_of_death</td>\n",
       "    </tr>\n",
       "    <tr>\n",
       "      <th>1</th>\n",
       "      <td>/c/en/hurricane</td>\n",
       "      <td>/r/tweet/IsA</td>\n",
       "      <td>/c/en/cause_of_death</td>\n",
       "      <td>/c/en/hurricane,/r/tweet/IsA,/c/en/cause_of_death</td>\n",
       "    </tr>\n",
       "    <tr>\n",
       "      <th>2</th>\n",
       "      <td>/c/en/atlantic</td>\n",
       "      <td>/r/tweet/IsA</td>\n",
       "      <td>/c/en/location</td>\n",
       "      <td>/c/en/atlantic,/r/tweet/IsA,/c/en/location</td>\n",
       "    </tr>\n",
       "    <tr>\n",
       "      <th>3</th>\n",
       "      <td>/c/en/hurricane</td>\n",
       "      <td>/r/tweet/IsA</td>\n",
       "      <td>/c/en/cause_of_death</td>\n",
       "      <td>/c/en/hurricane,/r/tweet/IsA,/c/en/cause_of_death</td>\n",
       "    </tr>\n",
       "    <tr>\n",
       "      <th>4</th>\n",
       "      <td>/c/en/mexico</td>\n",
       "      <td>/r/tweet/IsA</td>\n",
       "      <td>/c/en/country</td>\n",
       "      <td>/c/en/mexico,/r/tweet/IsA,/c/en/country</td>\n",
       "    </tr>\n",
       "  </tbody>\n",
       "</table>\n",
       "</div>"
      ],
      "text/plain": [
       "              head           rel                  tail  \\\n",
       "0  /c/en/hurricane  /r/tweet/IsA  /c/en/cause_of_death   \n",
       "1  /c/en/hurricane  /r/tweet/IsA  /c/en/cause_of_death   \n",
       "2   /c/en/atlantic  /r/tweet/IsA        /c/en/location   \n",
       "3  /c/en/hurricane  /r/tweet/IsA  /c/en/cause_of_death   \n",
       "4     /c/en/mexico  /r/tweet/IsA         /c/en/country   \n",
       "\n",
       "                                              triple  \n",
       "0  /c/en/hurricane,/r/tweet/IsA,/c/en/cause_of_death  \n",
       "1  /c/en/hurricane,/r/tweet/IsA,/c/en/cause_of_death  \n",
       "2         /c/en/atlantic,/r/tweet/IsA,/c/en/location  \n",
       "3  /c/en/hurricane,/r/tweet/IsA,/c/en/cause_of_death  \n",
       "4            /c/en/mexico,/r/tweet/IsA,/c/en/country  "
      ]
     },
     "execution_count": 11,
     "metadata": {},
     "output_type": "execute_result"
    }
   ],
   "source": [
    "triples.head()"
   ]
  },
  {
   "cell_type": "code",
   "execution_count": 12,
   "metadata": {
    "collapsed": false
   },
   "outputs": [
    {
     "data": {
      "text/plain": [
       "3048851"
      ]
     },
     "execution_count": 12,
     "metadata": {},
     "output_type": "execute_result"
    }
   ],
   "source": [
    "triples.triple.count()"
   ]
  },
  {
   "cell_type": "code",
   "execution_count": 13,
   "metadata": {
    "collapsed": false
   },
   "outputs": [
    {
     "data": {
      "text/plain": [
       "count                                           3048851\n",
       "unique                                          1030940\n",
       "top       /c/en/number,/r/tweet/dep/nummod,/c/en/people\n",
       "freq                                              36019\n",
       "Name: triple, dtype: object"
      ]
     },
     "execution_count": 13,
     "metadata": {},
     "output_type": "execute_result"
    }
   ],
   "source": [
    "triples.triple.describe()"
   ]
  },
  {
   "cell_type": "code",
   "execution_count": 63,
   "metadata": {
    "collapsed": false
   },
   "outputs": [
    {
     "data": {
      "text/plain": [
       "0    False\n",
       "1     True\n",
       "2    False\n",
       "3     True\n",
       "4    False\n",
       "Name: triple, dtype: bool"
      ]
     },
     "execution_count": 63,
     "metadata": {},
     "output_type": "execute_result"
    }
   ],
   "source": [
    "triples.triple.duplicated().head()"
   ]
  },
  {
   "cell_type": "code",
   "execution_count": 64,
   "metadata": {
    "collapsed": false
   },
   "outputs": [
    {
     "data": {
      "text/plain": [
       "0    49\n",
       "1    49\n",
       "2    42\n",
       "3    49\n",
       "4    39\n",
       "5    49\n",
       "6    49\n",
       "7    48\n",
       "8    48\n",
       "9    40\n",
       "Name: triple, dtype: int64"
      ]
     },
     "execution_count": 64,
     "metadata": {},
     "output_type": "execute_result"
    }
   ],
   "source": [
    "triples.triple.str.len()[:10]"
   ]
  },
  {
   "cell_type": "code",
   "execution_count": 65,
   "metadata": {
    "collapsed": false
   },
   "outputs": [
    {
     "data": {
      "text/plain": [
       "triple\n",
       "/c/en/!!!!!,/r/tweet/dep/advmod,/c/en/go         1\n",
       "/c/en/!!!!!,/r/tweet/dep/ccomp,/c/en/find        1\n",
       "/c/en/!!!!!,/r/tweet/dep/nmod:of,/c/en/member    1\n",
       "/c/en/!!!!!,/r/tweet/dep/xcomp,/c/en/make        1\n",
       "/c/en/!!!!,/r/tweet/dep/advmod,/c/en/go          1\n",
       "/c/en/!!!!,/r/tweet/dep/dobj,/c/en/catch         1\n",
       "/c/en/!!!,/r/tweet/dep/acl:relcl,/c/en/press     1\n",
       "/c/en/!!!,/r/tweet/dep/advcl:if,/c/en/wonder     1\n",
       "/c/en/!!!,/r/tweet/dep/advmod,/c/en/abcnew       1\n",
       "/c/en/!!!,/r/tweet/dep/advmod,/c/en/get          1\n",
       "dtype: int64"
      ]
     },
     "execution_count": 65,
     "metadata": {},
     "output_type": "execute_result"
    }
   ],
   "source": [
    "triples.groupby('triple').size()[:10]"
   ]
  },
  {
   "cell_type": "code",
   "execution_count": 66,
   "metadata": {
    "collapsed": true
   },
   "outputs": [],
   "source": [
    "triple_count = triples.groupby('triple').size()"
   ]
  },
  {
   "cell_type": "code",
   "execution_count": 67,
   "metadata": {
    "collapsed": false
   },
   "outputs": [
    {
     "data": {
      "text/plain": [
       "triple\n",
       "/c/en/!!!!!,/r/tweet/dep/advmod,/c/en/go         1\n",
       "/c/en/!!!!!,/r/tweet/dep/ccomp,/c/en/find        1\n",
       "/c/en/!!!!!,/r/tweet/dep/nmod:of,/c/en/member    1\n",
       "/c/en/!!!!!,/r/tweet/dep/xcomp,/c/en/make        1\n",
       "/c/en/!!!!,/r/tweet/dep/advmod,/c/en/go          1\n",
       "dtype: int64"
      ]
     },
     "execution_count": 67,
     "metadata": {},
     "output_type": "execute_result"
    }
   ],
   "source": [
    "triple_count.head()"
   ]
  },
  {
   "cell_type": "code",
   "execution_count": 68,
   "metadata": {
    "collapsed": true
   },
   "outputs": [],
   "source": [
    "%matplotlib inline"
   ]
  },
  {
   "cell_type": "code",
   "execution_count": 69,
   "metadata": {
    "collapsed": false
   },
   "outputs": [
    {
     "data": {
      "text/plain": [
       "<matplotlib.axes._subplots.AxesSubplot at 0x1df85e9e588>"
      ]
     },
     "execution_count": 69,
     "metadata": {},
     "output_type": "execute_result"
    },
    {
     "data": {
      "image/png": "[encoded data removed]",
      "text/plain": [
       "<matplotlib.figure.Figure at 0x1df85e41080>"
      ]
     },
     "metadata": {},
     "output_type": "display_data"
    }
   ],
   "source": [
    "triple_count.plot()"
   ]
  },
  {
   "cell_type": "code",
   "execution_count": 70,
   "metadata": {
    "collapsed": false,
    "scrolled": true
   },
   "outputs": [
    {
     "data": {
      "text/plain": [
       "triple\n",
       "/c/en/!!!!!,/r/tweet/dep/advmod,/c/en/go                              1\n",
       "/c/en/maya_maya_airport,/r/tweet/IsA,/c/en/location                   1\n",
       "/c/en/maya_maya_airport,/r/tweet/dep/nmod:near,/c/en/house            1\n",
       "/c/en/mayaer,/r/tweet/dep/compound,/c/en/landrut                      1\n",
       "/c/en/mayak,/r/tweet/dep/compound,/c/en/complex                       1\n",
       "/c/en/mayanmar,/r/tweet/dep/nmod:in,/c/en/kill                        1\n",
       "/c/en/mayanorton,/r/tweet/dep/nmod:of,/c/en/honor                     1\n",
       "/c/en/mayans,/r/tweet/dep/nsubj,/c/en/!!!                             1\n",
       "/c/en/mayapur,/r/tweet/dep/nsubjpass,/c/en/locate                     1\n",
       "/c/en/mayar,/r/tweet/IsA,/c/en/location                               1\n",
       "/c/en/maya,/r/tweet/dep/nmod:on,/c/en/make                            1\n",
       "/c/en/mayar,/r/tweet/dep/compound,/c/en/river                         1\n",
       "/c/en/mayaro,/r/tweet/dep/compound,/c/en/naparima__mayaro_road        1\n",
       "/c/en/mayavarathaan,/r/tweet/dep/compound,/c/en/collapse              1\n",
       "/c/en/mayb,/r/tweet/dep/advmod,/c/en/morgue                           1\n",
       "/c/en/mayb,/r/tweet/dep/compound,/c/en/not                            1\n",
       "/c/en/mayb,/r/tweet/dep/compound,/c/en/ppl                            1\n",
       "/c/en/maybe,/r/tweet/dep/advmod,/c/en/@nat_geo_boobies                1\n",
       "/c/en/maybe,/r/tweet/dep/advmod,/c/en/abcnew                          1\n",
       "/c/en/maybe,/r/tweet/dep/advmod,/c/en/abq                             1\n",
       "/c/en/maybe,/r/tweet/dep/advmod,/c/en/affect                          1\n",
       "/c/en/mayareizen,/r/tweet/dep/compound,/c/en/million                  1\n",
       "/c/en/maybe,/r/tweet/dep/advmod,/c/en/appear                          1\n",
       "/c/en/maya,/r/tweet/dep/nmod:of,/c/en/sand                            1\n",
       "/c/en/take,/r/tweet/dep/nmod:for,/c/en/taxi                           1\n",
       "/c/en/take,/r/tweet/dep/nmod:into,/c/en/carry                         1\n",
       "/c/en/take,/r/tweet/dep/nmod:in,/c/en/floods                          1\n",
       "/c/en/may,/r/tweet/dep/nsubj,/c/en/kill                               1\n",
       "/c/en/may,/r/tweet/dep/nsubj,/c/en/number                             1\n",
       "/c/en/may,/r/tweet/dep/nsubj,/c/en/oh                                 1\n",
       "                                                                  ...  \n",
       "/c/en/us,/r/tweet/IsA,/c/en/country                                4075\n",
       "/c/en/flood,/r/tweet/IsA,/c/en/cause_of_death                      4384\n",
       "/c/en/toll,/r/tweet/dep/nsubj,/c/en/rise                           4512\n",
       "/c/en/mexico,/r/tweet/IsA,/c/en/country                            4535\n",
       "/c/en/river,/r/tweet/IsA,/c/en/title                               4696\n",
       "/c/en/people,/r/tweet/dep/nsubj,/c/en/die                          4773\n",
       "/c/en/accident,/r/tweet/IsA,/c/en/cause_of_death                   4788\n",
       "/c/en/indonesia,/r/tweet/IsA,/c/en/country                         4993\n",
       "/c/en/philippines,/r/tweet/IsA,/c/en/country                       5110\n",
       "/c/en/kill,/r/tweet/dep/acl,/c/en/number                           5326\n",
       "/c/en/pakistan,/r/tweet/IsA,/c/en/country                          5451\n",
       "/c/en/people,/r/tweet/dep/dobj,/c/en/kill                          6120\n",
       "/c/en/explosion,/r/tweet/IsA,/c/en/cause_of_death                  6569\n",
       "/c/en/hurricane,/r/tweet/IsA,/c/en/cause_of_death                  6617\n",
       "/c/en/people,/r/tweet/dep/nsubjpass,/c/en/kill                     6656\n",
       "/c/en/india,/r/tweet/IsA,/c/en/country                             6721\n",
       "/c/en/train,/r/tweet/IsA,/c/en/criminal_charge                     6747\n",
       "/c/en/number,/r/tweet/dep/nummod,/c/en/dead                        6811\n",
       "/c/en/crashes,/r/tweet/IsA,/c/en/cause_of_death                    6880\n",
       "/c/en/japan,/r/tweet/IsA,/c/en/country                             7096\n",
       "/c/en/death,/r/tweet/dep/compound,/c/en/toll                       9134\n",
       "/c/en/storm,/r/tweet/IsA,/c/en/cause_of_death                      9778\n",
       "/c/en/number,/r/tweet/dep/dobj,/c/en/kill                          9980\n",
       "/c/en/floods,/r/tweet/IsA,/c/en/cause_of_death                    10416\n",
       "/c/en/crash,/r/tweet/IsA,/c/en/cause_of_death                     10834\n",
       "/c/en/earthquake,/r/tweet/IsA,/c/en/cause_of_death                12708\n",
       "/c/en/china,/r/tweet/IsA,/c/en/country                            12971\n",
       "/c/en/fire,/r/tweet/IsA,/c/en/cause_of_death                      17570\n",
       "/c/en/least,/r/tweet/dep/nmod:npmod,/c/en/number                  24522\n",
       "/c/en/number,/r/tweet/dep/nummod,/c/en/people                     36019\n",
       "Length: 1030940, dtype: int64"
      ]
     },
     "execution_count": 70,
     "metadata": {},
     "output_type": "execute_result"
    }
   ],
   "source": [
    "triple_count.sort_values()"
   ]
  },
  {
   "cell_type": "code",
   "execution_count": 71,
   "metadata": {
    "collapsed": true
   },
   "outputs": [],
   "source": [
    "import numpy as np"
   ]
  },
  {
   "cell_type": "code",
   "execution_count": 72,
   "metadata": {
    "collapsed": false
   },
   "outputs": [
    {
     "data": {
      "text/plain": [
       "1       789837\n",
       "2       108189\n",
       "3        41307\n",
       "4        22052\n",
       "5        14006\n",
       "6         9597\n",
       "7         6843\n",
       "8         5310\n",
       "9         4175\n",
       "10        3183\n",
       "11        2597\n",
       "12        2177\n",
       "13        1889\n",
       "14        1535\n",
       "15        1394\n",
       "16        1205\n",
       "17        1028\n",
       "18         903\n",
       "19         841\n",
       "20         754\n",
       "21         704\n",
       "22         576\n",
       "23         538\n",
       "25         471\n",
       "24         456\n",
       "26         440\n",
       "27         367\n",
       "28         364\n",
       "30         319\n",
       "29         312\n",
       "         ...  \n",
       "274          1\n",
       "1298         1\n",
       "1811         1\n",
       "790          1\n",
       "792          1\n",
       "3864         1\n",
       "282          1\n",
       "795          1\n",
       "2332         1\n",
       "285          1\n",
       "798          1\n",
       "1823         1\n",
       "4384         1\n",
       "294          1\n",
       "809          1\n",
       "810          1\n",
       "812          1\n",
       "1326         1\n",
       "815          1\n",
       "816          1\n",
       "817          1\n",
       "310          1\n",
       "311          1\n",
       "314          1\n",
       "828          1\n",
       "318          1\n",
       "830          1\n",
       "1855         1\n",
       "833          1\n",
       "512          1\n",
       "Length: 747, dtype: int64"
      ]
     },
     "execution_count": 72,
     "metadata": {},
     "output_type": "execute_result"
    }
   ],
   "source": [
    "triple_count.value_counts()"
   ]
  },
  {
   "cell_type": "code",
   "execution_count": 73,
   "metadata": {
    "collapsed": false
   },
   "outputs": [
    {
     "data": {
      "text/plain": [
       "<matplotlib.axes._subplots.AxesSubplot at 0x1df85e417f0>"
      ]
     },
     "execution_count": 73,
     "metadata": {},
     "output_type": "execute_result"
    },
    {
     "data": {
      "image/png": "[encoded data removed]",
      "text/plain": [
       "<matplotlib.figure.Figure at 0x1df91516908>"
      ]
     },
     "metadata": {},
     "output_type": "display_data"
    }
   ],
   "source": [
    "triple_count.value_counts().apply(np.log).plot()"
   ]
  },
  {
   "cell_type": "code",
   "execution_count": 32,
   "metadata": {
    "collapsed": false,
    "scrolled": true
   },
   "outputs": [
    {
     "name": "stdout",
     "output_type": "stream",
     "text": [
      "/c/en/!!!!!,/r/tweet/dep/advmod,/c/en/go\n",
      "                head                  rel      tail  \\\n",
      "2324954  /c/en/!!!!!  /r/tweet/dep/advmod  /c/en/go   \n",
      "\n",
      "                                           triple  \n",
      "2324954  /c/en/!!!!!,/r/tweet/dep/advmod,/c/en/go  \n"
     ]
    }
   ],
   "source": [
    "for name,group in triples.groupby('triple'):\n",
    "    print(name)\n",
    "    print(group)\n",
    "    break"
   ]
  },
  {
   "cell_type": "code",
   "execution_count": 74,
   "metadata": {
    "collapsed": true
   },
   "outputs": [],
   "source": [
    "triples_count = pd.DataFrame()"
   ]
  },
  {
   "cell_type": "code",
   "execution_count": 76,
   "metadata": {
    "collapsed": false
   },
   "outputs": [],
   "source": [
    "triples_count['triple'] = triple_count.keys()"
   ]
  },
  {
   "cell_type": "code",
   "execution_count": 79,
   "metadata": {
    "collapsed": false
   },
   "outputs": [],
   "source": [
    "triples_count['triple_count'] = triple_count.values"
   ]
  },
  {
   "cell_type": "code",
   "execution_count": 81,
   "metadata": {
    "collapsed": true
   },
   "outputs": [],
   "source": [
    "triples_count['start'] = triples_count.triple.apply(lambda x:x.split(',')[0])\n",
    "triples_count['rel'] = triples_count.triple.apply(lambda x:x.split(',')[1])\n",
    "triples_count['end'] = triples_count.triple.apply(lambda x:x.split(',')[2])"
   ]
  },
  {
   "cell_type": "code",
   "execution_count": 83,
   "metadata": {
    "collapsed": false
   },
   "outputs": [
    {
     "data": {
      "text/plain": [
       "1030940"
      ]
     },
     "execution_count": 83,
     "metadata": {},
     "output_type": "execute_result"
    }
   ],
   "source": [
    "len(triples_count)"
   ]
  },
  {
   "cell_type": "code",
   "execution_count": 86,
   "metadata": {
    "collapsed": true
   },
   "outputs": [],
   "source": [
    "triples_count['weight'] = triples_count.triple_count.apply(lambda x:x/1030940)"
   ]
  },
  {
   "cell_type": "code",
   "execution_count": 87,
   "metadata": {
    "collapsed": false
   },
   "outputs": [
    {
     "data": {
      "text/html": [
       "<div>\n",
       "<style scoped>\n",
       "    .dataframe tbody tr th:only-of-type {\n",
       "        vertical-align: middle;\n",
       "    }\n",
       "\n",
       "    .dataframe tbody tr th {\n",
       "        vertical-align: top;\n",
       "    }\n",
       "\n",
       "    .dataframe thead th {\n",
       "        text-align: right;\n",
       "    }\n",
       "</style>\n",
       "<table border=\"1\" class=\"dataframe\">\n",
       "  <thead>\n",
       "    <tr style=\"text-align: right;\">\n",
       "      <th></th>\n",
       "      <th>triple</th>\n",
       "      <th>triple_count</th>\n",
       "      <th>start</th>\n",
       "      <th>rel</th>\n",
       "      <th>end</th>\n",
       "      <th>weight</th>\n",
       "    </tr>\n",
       "  </thead>\n",
       "  <tbody>\n",
       "    <tr>\n",
       "      <th>0</th>\n",
       "      <td>/c/en/!!!!!,/r/tweet/dep/advmod,/c/en/go</td>\n",
       "      <td>1</td>\n",
       "      <td>/c/en/!!!!!</td>\n",
       "      <td>/r/tweet/dep/advmod</td>\n",
       "      <td>/c/en/go</td>\n",
       "      <td>9.699886e-07</td>\n",
       "    </tr>\n",
       "    <tr>\n",
       "      <th>1</th>\n",
       "      <td>/c/en/!!!!!,/r/tweet/dep/ccomp,/c/en/find</td>\n",
       "      <td>1</td>\n",
       "      <td>/c/en/!!!!!</td>\n",
       "      <td>/r/tweet/dep/ccomp</td>\n",
       "      <td>/c/en/find</td>\n",
       "      <td>9.699886e-07</td>\n",
       "    </tr>\n",
       "    <tr>\n",
       "      <th>2</th>\n",
       "      <td>/c/en/!!!!!,/r/tweet/dep/nmod:of,/c/en/member</td>\n",
       "      <td>1</td>\n",
       "      <td>/c/en/!!!!!</td>\n",
       "      <td>/r/tweet/dep/nmod:of</td>\n",
       "      <td>/c/en/member</td>\n",
       "      <td>9.699886e-07</td>\n",
       "    </tr>\n",
       "    <tr>\n",
       "      <th>3</th>\n",
       "      <td>/c/en/!!!!!,/r/tweet/dep/xcomp,/c/en/make</td>\n",
       "      <td>1</td>\n",
       "      <td>/c/en/!!!!!</td>\n",
       "      <td>/r/tweet/dep/xcomp</td>\n",
       "      <td>/c/en/make</td>\n",
       "      <td>9.699886e-07</td>\n",
       "    </tr>\n",
       "    <tr>\n",
       "      <th>4</th>\n",
       "      <td>/c/en/!!!!,/r/tweet/dep/advmod,/c/en/go</td>\n",
       "      <td>1</td>\n",
       "      <td>/c/en/!!!!</td>\n",
       "      <td>/r/tweet/dep/advmod</td>\n",
       "      <td>/c/en/go</td>\n",
       "      <td>9.699886e-07</td>\n",
       "    </tr>\n",
       "  </tbody>\n",
       "</table>\n",
       "</div>"
      ],
      "text/plain": [
       "                                          triple  triple_count        start  \\\n",
       "0       /c/en/!!!!!,/r/tweet/dep/advmod,/c/en/go             1  /c/en/!!!!!   \n",
       "1      /c/en/!!!!!,/r/tweet/dep/ccomp,/c/en/find             1  /c/en/!!!!!   \n",
       "2  /c/en/!!!!!,/r/tweet/dep/nmod:of,/c/en/member             1  /c/en/!!!!!   \n",
       "3      /c/en/!!!!!,/r/tweet/dep/xcomp,/c/en/make             1  /c/en/!!!!!   \n",
       "4        /c/en/!!!!,/r/tweet/dep/advmod,/c/en/go             1   /c/en/!!!!   \n",
       "\n",
       "                    rel           end        weight  \n",
       "0   /r/tweet/dep/advmod      /c/en/go  9.699886e-07  \n",
       "1    /r/tweet/dep/ccomp    /c/en/find  9.699886e-07  \n",
       "2  /r/tweet/dep/nmod:of  /c/en/member  9.699886e-07  \n",
       "3    /r/tweet/dep/xcomp    /c/en/make  9.699886e-07  \n",
       "4   /r/tweet/dep/advmod      /c/en/go  9.699886e-07  "
      ]
     },
     "execution_count": 87,
     "metadata": {},
     "output_type": "execute_result"
    }
   ],
   "source": [
    "triples_count.head()"
   ]
  },
  {
   "cell_type": "code",
   "execution_count": 107,
   "metadata": {
    "collapsed": true
   },
   "outputs": [],
   "source": [
    "vocabs = list(triples_count.start.map(lambda x:x.split('/')[-1])) + list(triples_count.end.map(lambda x:x.split('/')[-1]))"
   ]
  },
  {
   "cell_type": "raw",
   "metadata": {},
   "source": [
    "vocabs = pd.concat([triples_count.start.map(lambda x:x.split('/')[-1]),triples_count.end.map(lambda x:x.split('/')[-1])])"
   ]
  },
  {
   "cell_type": "code",
   "execution_count": 108,
   "metadata": {
    "collapsed": true
   },
   "outputs": [],
   "source": [
    "from collections import Counter\n",
    "\n",
    "vocabs_count = Counter(vocabs)\n",
    "\n",
    "vocabs_count"
   ]
  },
  {
   "cell_type": "code",
   "execution_count": 113,
   "metadata": {
    "collapsed": true
   },
   "outputs": [],
   "source": [
    "import string\n",
    "\n",
    "string.digits\n",
    "\n",
    "string.punctuation.replace('_','')"
   ]
  },
  {
   "cell_type": "code",
   "execution_count": 122,
   "metadata": {
    "collapsed": true
   },
   "outputs": [],
   "source": [
    "punct = string.punctuation.replace('_','')"
   ]
  },
  {
   "cell_type": "code",
   "execution_count": 123,
   "metadata": {
    "collapsed": false
   },
   "outputs": [
    {
     "data": {
      "text/plain": [
       "'!\"#$%&\\'()*+,-./:;<=>?@[\\\\]^`{|}~'"
      ]
     },
     "execution_count": 123,
     "metadata": {},
     "output_type": "execute_result"
    }
   ],
   "source": [
    "punct"
   ]
  },
  {
   "cell_type": "code",
   "execution_count": 176,
   "metadata": {
    "collapsed": true
   },
   "outputs": [],
   "source": [
    "punct_re = '[!\"#$%&\\'()*+,-.:;<=>?@【[\\\\] ^`{|}~0-9]'"
   ]
  },
  {
   "cell_type": "code",
   "execution_count": 177,
   "metadata": {
    "collapsed": false
   },
   "outputs": [],
   "source": [
    "punct_filter = (triples_count.start.str.findall(punct_re).map(lambda x:len(x))+\\\n",
    "                triples_count.end.str.findall(punct_re).map(lambda x:len(x))).map(lambda x:False if x>0 else True)"
   ]
  },
  {
   "cell_type": "code",
   "execution_count": 178,
   "metadata": {
    "collapsed": false
   },
   "outputs": [
    {
     "data": {
      "text/plain": [
       "0          False\n",
       "1          False\n",
       "2          False\n",
       "3          False\n",
       "4          False\n",
       "5          False\n",
       "6          False\n",
       "7          False\n",
       "8          False\n",
       "9          False\n",
       "10         False\n",
       "11         False\n",
       "12         False\n",
       "13         False\n",
       "14         False\n",
       "15         False\n",
       "16         False\n",
       "17         False\n",
       "18         False\n",
       "19         False\n",
       "20         False\n",
       "21         False\n",
       "22         False\n",
       "23         False\n",
       "24         False\n",
       "25         False\n",
       "26         False\n",
       "27         False\n",
       "28         False\n",
       "29         False\n",
       "           ...  \n",
       "1030910    False\n",
       "1030911    False\n",
       "1030912    False\n",
       "1030913    False\n",
       "1030914    False\n",
       "1030915    False\n",
       "1030916    False\n",
       "1030917    False\n",
       "1030918    False\n",
       "1030919    False\n",
       "1030920    False\n",
       "1030921    False\n",
       "1030922    False\n",
       "1030923    False\n",
       "1030924    False\n",
       "1030925    False\n",
       "1030926    False\n",
       "1030927    False\n",
       "1030928    False\n",
       "1030929    False\n",
       "1030930    False\n",
       "1030931    False\n",
       "1030932    False\n",
       "1030933    False\n",
       "1030934    False\n",
       "1030935    False\n",
       "1030936    False\n",
       "1030937    False\n",
       "1030938     True\n",
       "1030939    False\n",
       "Length: 1030940, dtype: bool"
      ]
     },
     "execution_count": 178,
     "metadata": {},
     "output_type": "execute_result"
    }
   ],
   "source": [
    "punct_filter"
   ]
  },
  {
   "cell_type": "code",
   "execution_count": 195,
   "metadata": {
    "collapsed": false
   },
   "outputs": [
    {
     "name": "stderr",
     "output_type": "stream",
     "text": [
      "D:\\Anaconda3\\lib\\site-packages\\pandas\\core\\computation\\expressions.py:179: UserWarning: evaluating in Python space because the '+' operator is not supported by numexpr for the bool dtype, use '|' instead\n",
      "  .format(op=op_str, alt_op=unsupported[op_str]))\n"
     ]
    }
   ],
   "source": [
    "punct_filter2 = triples_count.start.map(lambda x: x.split('/')[-1] not in string.punctuation)+triples_count.end.map(lambda x: x.split('/')[-1] not in string.punctuation)"
   ]
  },
  {
   "cell_type": "code",
   "execution_count": 198,
   "metadata": {
    "collapsed": false
   },
   "outputs": [
    {
     "name": "stderr",
     "output_type": "stream",
     "text": [
      "D:\\Anaconda3\\lib\\site-packages\\ipykernel\\__main__.py:1: UserWarning: Boolean Series key will be reindexed to match DataFrame index.\n",
      "  if __name__ == '__main__':\n"
     ]
    }
   ],
   "source": [
    "triples_count_filter = triples_count[triples_count.triple_count > 1][punct_filter][triples_count.rel.str.startswith('/r/tweet')]"
   ]
  },
  {
   "cell_type": "code",
   "execution_count": 202,
   "metadata": {
    "collapsed": false
   },
   "outputs": [],
   "source": [
    "triples_count_filter[['start','rel','end','weight']].to_csv('triples_count_filter.csv',index=False)"
   ]
  },
  {
   "cell_type": "code",
   "execution_count": null,
   "metadata": {
    "collapsed": true
   },
   "outputs": [],
   "source": []
  }
 ],
 "metadata": {
  "kernelspec": {
   "display_name": "Python 3",
   "language": "python",
   "name": "python3"
  },
  "language_info": {
   "codemirror_mode": {
    "name": "ipython",
    "version": 3
   },
   "file_extension": ".py",
   "mimetype": "text/x-python",
   "name": "python",
   "nbconvert_exporter": "python",
   "pygments_lexer": "ipython3",
   "version": "3.6.4"
  }
 },
 "nbformat": 4,
 "nbformat_minor": 2
}
